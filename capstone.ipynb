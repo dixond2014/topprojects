{
 "cells": [
  {
   "cell_type": "markdown",
   "metadata": {},
   "source": [
    "## 0. Import and Read Data (CURRENTLY WORKING)"
   ]
  },
  {
   "cell_type": "markdown",
   "metadata": {},
   "source": [
    "**IMPORTANT**: This code is written with Python 3 and appropiate installation is required.  "
   ]
  },
  {
   "cell_type": "code",
   "execution_count": 29,
   "metadata": {},
   "outputs": [],
   "source": [
    "import os\n",
    "import pandas as pd\n",
    "import numpy as np\n",
    "from sklearn.preprocessing import MinMaxScaler\n",
    "from sklearn.cluster import KMeans\n",
    "import matplotlib.pyplot as plt\n",
    "import seaborn as sns"
   ]
  },
  {
   "cell_type": "markdown",
   "metadata": {},
   "source": [
    "We first need to read the data to solve the **recommendation** problem."
   ]
  },
  {
   "cell_type": "code",
   "execution_count": 30,
   "metadata": {},
   "outputs": [],
   "source": [
    "#Importing data and setting the index to datetime\n",
    "os.chdir(\"C:\\\\Users\\\\dixon\\\\Desktop\\\\Data Science\")\n",
    "df=pd.read_csv('Online Retail.csv', parse_dates=True, index_col=\"InvoiceDate\")"
   ]
  },
  {
   "cell_type": "markdown",
   "metadata": {},
   "source": [
    "Checked the data to see if there were any missing values and to obtain the types of data. "
   ]
  },
  {
   "cell_type": "code",
   "execution_count": 31,
   "metadata": {},
   "outputs": [
    {
     "name": "stdout",
     "output_type": "stream",
     "text": [
      "<class 'pandas.core.frame.DataFrame'>\n",
      "DatetimeIndex: 541909 entries, 2010-12-01 08:26:00 to 2011-12-09 12:50:00\n",
      "Data columns (total 7 columns):\n",
      "InvoiceNo      541909 non-null object\n",
      "StockCode      541909 non-null object\n",
      "Description    540455 non-null object\n",
      "Quantity       541909 non-null int64\n",
      "UnitPrice      541909 non-null float64\n",
      "CustomerID     406829 non-null float64\n",
      "Country        541909 non-null object\n",
      "dtypes: float64(2), int64(1), object(4)\n",
      "memory usage: 33.1+ MB\n"
     ]
    }
   ],
   "source": [
    "#Checking for missing values\n",
    "df.info()"
   ]
  },
  {
   "cell_type": "markdown",
   "metadata": {},
   "source": [
    "# 00. Data Cleaning"
   ]
  },
  {
   "cell_type": "markdown",
   "metadata": {},
   "source": [
    "We first want to observe the raw data to see if there are things that stick out, also looking for patterns. "
   ]
  },
  {
   "cell_type": "code",
   "execution_count": 32,
   "metadata": {},
   "outputs": [
    {
     "name": "stdout",
     "output_type": "stream",
     "text": [
      "                    InvoiceNo StockCode                          Description  \\\n",
      "InvoiceDate                                                                    \n",
      "2010-12-01 08:26:00    536365    85123A   WHITE HANGING HEART T-LIGHT HOLDER   \n",
      "2010-12-01 08:26:00    536365     71053                  WHITE METAL LANTERN   \n",
      "2010-12-01 08:26:00    536365    84406B       CREAM CUPID HEARTS COAT HANGER   \n",
      "2010-12-01 08:26:00    536365    84029G  KNITTED UNION FLAG HOT WATER BOTTLE   \n",
      "2010-12-01 08:26:00    536365    84029E       RED WOOLLY HOTTIE WHITE HEART.   \n",
      "2010-12-01 08:26:00    536365     22752         SET 7 BABUSHKA NESTING BOXES   \n",
      "2010-12-01 08:26:00    536365     21730    GLASS STAR FROSTED T-LIGHT HOLDER   \n",
      "2010-12-01 08:28:00    536366     22633               HAND WARMER UNION JACK   \n",
      "2010-12-01 08:28:00    536366     22632            HAND WARMER RED POLKA DOT   \n",
      "2010-12-01 08:34:00    536367     84879        ASSORTED COLOUR BIRD ORNAMENT   \n",
      "2010-12-01 08:34:00    536367     22745           POPPY'S PLAYHOUSE BEDROOM    \n",
      "2010-12-01 08:34:00    536367     22748            POPPY'S PLAYHOUSE KITCHEN   \n",
      "2010-12-01 08:34:00    536367     22749    FELTCRAFT PRINCESS CHARLOTTE DOLL   \n",
      "2010-12-01 08:34:00    536367     22310              IVORY KNITTED MUG COSY    \n",
      "2010-12-01 08:34:00    536367     84969   BOX OF 6 ASSORTED COLOUR TEASPOONS   \n",
      "2010-12-01 08:34:00    536367     22623        BOX OF VINTAGE JIGSAW BLOCKS    \n",
      "2010-12-01 08:34:00    536367     22622       BOX OF VINTAGE ALPHABET BLOCKS   \n",
      "2010-12-01 08:34:00    536367     21754             HOME BUILDING BLOCK WORD   \n",
      "2010-12-01 08:34:00    536367     21755             LOVE BUILDING BLOCK WORD   \n",
      "2010-12-01 08:34:00    536367     21777          RECIPE BOX WITH METAL HEART   \n",
      "2010-12-01 08:34:00    536367     48187                  DOORMAT NEW ENGLAND   \n",
      "2010-12-01 08:34:00    536368     22960             JAM MAKING SET WITH JARS   \n",
      "2010-12-01 08:34:00    536368     22913          RED COAT RACK PARIS FASHION   \n",
      "2010-12-01 08:34:00    536368     22912       YELLOW COAT RACK PARIS FASHION   \n",
      "2010-12-01 08:34:00    536368     22914         BLUE COAT RACK PARIS FASHION   \n",
      "2010-12-01 08:35:00    536369     21756             BATH BUILDING BLOCK WORD   \n",
      "2010-12-01 08:45:00    536370     22728            ALARM CLOCK BAKELIKE PINK   \n",
      "2010-12-01 08:45:00    536370     22727            ALARM CLOCK BAKELIKE RED    \n",
      "2010-12-01 08:45:00    536370     22726           ALARM CLOCK BAKELIKE GREEN   \n",
      "2010-12-01 08:45:00    536370     21724      PANDA AND BUNNIES STICKER SHEET   \n",
      "...                       ...       ...                                  ...   \n",
      "2011-12-09 12:31:00    581585     22726           ALARM CLOCK BAKELIKE GREEN   \n",
      "2011-12-09 12:31:00    581585     22727            ALARM CLOCK BAKELIKE RED    \n",
      "2011-12-09 12:31:00    581585     16016          LARGE CHINESE STYLE SCISSOR   \n",
      "2011-12-09 12:31:00    581585     21916      SET 12 RETRO WHITE CHALK STICKS   \n",
      "2011-12-09 12:31:00    581585     84692          BOX OF 24 COCKTAIL PARASOLS   \n",
      "2011-12-09 12:31:00    581585     84946         ANTIQUE SILVER T-LIGHT GLASS   \n",
      "2011-12-09 12:31:00    581585     21684     SMALL MEDINA STAMPED METAL BOWL    \n",
      "2011-12-09 12:31:00    581585     22398           MAGNETS PACK OF 4 SWALLOWS   \n",
      "2011-12-09 12:31:00    581585     23328   SET 6 SCHOOL MILK BOTTLES IN CRATE   \n",
      "2011-12-09 12:31:00    581585     23145       ZINC T-LIGHT HOLDER STAR LARGE   \n",
      "2011-12-09 12:31:00    581585     22466       FAIRY TALE COTTAGE NIGHT LIGHT   \n",
      "2011-12-09 12:49:00    581586     22061  LARGE CAKE STAND  HANGING STRAWBERY   \n",
      "2011-12-09 12:49:00    581586     23275     SET OF 3 HANGING OWLS OLLIE BEAK   \n",
      "2011-12-09 12:49:00    581586     21217        RED RETROSPOT ROUND CAKE TINS   \n",
      "2011-12-09 12:49:00    581586     20685                DOORMAT RED RETROSPOT   \n",
      "2011-12-09 12:50:00    581587     22631             CIRCUS PARADE LUNCH BOX    \n",
      "2011-12-09 12:50:00    581587     22556       PLASTERS IN TIN CIRCUS PARADE    \n",
      "2011-12-09 12:50:00    581587     22555            PLASTERS IN TIN STRONGMAN   \n",
      "2011-12-09 12:50:00    581587     22728            ALARM CLOCK BAKELIKE PINK   \n",
      "2011-12-09 12:50:00    581587     22727            ALARM CLOCK BAKELIKE RED    \n",
      "2011-12-09 12:50:00    581587     22726           ALARM CLOCK BAKELIKE GREEN   \n",
      "2011-12-09 12:50:00    581587     22730           ALARM CLOCK BAKELIKE IVORY   \n",
      "2011-12-09 12:50:00    581587     22367      CHILDRENS APRON SPACEBOY DESIGN   \n",
      "2011-12-09 12:50:00    581587     22629                  SPACEBOY LUNCH BOX    \n",
      "2011-12-09 12:50:00    581587     23256          CHILDRENS CUTLERY SPACEBOY    \n",
      "2011-12-09 12:50:00    581587     22613          PACK OF 20 SPACEBOY NAPKINS   \n",
      "2011-12-09 12:50:00    581587     22899         CHILDREN'S APRON DOLLY GIRL    \n",
      "2011-12-09 12:50:00    581587     23254        CHILDRENS CUTLERY DOLLY GIRL    \n",
      "2011-12-09 12:50:00    581587     23255      CHILDRENS CUTLERY CIRCUS PARADE   \n",
      "2011-12-09 12:50:00    581587     22138        BAKING SET 9 PIECE RETROSPOT    \n",
      "\n",
      "                     Quantity  UnitPrice  CustomerID         Country  \n",
      "InvoiceDate                                                           \n",
      "2010-12-01 08:26:00         6       2.55     17850.0  United Kingdom  \n",
      "2010-12-01 08:26:00         6       3.39     17850.0  United Kingdom  \n",
      "2010-12-01 08:26:00         8       2.75     17850.0  United Kingdom  \n",
      "2010-12-01 08:26:00         6       3.39     17850.0  United Kingdom  \n",
      "2010-12-01 08:26:00         6       3.39     17850.0  United Kingdom  \n",
      "2010-12-01 08:26:00         2       7.65     17850.0  United Kingdom  \n",
      "2010-12-01 08:26:00         6       4.25     17850.0  United Kingdom  \n",
      "2010-12-01 08:28:00         6       1.85     17850.0  United Kingdom  \n",
      "2010-12-01 08:28:00         6       1.85     17850.0  United Kingdom  \n",
      "2010-12-01 08:34:00        32       1.69     13047.0  United Kingdom  \n",
      "2010-12-01 08:34:00         6       2.10     13047.0  United Kingdom  \n",
      "2010-12-01 08:34:00         6       2.10     13047.0  United Kingdom  \n",
      "2010-12-01 08:34:00         8       3.75     13047.0  United Kingdom  \n",
      "2010-12-01 08:34:00         6       1.65     13047.0  United Kingdom  \n",
      "2010-12-01 08:34:00         6       4.25     13047.0  United Kingdom  \n",
      "2010-12-01 08:34:00         3       4.95     13047.0  United Kingdom  \n",
      "2010-12-01 08:34:00         2       9.95     13047.0  United Kingdom  \n",
      "2010-12-01 08:34:00         3       5.95     13047.0  United Kingdom  \n",
      "2010-12-01 08:34:00         3       5.95     13047.0  United Kingdom  \n",
      "2010-12-01 08:34:00         4       7.95     13047.0  United Kingdom  \n",
      "2010-12-01 08:34:00         4       7.95     13047.0  United Kingdom  \n",
      "2010-12-01 08:34:00         6       4.25     13047.0  United Kingdom  \n",
      "2010-12-01 08:34:00         3       4.95     13047.0  United Kingdom  \n",
      "2010-12-01 08:34:00         3       4.95     13047.0  United Kingdom  \n",
      "2010-12-01 08:34:00         3       4.95     13047.0  United Kingdom  \n",
      "2010-12-01 08:35:00         3       5.95     13047.0  United Kingdom  \n",
      "2010-12-01 08:45:00        24       3.75     12583.0          France  \n",
      "2010-12-01 08:45:00        24       3.75     12583.0          France  \n",
      "2010-12-01 08:45:00        12       3.75     12583.0          France  \n",
      "2010-12-01 08:45:00        12       0.85     12583.0          France  \n",
      "...                       ...        ...         ...             ...  \n",
      "2011-12-09 12:31:00         8       3.75     15804.0  United Kingdom  \n",
      "2011-12-09 12:31:00         4       3.75     15804.0  United Kingdom  \n",
      "2011-12-09 12:31:00        10       0.85     15804.0  United Kingdom  \n",
      "2011-12-09 12:31:00        24       0.42     15804.0  United Kingdom  \n",
      "2011-12-09 12:31:00        25       0.42     15804.0  United Kingdom  \n",
      "2011-12-09 12:31:00        12       1.25     15804.0  United Kingdom  \n",
      "2011-12-09 12:31:00        12       0.85     15804.0  United Kingdom  \n",
      "2011-12-09 12:31:00        12       0.39     15804.0  United Kingdom  \n",
      "2011-12-09 12:31:00         4       3.75     15804.0  United Kingdom  \n",
      "2011-12-09 12:31:00        12       0.95     15804.0  United Kingdom  \n",
      "2011-12-09 12:31:00        12       1.95     15804.0  United Kingdom  \n",
      "2011-12-09 12:49:00         8       2.95     13113.0  United Kingdom  \n",
      "2011-12-09 12:49:00        24       1.25     13113.0  United Kingdom  \n",
      "2011-12-09 12:49:00        24       8.95     13113.0  United Kingdom  \n",
      "2011-12-09 12:49:00        10       7.08     13113.0  United Kingdom  \n",
      "2011-12-09 12:50:00        12       1.95     12680.0          France  \n",
      "2011-12-09 12:50:00        12       1.65     12680.0          France  \n",
      "2011-12-09 12:50:00        12       1.65     12680.0          France  \n",
      "2011-12-09 12:50:00         4       3.75     12680.0          France  \n",
      "2011-12-09 12:50:00         4       3.75     12680.0          France  \n",
      "2011-12-09 12:50:00         4       3.75     12680.0          France  \n",
      "2011-12-09 12:50:00         4       3.75     12680.0          France  \n",
      "2011-12-09 12:50:00         8       1.95     12680.0          France  \n",
      "2011-12-09 12:50:00        12       1.95     12680.0          France  \n",
      "2011-12-09 12:50:00         4       4.15     12680.0          France  \n",
      "2011-12-09 12:50:00        12       0.85     12680.0          France  \n",
      "2011-12-09 12:50:00         6       2.10     12680.0          France  \n",
      "2011-12-09 12:50:00         4       4.15     12680.0          France  \n",
      "2011-12-09 12:50:00         4       4.15     12680.0          France  \n",
      "2011-12-09 12:50:00         3       4.95     12680.0          France  \n",
      "\n",
      "[541909 rows x 7 columns]\n"
     ]
    }
   ],
   "source": [
    "#Looking at the data set to observe visual trends\n",
    "print(df)"
   ]
  },
  {
   "cell_type": "markdown",
   "metadata": {},
   "source": [
    "Upon observation, we know the company is completly online, remove the **Country** column. Strip the letters from the **StockCode** column to make an integer and drop the **promotional items** because they were given (Items that were free, or **UnitPrice = 0**. We only care about items customers wanted to buy."
   ]
  },
  {
   "cell_type": "code",
   "execution_count": 33,
   "metadata": {
    "scrolled": true
   },
   "outputs": [
    {
     "name": "stdout",
     "output_type": "stream",
     "text": [
      "                    InvoiceNo StockCode                          Description  \\\n",
      "InvoiceDate                                                                    \n",
      "2010-12-01 08:26:00    536365    85123A   WHITE HANGING HEART T-LIGHT HOLDER   \n",
      "2010-12-01 08:26:00    536365     71053                  WHITE METAL LANTERN   \n",
      "2010-12-01 08:26:00    536365    84406B       CREAM CUPID HEARTS COAT HANGER   \n",
      "2010-12-01 08:26:00    536365    84029G  KNITTED UNION FLAG HOT WATER BOTTLE   \n",
      "2010-12-01 08:26:00    536365    84029E       RED WOOLLY HOTTIE WHITE HEART.   \n",
      "2010-12-01 08:26:00    536365     22752         SET 7 BABUSHKA NESTING BOXES   \n",
      "2010-12-01 08:26:00    536365     21730    GLASS STAR FROSTED T-LIGHT HOLDER   \n",
      "2010-12-01 08:28:00    536366     22633               HAND WARMER UNION JACK   \n",
      "2010-12-01 08:28:00    536366     22632            HAND WARMER RED POLKA DOT   \n",
      "2010-12-01 08:34:00    536367     84879        ASSORTED COLOUR BIRD ORNAMENT   \n",
      "2010-12-01 08:34:00    536367     22745           POPPY'S PLAYHOUSE BEDROOM    \n",
      "2010-12-01 08:34:00    536367     22748            POPPY'S PLAYHOUSE KITCHEN   \n",
      "2010-12-01 08:34:00    536367     22749    FELTCRAFT PRINCESS CHARLOTTE DOLL   \n",
      "2010-12-01 08:34:00    536367     22310              IVORY KNITTED MUG COSY    \n",
      "2010-12-01 08:34:00    536367     84969   BOX OF 6 ASSORTED COLOUR TEASPOONS   \n",
      "2010-12-01 08:34:00    536367     22623        BOX OF VINTAGE JIGSAW BLOCKS    \n",
      "2010-12-01 08:34:00    536367     22622       BOX OF VINTAGE ALPHABET BLOCKS   \n",
      "2010-12-01 08:34:00    536367     21754             HOME BUILDING BLOCK WORD   \n",
      "2010-12-01 08:34:00    536367     21755             LOVE BUILDING BLOCK WORD   \n",
      "2010-12-01 08:34:00    536367     21777          RECIPE BOX WITH METAL HEART   \n",
      "2010-12-01 08:34:00    536367     48187                  DOORMAT NEW ENGLAND   \n",
      "2010-12-01 08:34:00    536368     22960             JAM MAKING SET WITH JARS   \n",
      "2010-12-01 08:34:00    536368     22913          RED COAT RACK PARIS FASHION   \n",
      "2010-12-01 08:34:00    536368     22912       YELLOW COAT RACK PARIS FASHION   \n",
      "2010-12-01 08:34:00    536368     22914         BLUE COAT RACK PARIS FASHION   \n",
      "2010-12-01 08:35:00    536369     21756             BATH BUILDING BLOCK WORD   \n",
      "2010-12-01 08:45:00    536370     22728            ALARM CLOCK BAKELIKE PINK   \n",
      "2010-12-01 08:45:00    536370     22727            ALARM CLOCK BAKELIKE RED    \n",
      "2010-12-01 08:45:00    536370     22726           ALARM CLOCK BAKELIKE GREEN   \n",
      "2010-12-01 08:45:00    536370     21724      PANDA AND BUNNIES STICKER SHEET   \n",
      "...                       ...       ...                                  ...   \n",
      "2011-12-09 12:31:00    581585     22726           ALARM CLOCK BAKELIKE GREEN   \n",
      "2011-12-09 12:31:00    581585     22727            ALARM CLOCK BAKELIKE RED    \n",
      "2011-12-09 12:31:00    581585     16016          LARGE CHINESE STYLE SCISSOR   \n",
      "2011-12-09 12:31:00    581585     21916      SET 12 RETRO WHITE CHALK STICKS   \n",
      "2011-12-09 12:31:00    581585     84692          BOX OF 24 COCKTAIL PARASOLS   \n",
      "2011-12-09 12:31:00    581585     84946         ANTIQUE SILVER T-LIGHT GLASS   \n",
      "2011-12-09 12:31:00    581585     21684     SMALL MEDINA STAMPED METAL BOWL    \n",
      "2011-12-09 12:31:00    581585     22398           MAGNETS PACK OF 4 SWALLOWS   \n",
      "2011-12-09 12:31:00    581585     23328   SET 6 SCHOOL MILK BOTTLES IN CRATE   \n",
      "2011-12-09 12:31:00    581585     23145       ZINC T-LIGHT HOLDER STAR LARGE   \n",
      "2011-12-09 12:31:00    581585     22466       FAIRY TALE COTTAGE NIGHT LIGHT   \n",
      "2011-12-09 12:49:00    581586     22061  LARGE CAKE STAND  HANGING STRAWBERY   \n",
      "2011-12-09 12:49:00    581586     23275     SET OF 3 HANGING OWLS OLLIE BEAK   \n",
      "2011-12-09 12:49:00    581586     21217        RED RETROSPOT ROUND CAKE TINS   \n",
      "2011-12-09 12:49:00    581586     20685                DOORMAT RED RETROSPOT   \n",
      "2011-12-09 12:50:00    581587     22631             CIRCUS PARADE LUNCH BOX    \n",
      "2011-12-09 12:50:00    581587     22556       PLASTERS IN TIN CIRCUS PARADE    \n",
      "2011-12-09 12:50:00    581587     22555            PLASTERS IN TIN STRONGMAN   \n",
      "2011-12-09 12:50:00    581587     22728            ALARM CLOCK BAKELIKE PINK   \n",
      "2011-12-09 12:50:00    581587     22727            ALARM CLOCK BAKELIKE RED    \n",
      "2011-12-09 12:50:00    581587     22726           ALARM CLOCK BAKELIKE GREEN   \n",
      "2011-12-09 12:50:00    581587     22730           ALARM CLOCK BAKELIKE IVORY   \n",
      "2011-12-09 12:50:00    581587     22367      CHILDRENS APRON SPACEBOY DESIGN   \n",
      "2011-12-09 12:50:00    581587     22629                  SPACEBOY LUNCH BOX    \n",
      "2011-12-09 12:50:00    581587     23256          CHILDRENS CUTLERY SPACEBOY    \n",
      "2011-12-09 12:50:00    581587     22613          PACK OF 20 SPACEBOY NAPKINS   \n",
      "2011-12-09 12:50:00    581587     22899         CHILDREN'S APRON DOLLY GIRL    \n",
      "2011-12-09 12:50:00    581587     23254        CHILDRENS CUTLERY DOLLY GIRL    \n",
      "2011-12-09 12:50:00    581587     23255      CHILDRENS CUTLERY CIRCUS PARADE   \n",
      "2011-12-09 12:50:00    581587     22138        BAKING SET 9 PIECE RETROSPOT    \n",
      "\n",
      "                     Quantity  UnitPrice  CustomerID         Country  \n",
      "InvoiceDate                                                           \n",
      "2010-12-01 08:26:00         6       2.55     17850.0  United Kingdom  \n",
      "2010-12-01 08:26:00         6       3.39     17850.0  United Kingdom  \n",
      "2010-12-01 08:26:00         8       2.75     17850.0  United Kingdom  \n",
      "2010-12-01 08:26:00         6       3.39     17850.0  United Kingdom  \n",
      "2010-12-01 08:26:00         6       3.39     17850.0  United Kingdom  \n",
      "2010-12-01 08:26:00         2       7.65     17850.0  United Kingdom  \n",
      "2010-12-01 08:26:00         6       4.25     17850.0  United Kingdom  \n",
      "2010-12-01 08:28:00         6       1.85     17850.0  United Kingdom  \n",
      "2010-12-01 08:28:00         6       1.85     17850.0  United Kingdom  \n",
      "2010-12-01 08:34:00        32       1.69     13047.0  United Kingdom  \n",
      "2010-12-01 08:34:00         6       2.10     13047.0  United Kingdom  \n",
      "2010-12-01 08:34:00         6       2.10     13047.0  United Kingdom  \n",
      "2010-12-01 08:34:00         8       3.75     13047.0  United Kingdom  \n",
      "2010-12-01 08:34:00         6       1.65     13047.0  United Kingdom  \n",
      "2010-12-01 08:34:00         6       4.25     13047.0  United Kingdom  \n",
      "2010-12-01 08:34:00         3       4.95     13047.0  United Kingdom  \n",
      "2010-12-01 08:34:00         2       9.95     13047.0  United Kingdom  \n",
      "2010-12-01 08:34:00         3       5.95     13047.0  United Kingdom  \n",
      "2010-12-01 08:34:00         3       5.95     13047.0  United Kingdom  \n",
      "2010-12-01 08:34:00         4       7.95     13047.0  United Kingdom  \n",
      "2010-12-01 08:34:00         4       7.95     13047.0  United Kingdom  \n",
      "2010-12-01 08:34:00         6       4.25     13047.0  United Kingdom  \n",
      "2010-12-01 08:34:00         3       4.95     13047.0  United Kingdom  \n",
      "2010-12-01 08:34:00         3       4.95     13047.0  United Kingdom  \n",
      "2010-12-01 08:34:00         3       4.95     13047.0  United Kingdom  \n",
      "2010-12-01 08:35:00         3       5.95     13047.0  United Kingdom  \n",
      "2010-12-01 08:45:00        24       3.75     12583.0          France  \n",
      "2010-12-01 08:45:00        24       3.75     12583.0          France  \n",
      "2010-12-01 08:45:00        12       3.75     12583.0          France  \n",
      "2010-12-01 08:45:00        12       0.85     12583.0          France  \n",
      "...                       ...        ...         ...             ...  \n",
      "2011-12-09 12:31:00         8       3.75     15804.0  United Kingdom  \n",
      "2011-12-09 12:31:00         4       3.75     15804.0  United Kingdom  \n",
      "2011-12-09 12:31:00        10       0.85     15804.0  United Kingdom  \n",
      "2011-12-09 12:31:00        24       0.42     15804.0  United Kingdom  \n",
      "2011-12-09 12:31:00        25       0.42     15804.0  United Kingdom  \n",
      "2011-12-09 12:31:00        12       1.25     15804.0  United Kingdom  \n",
      "2011-12-09 12:31:00        12       0.85     15804.0  United Kingdom  \n",
      "2011-12-09 12:31:00        12       0.39     15804.0  United Kingdom  \n",
      "2011-12-09 12:31:00         4       3.75     15804.0  United Kingdom  \n",
      "2011-12-09 12:31:00        12       0.95     15804.0  United Kingdom  \n",
      "2011-12-09 12:31:00        12       1.95     15804.0  United Kingdom  \n",
      "2011-12-09 12:49:00         8       2.95     13113.0  United Kingdom  \n",
      "2011-12-09 12:49:00        24       1.25     13113.0  United Kingdom  \n",
      "2011-12-09 12:49:00        24       8.95     13113.0  United Kingdom  \n",
      "2011-12-09 12:49:00        10       7.08     13113.0  United Kingdom  \n",
      "2011-12-09 12:50:00        12       1.95     12680.0          France  \n",
      "2011-12-09 12:50:00        12       1.65     12680.0          France  \n",
      "2011-12-09 12:50:00        12       1.65     12680.0          France  \n",
      "2011-12-09 12:50:00         4       3.75     12680.0          France  \n",
      "2011-12-09 12:50:00         4       3.75     12680.0          France  \n",
      "2011-12-09 12:50:00         4       3.75     12680.0          France  \n",
      "2011-12-09 12:50:00         4       3.75     12680.0          France  \n",
      "2011-12-09 12:50:00         8       1.95     12680.0          France  \n",
      "2011-12-09 12:50:00        12       1.95     12680.0          France  \n",
      "2011-12-09 12:50:00         4       4.15     12680.0          France  \n",
      "2011-12-09 12:50:00        12       0.85     12680.0          France  \n",
      "2011-12-09 12:50:00         6       2.10     12680.0          France  \n",
      "2011-12-09 12:50:00         4       4.15     12680.0          France  \n",
      "2011-12-09 12:50:00         4       4.15     12680.0          France  \n",
      "2011-12-09 12:50:00         3       4.95     12680.0          France  \n",
      "\n",
      "[530104 rows x 7 columns]\n",
      "<class 'pandas.core.frame.DataFrame'>\n",
      "DatetimeIndex: 530104 entries, 2010-12-01 08:26:00 to 2011-12-09 12:50:00\n",
      "Data columns (total 7 columns):\n",
      "InvoiceNo      530104 non-null object\n",
      "StockCode      530104 non-null object\n",
      "Description    530104 non-null object\n",
      "Quantity       530104 non-null int64\n",
      "UnitPrice      530104 non-null float64\n",
      "CustomerID     397884 non-null float64\n",
      "Country        530104 non-null object\n",
      "dtypes: float64(2), int64(1), object(4)\n",
      "memory usage: 32.4+ MB\n"
     ]
    }
   ],
   "source": [
    "# Drop the Country column because it is not needed.\n",
    "# Remove data where unit price and quantity is positive. \n",
    "df_pos_price = df.loc[lambda df_dropped: (df['UnitPrice'] > 0) & (df['Quantity'] > 0)]\n",
    "# Stip the letters from the StockCode ****Make a float and not strip.\n",
    "### not exactly sure how to create a float from the string.....NOTE!!!!\n",
    "#### Remove, for visual nan or null values\n",
    "df_pos_price['Country'].dropna()\n",
    "df_pos_price['StockCode'].dropna()\n",
    "df_pos_price['UnitPrice'].dropna()\n",
    "# Replace missing values with NaN.\n",
    "print(df_pos_price)\n",
    "df_pos_price.info()"
   ]
  },
  {
   "cell_type": "code",
   "execution_count": 34,
   "metadata": {},
   "outputs": [
    {
     "data": {
      "text/html": [
       "<div>\n",
       "<style scoped>\n",
       "    .dataframe tbody tr th:only-of-type {\n",
       "        vertical-align: middle;\n",
       "    }\n",
       "\n",
       "    .dataframe tbody tr th {\n",
       "        vertical-align: top;\n",
       "    }\n",
       "\n",
       "    .dataframe thead th {\n",
       "        text-align: right;\n",
       "    }\n",
       "</style>\n",
       "<table border=\"1\" class=\"dataframe\">\n",
       "  <thead>\n",
       "    <tr style=\"text-align: right;\">\n",
       "      <th></th>\n",
       "      <th>Quantity</th>\n",
       "      <th>UnitPrice</th>\n",
       "      <th>CustomerID</th>\n",
       "    </tr>\n",
       "  </thead>\n",
       "  <tbody>\n",
       "    <tr>\n",
       "      <th>count</th>\n",
       "      <td>530104.000000</td>\n",
       "      <td>530104.000000</td>\n",
       "      <td>397884.000000</td>\n",
       "    </tr>\n",
       "    <tr>\n",
       "      <th>mean</th>\n",
       "      <td>10.542037</td>\n",
       "      <td>3.907625</td>\n",
       "      <td>15294.423453</td>\n",
       "    </tr>\n",
       "    <tr>\n",
       "      <th>std</th>\n",
       "      <td>155.524124</td>\n",
       "      <td>35.915681</td>\n",
       "      <td>1713.141560</td>\n",
       "    </tr>\n",
       "    <tr>\n",
       "      <th>min</th>\n",
       "      <td>1.000000</td>\n",
       "      <td>0.001000</td>\n",
       "      <td>12346.000000</td>\n",
       "    </tr>\n",
       "    <tr>\n",
       "      <th>25%</th>\n",
       "      <td>1.000000</td>\n",
       "      <td>1.250000</td>\n",
       "      <td>13969.000000</td>\n",
       "    </tr>\n",
       "    <tr>\n",
       "      <th>50%</th>\n",
       "      <td>3.000000</td>\n",
       "      <td>2.080000</td>\n",
       "      <td>15159.000000</td>\n",
       "    </tr>\n",
       "    <tr>\n",
       "      <th>75%</th>\n",
       "      <td>10.000000</td>\n",
       "      <td>4.130000</td>\n",
       "      <td>16795.000000</td>\n",
       "    </tr>\n",
       "    <tr>\n",
       "      <th>max</th>\n",
       "      <td>80995.000000</td>\n",
       "      <td>13541.330000</td>\n",
       "      <td>18287.000000</td>\n",
       "    </tr>\n",
       "  </tbody>\n",
       "</table>\n",
       "</div>"
      ],
      "text/plain": [
       "            Quantity      UnitPrice     CustomerID\n",
       "count  530104.000000  530104.000000  397884.000000\n",
       "mean       10.542037       3.907625   15294.423453\n",
       "std       155.524124      35.915681    1713.141560\n",
       "min         1.000000       0.001000   12346.000000\n",
       "25%         1.000000       1.250000   13969.000000\n",
       "50%         3.000000       2.080000   15159.000000\n",
       "75%        10.000000       4.130000   16795.000000\n",
       "max     80995.000000   13541.330000   18287.000000"
      ]
     },
     "execution_count": 34,
     "metadata": {},
     "output_type": "execute_result"
    }
   ],
   "source": [
    "df_pos_price.describe()"
   ]
  },
  {
   "cell_type": "markdown",
   "metadata": {},
   "source": [
    "# 1. Visuals"
   ]
  },
  {
   "cell_type": "code",
   "execution_count": 35,
   "metadata": {},
   "outputs": [
    {
     "data": {
      "image/png": "[encoded data removed]",
      "text/plain": [
       "<Figure size 432x288 with 1 Axes>"
      ]
     },
     "metadata": {
      "needs_background": "light"
     },
     "output_type": "display_data"
    }
   ],
   "source": [
    "_ = plt.plot(df_pos_price['Country'],df_pos_price['UnitPrice'],marker='.',linestyle='none')\n",
    "_ = plt.xlabel('Countries')\n",
    "plt.xticks(rotation=90)\n",
    "_ = plt.ylabel('Unit Price')\n",
    "plt.show()"
   ]
  },
  {
   "cell_type": "code",
   "execution_count": 36,
   "metadata": {},
   "outputs": [],
   "source": [
    "country_purchase = df_pos_price.groupby('Country').InvoiceNo.value_counts()\n",
    "country_unitprice = df_pos_price.groupby('Country').UnitPrice.value_counts()"
   ]
  },
  {
   "cell_type": "code",
   "execution_count": 37,
   "metadata": {},
   "outputs": [
    {
     "data": {
      "text/plain": [
       "<matplotlib.axes._subplots.AxesSubplot at 0x1d7e2e77ba8>"
      ]
     },
     "execution_count": 37,
     "metadata": {},
     "output_type": "execute_result"
    },
    {
     "data": {
      "image/png": "[encoded data removed]",
      "text/plain": [
       "<Figure size 576x2160 with 3 Axes>"
      ]
     },
     "metadata": {
      "needs_background": "light"
     },
     "output_type": "display_data"
    }
   ],
   "source": [
    "plt.figure(figsize=(8,30))\n",
    "plt.subplot(3,1,1); df_pos_price.Country.value_counts().plot(kind='bar')\n",
    "plt.subplot(3,1,2); df_pos_price.UnitPrice.value_counts().plot(kind='box')\n",
    "plt.subplot(3,1,3); df_pos_price.Quantity.value_counts().plot(kind='box')"
   ]
  },
  {
   "cell_type": "code",
   "execution_count": 44,
   "metadata": {},
   "outputs": [],
   "source": [
    "### Test avg mean of unit prce/ctry and avg item sold/contry\n",
    "### group by country and look at the avgs above\n",
    "UnitPrice_mean = df_pos_price.groupby('Country').UnitPrice.mean()\n",
    "UnitPrice_std = df_pos_price.groupby('Country').UnitPrice.std()"
   ]
  },
  {
   "cell_type": "code",
   "execution_count": 39,
   "metadata": {},
   "outputs": [
    {
     "data": {
      "text/plain": [
       "Country\n",
       "Australia               70.982234\n",
       "Austria                 12.263819\n",
       "Bahrain                 17.444444\n",
       "Belgium                 11.441162\n",
       "Brazil                  11.125000\n",
       "Canada                  18.298013\n",
       "Channel Islands         12.688503\n",
       "Cyprus                  10.359935\n",
       "Czech Republic          26.840000\n",
       "Denmark                 21.671053\n",
       "EIRE                    18.653105\n",
       "European Community       8.316667\n",
       "Finland                 15.626277\n",
       "France                  13.334483\n",
       "Germany                 13.192588\n",
       "Greece                  10.737931\n",
       "Hong Kong               16.806338\n",
       "Iceland                 13.505495\n",
       "Israel                  14.945763\n",
       "Italy                   10.701847\n",
       "Japan                   81.046729\n",
       "Lebanon                  8.577778\n",
       "Lithuania               18.628571\n",
       "Malta                    8.660714\n",
       "Netherlands             84.934718\n",
       "Norway                  18.054155\n",
       "Poland                  11.163636\n",
       "Portugal                10.831446\n",
       "RSA                      6.157895\n",
       "Saudi Arabia             8.888889\n",
       "Singapore               23.608108\n",
       "Spain                   11.247987\n",
       "Sweden                  80.006652\n",
       "Switzerland             15.579349\n",
       "USA                     13.731844\n",
       "United Arab Emirates    14.441176\n",
       "United Kingdom           9.610738\n",
       "Unspecified              7.399103\n",
       "Name: Quantity, dtype: float64"
      ]
     },
     "execution_count": 39,
     "metadata": {},
     "output_type": "execute_result"
    }
   ],
   "source": [
    "total_item = len(df_pos_price.groupby('StockCode'))\n",
    "df_pos_price.groupby('Country').Quantity.mean()"
   ]
  },
  {
   "cell_type": "markdown",
   "metadata": {},
   "source": [
    "# 2. Data Manipulation"
   ]
  },
  {
   "cell_type": "markdown",
   "metadata": {},
   "source": [
    "We first need to see how many customers bought items. To give an accurate recommendation, we want to make sure the data we are observing is based on frequent shoppers, and not periodic or one-time shoppers. To do so, we need to first observe the data by the actual **CustomerID** where we then want to see how many items each customer purchased."
   ]
  },
  {
   "cell_type": "code",
   "execution_count": 40,
   "metadata": {
    "scrolled": true
   },
   "outputs": [
    {
     "name": "stdout",
     "output_type": "stream",
     "text": [
      "            InvoiceNo  StockCode  Description  Quantity  UnitPrice  Country\n",
      "CustomerID                                                                 \n",
      "12346.0             1          1            1         1          1        1\n",
      "12347.0           182        182          182       182        182      182\n",
      "12348.0            31         31           31        31         31       31\n",
      "12349.0            73         73           73        73         73       73\n",
      "12350.0            17         17           17        17         17       17\n",
      "12352.0            85         85           85        85         85       85\n",
      "12353.0             4          4            4         4          4        4\n",
      "12354.0            58         58           58        58         58       58\n",
      "12355.0            13         13           13        13         13       13\n",
      "12356.0            59         59           59        59         59       59\n",
      "12357.0           131        131          131       131        131      131\n",
      "12358.0            19         19           19        19         19       19\n",
      "12359.0           248        248          248       248        248      248\n",
      "12360.0           129        129          129       129        129      129\n",
      "12361.0            10         10           10        10         10       10\n",
      "12362.0           266        266          266       266        266      266\n",
      "12363.0            23         23           23        23         23       23\n",
      "12364.0            85         85           85        85         85       85\n",
      "12365.0            22         22           22        22         22       22\n",
      "12367.0            11         11           11        11         11       11\n",
      "12370.0           167        167          167       167        167      167\n",
      "12371.0            63         63           63        63         63       63\n",
      "12372.0            52         52           52        52         52       52\n",
      "12373.0            14         14           14        14         14       14\n",
      "12374.0            33         33           33        33         33       33\n",
      "12375.0            17         17           17        17         17       17\n",
      "12377.0            77         77           77        77         77       77\n",
      "12378.0           219        219          219       219        219      219\n",
      "12379.0            40         40           40        40         40       40\n",
      "12380.0           104        104          104       104        104      104\n",
      "...               ...        ...          ...       ...        ...      ...\n",
      "18242.0            78         78           78        78         78       78\n",
      "18245.0           175        175          175       175        175      175\n",
      "18246.0             4          4            4         4          4        4\n",
      "18248.0            47         47           47        47         47       47\n",
      "18249.0             8          8            8         8          8        8\n",
      "18250.0            21         21           21        21         21       21\n",
      "18251.0            16         16           16        16         16       16\n",
      "18252.0            98         98           98        98         98       98\n",
      "18255.0             6          6            6         6          6        6\n",
      "18257.0           118        118          118       118        118      118\n",
      "18259.0            42         42           42        42         42       42\n",
      "18260.0           134        134          134       134        134      134\n",
      "18261.0            21         21           21        21         21       21\n",
      "18262.0            13         13           13        13         13       13\n",
      "18263.0            61         61           61        61         61       61\n",
      "18265.0            46         46           46        46         46       46\n",
      "18268.0             1          1            1         1          1        1\n",
      "18269.0             7          7            7         7          7        7\n",
      "18270.0            11         11           11        11         11       11\n",
      "18272.0           166        166          166       166        166      166\n",
      "18273.0             3          3            3         3          3        3\n",
      "18274.0            11         11           11        11         11       11\n",
      "18276.0            14         14           14        14         14       14\n",
      "18277.0             8          8            8         8          8        8\n",
      "18278.0             9          9            9         9          9        9\n",
      "18280.0            10         10           10        10         10       10\n",
      "18281.0             7          7            7         7          7        7\n",
      "18282.0            12         12           12        12         12       12\n",
      "18283.0           756        756          756       756        756      756\n",
      "18287.0            70         70           70        70         70       70\n",
      "\n",
      "[4338 rows x 6 columns]\n"
     ]
    }
   ],
   "source": [
    "#observe the data where we have all column data \n",
    "CustomerID = df_pos_price.groupby('CustomerID').count()\n",
    "print(CustomerID)"
   ]
  },
  {
   "cell_type": "markdown",
   "metadata": {},
   "source": [
    "We now want to remove the customers that did not purchase more than 50 times at the store. We only want customers who have purchased at least 50 times, therefore, we look at the **InvoiceNo** column and manipulate, accordingly. "
   ]
  },
  {
   "cell_type": "code",
   "execution_count": 13,
   "metadata": {},
   "outputs": [
    {
     "name": "stdout",
     "output_type": "stream",
     "text": [
      "            InvoiceNo  StockCode  Description  Quantity  UnitPrice  Country\n",
      "CustomerID                                                                 \n",
      "12347.0           182        182          182       182        182      182\n",
      "12349.0            73         73           73        73         73       73\n",
      "12352.0            85         85           85        85         85       85\n",
      "12354.0            58         58           58        58         58       58\n",
      "12356.0            59         59           59        59         59       59\n",
      "12357.0           131        131          131       131        131      131\n",
      "12359.0           248        248          248       248        248      248\n",
      "12360.0           129        129          129       129        129      129\n",
      "12362.0           266        266          266       266        266      266\n",
      "12364.0            85         85           85        85         85       85\n",
      "12370.0           167        167          167       167        167      167\n",
      "12371.0            63         63           63        63         63       63\n",
      "12372.0            52         52           52        52         52       52\n",
      "12377.0            77         77           77        77         77       77\n",
      "12378.0           219        219          219       219        219      219\n",
      "12380.0           104        104          104       104        104      104\n",
      "12381.0            87         87           87        87         87       87\n",
      "12383.0            99         99           99        99         99       99\n",
      "12388.0           100        100          100       100        100      100\n",
      "12391.0           100        100          100       100        100      100\n",
      "12393.0            64         64           64        64         64       64\n",
      "12395.0           156        156          156       156        156      156\n",
      "12397.0           126        126          126       126        126      126\n",
      "12398.0            85         85           85        85         85       85\n",
      "12399.0            59         59           59        59         59       59\n",
      "12405.0            54         54           54        54         54       54\n",
      "12406.0           105        105          105       105        105      105\n",
      "12407.0            77         77           77        77         77       77\n",
      "12408.0           105        105          105       105        105      105\n",
      "12409.0           109        109          109       109        109      109\n",
      "...               ...        ...          ...       ...        ...      ...\n",
      "18179.0            90         90           90        90         90       90\n",
      "18180.0           119        119          119       119        119      119\n",
      "18188.0            71         71           71        71         71       71\n",
      "18189.0            68         68           68        68         68       68\n",
      "18196.0           141        141          141       141        141      141\n",
      "18198.0           159        159          159       159        159      159\n",
      "18202.0            68         68           68        68         68       68\n",
      "18204.0           200        200          200       200        200      200\n",
      "18210.0           134        134          134       134        134      134\n",
      "18219.0           114        114          114       114        114      114\n",
      "18221.0            64         64           64        64         64       64\n",
      "18223.0           272        272          272       272        272      272\n",
      "18225.0           271        271          271       271        271      271\n",
      "18226.0           242        242          242       242        242      242\n",
      "18229.0           164        164          164       164        164      164\n",
      "18230.0            86         86           86        86         86       86\n",
      "18231.0           124        124          124       124        124      124\n",
      "18235.0           104        104          104       104        104      104\n",
      "18237.0            61         61           61        61         61       61\n",
      "18239.0            88         88           88        88         88       88\n",
      "18241.0           104        104          104       104        104      104\n",
      "18242.0            78         78           78        78         78       78\n",
      "18245.0           175        175          175       175        175      175\n",
      "18252.0            98         98           98        98         98       98\n",
      "18257.0           118        118          118       118        118      118\n",
      "18260.0           134        134          134       134        134      134\n",
      "18263.0            61         61           61        61         61       61\n",
      "18272.0           166        166          166       166        166      166\n",
      "18283.0           756        756          756       756        756      756\n",
      "18287.0            70         70           70        70         70       70\n",
      "\n",
      "[1908 rows x 6 columns]\n"
     ]
    }
   ],
   "source": [
    "# Customers less than 50 orders\n",
    "df_clean=CustomerID.loc[lambda CustomerID: CustomerID['InvoiceNo'] > 50]\n",
    "print(df_clean)"
   ]
  },
  {
   "cell_type": "markdown",
   "metadata": {},
   "source": [
    "Create a DataFrame that indexed by the **StockCode** and use the **CustomerID** as the columns where we figured the values to be the **Quantity** shared between them. Normalize the data."
   ]
  },
  {
   "cell_type": "code",
   "execution_count": 14,
   "metadata": {
    "scrolled": true
   },
   "outputs": [
    {
     "name": "stdout",
     "output_type": "stream",
     "text": [
      "[[0.01680349 0.01680349 0.01680349 0.01680349 0.01680349 0.01680349]\n",
      " [0.00282196 0.00282196 0.00282196 0.00282196 0.00282196 0.00282196]\n",
      " [0.00436121 0.00436121 0.00436121 0.00436121 0.00436121 0.00436121]\n",
      " ...\n",
      " [0.01475115 0.01475115 0.01475115 0.01475115 0.01475115 0.01475115]\n",
      " [0.09043099 0.09043099 0.09043099 0.09043099 0.09043099 0.09043099]\n",
      " [0.00243715 0.00243715 0.00243715 0.00243715 0.00243715 0.00243715]]\n"
     ]
    },
    {
     "name": "stderr",
     "output_type": "stream",
     "text": [
      "C:\\Users\\dixon\\Anaconda3\\lib\\site-packages\\sklearn\\preprocessing\\data.py:334: DataConversionWarning: Data with input dtype int64 were all converted to float64 by MinMaxScaler.\n",
      "  return self.partial_fit(X, y)\n"
     ]
    }
   ],
   "source": [
    "# New DataFrame created to view the relationship between the custumer and the items purchased filling NaN with 0.\n",
    "cluster1 = df_clean.pivot_table(index='StockCode', columns='CustomerID', values='Quantity', aggfunc = np.sum).fillna(value=0)\n",
    "# Normalizing the data.\n",
    "cluster1_minmax = MinMaxScaler().fit_transform(df_clean)\n",
    "print(cluster1_minmax)"
   ]
  },
  {
   "cell_type": "markdown",
   "metadata": {},
   "source": [
    "Figured out the *optimal* **k** (number of clusters) for the DataFrame using the **Elbow Method** by obtaining initializing a range of values for **k**. We then plot this data to observe the plot for the **Elbow Point** which gives the optimal **k**. "
   ]
  },
  {
   "cell_type": "code",
   "execution_count": 15,
   "metadata": {},
   "outputs": [],
   "source": [
    "# Gave a range for K to obtain the list of K values\n",
    "Sum_of_squared = []\n",
    "K = range(1,20)\n",
    "for k in K:\n",
    "    km = KMeans(n_clusters=k)\n",
    "    km = km.fit(cluster1_minmax)\n",
    "    Sum_of_squared.append(km.inertia_)"
   ]
  },
  {
   "cell_type": "code",
   "execution_count": 16,
   "metadata": {},
   "outputs": [
    {
     "data": {
      "image/png": "[encoded data removed]",
      "text/plain": [
       "<Figure size 432x288 with 1 Axes>"
      ]
     },
     "metadata": {
      "needs_background": "light"
     },
     "output_type": "display_data"
    }
   ],
   "source": [
    "# Create the plot that will produce the elbow plot to give optimal value of k.\n",
    "plt.plot(K, Sum_of_squared, 'bx-')\n",
    "plt.xlabel('k')\n",
    "plt.ylabel('Sum_of_squares')\n",
    "plt.title('Elbow Method For Optimal k')\n",
    "plt.show()"
   ]
  },
  {
   "cell_type": "markdown",
   "metadata": {},
   "source": [
    "Create a DataFrame that indexed by the **CustomerID** and use the **StockCode** as the columns where we figured the values to be the **Quantity** shared between them. Normalize the data."
   ]
  },
  {
   "cell_type": "code",
   "execution_count": 17,
   "metadata": {},
   "outputs": [
    {
     "name": "stdout",
     "output_type": "stream",
     "text": [
      "[[0.01680349 0.01680349 0.01680349 0.01680349 0.01680349 0.01680349]\n",
      " [0.00282196 0.00282196 0.00282196 0.00282196 0.00282196 0.00282196]\n",
      " [0.00436121 0.00436121 0.00436121 0.00436121 0.00436121 0.00436121]\n",
      " ...\n",
      " [0.01475115 0.01475115 0.01475115 0.01475115 0.01475115 0.01475115]\n",
      " [0.09043099 0.09043099 0.09043099 0.09043099 0.09043099 0.09043099]\n",
      " [0.00243715 0.00243715 0.00243715 0.00243715 0.00243715 0.00243715]]\n"
     ]
    },
    {
     "name": "stderr",
     "output_type": "stream",
     "text": [
      "C:\\Users\\dixon\\Anaconda3\\lib\\site-packages\\sklearn\\preprocessing\\data.py:334: DataConversionWarning: Data with input dtype int64 were all converted to float64 by MinMaxScaler.\n",
      "  return self.partial_fit(X, y)\n"
     ]
    }
   ],
   "source": [
    "# New DataFrame created to view the relationship between the custumer and the items purchased filling NaN with 0.\n",
    "cluster2 = df_clean.pivot_table(index='CustomerID', columns='StockCode', values='Quantity', aggfunc = np.sum).fillna(value=0)\n",
    "# Normalized the data.\n",
    "cluster2_minmax = MinMaxScaler().fit_transform(df_clean)\n",
    "print(cluster2_minmax)"
   ]
  },
  {
   "cell_type": "code",
   "execution_count": 18,
   "metadata": {
    "scrolled": true
   },
   "outputs": [
    {
     "name": "stdout",
     "output_type": "stream",
     "text": [
      "[9 9 9 ... 9 9 9]\n",
      "0    9.249476\n",
      "dtype: float64\n",
      "      CustomerID  Unnamed 0\n",
      "0        12347.0        9.0\n",
      "1        12349.0        9.0\n",
      "2        12352.0        9.0\n",
      "3        12354.0        9.0\n",
      "4        12356.0        9.0\n",
      "5        12357.0        9.0\n",
      "6        12359.0        9.0\n",
      "7        12360.0        9.0\n",
      "8        12362.0        9.0\n",
      "9        12364.0        9.0\n",
      "10       12370.0        9.0\n",
      "11       12371.0        9.0\n",
      "12       12372.0        9.0\n",
      "13       12377.0        9.0\n",
      "14       12378.0        9.0\n",
      "15       12380.0        9.0\n",
      "16       12381.0        9.0\n",
      "17       12383.0        9.0\n",
      "18       12388.0        9.0\n",
      "19       12391.0        9.0\n",
      "20       12393.0        9.0\n",
      "21       12395.0        9.0\n",
      "22       12397.0        9.0\n",
      "23       12398.0        9.0\n",
      "24       12399.0        9.0\n",
      "25       12405.0        9.0\n",
      "26       12406.0        9.0\n",
      "27       12407.0        9.0\n",
      "28       12408.0        9.0\n",
      "29       12409.0        9.0\n",
      "...          ...        ...\n",
      "1878     18179.0        9.0\n",
      "1879     18180.0        9.0\n",
      "1880     18188.0        9.0\n",
      "1881     18189.0        9.0\n",
      "1882     18196.0        9.0\n",
      "1883     18198.0        9.0\n",
      "1884     18202.0        9.0\n",
      "1885     18204.0        9.0\n",
      "1886     18210.0        9.0\n",
      "1887     18219.0        9.0\n",
      "1888     18221.0        9.0\n",
      "1889     18223.0        9.0\n",
      "1890     18225.0        9.0\n",
      "1891     18226.0        9.0\n",
      "1892     18229.0        9.0\n",
      "1893     18230.0        9.0\n",
      "1894     18231.0        9.0\n",
      "1895     18235.0        9.0\n",
      "1896     18237.0        9.0\n",
      "1897     18239.0        9.0\n",
      "1898     18241.0        9.0\n",
      "1899     18242.0        9.0\n",
      "1900     18245.0        9.0\n",
      "1901     18252.0        9.0\n",
      "1902     18257.0        9.0\n",
      "1903     18260.0        9.0\n",
      "1904     18263.0        9.0\n",
      "1905     18272.0        9.0\n",
      "1906     18283.0        9.0\n",
      "1907     18287.0        9.0\n",
      "\n",
      "[1908 rows x 2 columns]\n"
     ]
    }
   ],
   "source": [
    "kmeans = KMeans(n_clusters=40)\n",
    "kmeans.fit(cluster2)\n",
    "labels = kmeans.predict(cluster2) ## this is the cluster number rows==(custid,clusternum)\n",
    "print(labels)\n",
    "print(pd.DataFrame(labels).mean())\n",
    "df = np.transpose(pd.DataFrame([cluster2.reset_index().CustomerID,labels]))\n",
    "### df_clean=CustomerID.loc[lambda CustomerID: CustomerID['InvoiceNo'] > 50]\n",
    "print(df)"
   ]
  },
  {
   "cell_type": "markdown",
   "metadata": {},
   "source": [
    "## 2.1 Recommendation (Clustering)"
   ]
  },
  {
   "cell_type": "markdown",
   "metadata": {},
   "source": [
    "Figured out the *optimal* **k** (number of clusters) for the DataFrame using the **Elbow Method** by obtaining initializing a range of values for **k**. We then plot this data to observe the plot for the **Elbow Point** which gives the optimal **k**. "
   ]
  },
  {
   "cell_type": "code",
   "execution_count": 19,
   "metadata": {},
   "outputs": [
    {
     "name": "stdout",
     "output_type": "stream",
     "text": [
      "[19.654386301617127, 7.131771146602875, 3.601365940706632, 2.018368630758498, 1.4705880136312974, 0.9243842097817921, 0.6055515067677819, 0.4391616249734923, 0.3489550235342511, 0.2640905793760662, 0.21275187154440717, 0.1686034601422387, 0.14276488147445224, 0.12557403764808367, 0.1057652161645241, 0.09174101415605822, 0.0775423081492887, 0.06331469436809993, 0.056024748024574786]\n"
     ]
    }
   ],
   "source": [
    "# Gave a range for K to obtain the set of K values\n",
    "Sum_of_squared2 = []\n",
    "K = range(1,20)\n",
    "for k in K:\n",
    "    km = KMeans(n_clusters=k)\n",
    "    km = km.fit(cluster2_minmax)\n",
    "    Sum_of_squared2.append(km.inertia_)\n",
    "print(Sum_of_squared2)"
   ]
  },
  {
   "cell_type": "code",
   "execution_count": 20,
   "metadata": {},
   "outputs": [
    {
     "data": {
      "image/png": "[encoded data removed]",
      "text/plain": [
       "<Figure size 432x288 with 1 Axes>"
      ]
     },
     "metadata": {
      "needs_background": "light"
     },
     "output_type": "display_data"
    }
   ],
   "source": [
    "# Create the plot that will produce the elbow plot to give optimal value of k.\n",
    "plt.plot(K, Sum_of_squared2, 'bx-')\n",
    "plt.xlabel('k')\n",
    "plt.ylabel('Sum_of_squares')\n",
    "plt.title('Elbow Method For Optimal k')\n",
    "plt.show()"
   ]
  },
  {
   "cell_type": "markdown",
   "metadata": {},
   "source": [
    "From observations above, it seems the the optimal K=10. We now can use this to give the number of recommended products of most purchased. "
   ]
  },
  {
   "cell_type": "markdown",
   "metadata": {},
   "source": [
    "## 2.2 Recommendation (Most Purchased item)"
   ]
  },
  {
   "cell_type": "markdown",
   "metadata": {},
   "source": [
    "We want to figure out how many of each product was purchased. Therefore, we need to group our original data by the **StockCode** to see how many customers purchased the item. This will allow us to see which item was purchased the most of all items. Once we have this data, we now recommend this item to all customers. "
   ]
  },
  {
   "cell_type": "code",
   "execution_count": 21,
   "metadata": {},
   "outputs": [
    {
     "name": "stdout",
     "output_type": "stream",
     "text": [
      "StockCode\n",
      "85123A    2035\n",
      "22423     1723\n",
      "85099B    1618\n",
      "84879     1408\n",
      "47566     1396\n",
      "Name: CustomerID, dtype: int64\n"
     ]
    }
   ],
   "source": [
    "rec1 = pd.DataFrame(df_pos_price.groupby('StockCode').count().sort_values(by='CustomerID',ascending=False))\n",
    "most_purchased = rec1['CustomerID'].head()\n",
    "print(most_purchased)"
   ]
  },
  {
   "cell_type": "markdown",
   "metadata": {},
   "source": [
    "## 2.3 Recommendation (New Items purchased)"
   ]
  },
  {
   "cell_type": "markdown",
   "metadata": {},
   "source": [
    "Extract the products that only **one** customer purchased. These products that are considered **new** since it has no purchase history. Recommend this product to all customers."
   ]
  },
  {
   "cell_type": "code",
   "execution_count": 22,
   "metadata": {},
   "outputs": [
    {
     "name": "stdout",
     "output_type": "stream",
     "text": [
      "StockCode\n",
      "90201B    10\n",
      "22871     10\n",
      "84796A    10\n",
      "85055     10\n",
      "23024     10\n",
      "84925D    10\n",
      "84466     10\n",
      "22486     10\n",
      "85045     10\n",
      "17090A    10\n",
      "90199C    10\n",
      "85095     10\n",
      "90082A    10\n",
      "90162B    10\n",
      "84816     10\n",
      "47591B    10\n",
      "21761     10\n",
      "81950B    10\n",
      "84800S    10\n",
      "20696     10\n",
      "82011A    10\n",
      "90198A    10\n",
      "79337     10\n",
      "23478     10\n",
      "84247K    10\n",
      "84631     10\n",
      "21413     10\n",
      "85130A    10\n",
      "23442     10\n",
      "85019C    10\n",
      "          ..\n",
      "21120      0\n",
      "51014c     0\n",
      "20960      0\n",
      "20954      0\n",
      "84923      0\n",
      "84993a     0\n",
      "18098c     0\n",
      "90126A     0\n",
      "21082      0\n",
      "21144      0\n",
      "37474      0\n",
      "85040a     0\n",
      "37491A     0\n",
      "85039a     0\n",
      "85036b     0\n",
      "84997c     0\n",
      "85036a     0\n",
      "85035c     0\n",
      "85035b     0\n",
      "85035a     0\n",
      "85034b     0\n",
      "85034a     0\n",
      "46776a     0\n",
      "46776b     0\n",
      "46776e     0\n",
      "46776f     0\n",
      "85014b     0\n",
      "85014a     0\n",
      "84997d     0\n",
      "m          0\n",
      "Name: CustomerID, Length: 1091, dtype: int64\n"
     ]
    }
   ],
   "source": [
    "new_prod = rec1.loc[lambda rec1: rec1['CustomerID'] <= 10].sort_values(by = 'CustomerID', ascending = False)\n",
    "new_product = new_prod['CustomerID']\n",
    "print(new_product)"
   ]
  },
  {
   "cell_type": "code",
   "execution_count": 23,
   "metadata": {},
   "outputs": [
    {
     "name": "stdout",
     "output_type": "stream",
     "text": [
      "    StockCode  InvoiceNo  Description  Quantity  UnitPrice  CustomerID  \\\n",
      "647     22423       2017         2017      2017       2017        1723   \n",
      "\n",
      "     Country  \n",
      "647     2017  \n",
      "    StockCode  InvoiceNo  Description  Quantity  UnitPrice  CustomerID  \\\n",
      "72      20725       1595         1595      1595       1595        1317   \n",
      "65      22457       1263         1263      1263       1263         980   \n",
      "299     22699       1083         1083      1083       1083         801   \n",
      "26      22726       1000         1000      1000       1000         808   \n",
      "33      20914        903          903       903        903         784   \n",
      "126     22910        838          838       838        838         713   \n",
      "38     85099F        824          824       824        824         664   \n",
      "18      22090        804          804       804        804         573   \n",
      "160     22907        703          703       703        703         565   \n",
      "114     85152        683          683       683        683         596   \n",
      "162     79321        670          670       670        670         524   \n",
      "258     22952        649          649       649        649         496   \n",
      "118     82580        636          636       636        636         388   \n",
      "208     22621        621          621       621        621         521   \n",
      "17      22555        530          530       530        530         461   \n",
      "153     21231        514          514       514        514         386   \n",
      "109     22427        512          512       512        512         447   \n",
      "86      22173        500          500       500        500         342   \n",
      "289     23343        489          489       489        489         396   \n",
      "262     85150        481          481       481        481         369   \n",
      "46      23243        474          474       474        474         389   \n",
      "227     23313        413          413       413        413         371   \n",
      "279     21918        373          373       373        373         286   \n",
      "0       22795        372          372       372        372         291   \n",
      "103     82552        371          371       371        371         299   \n",
      "248     21982        371          371       371        371         271   \n",
      "164     21877        355          355       355        355         299   \n",
      "196     22151        340          340       340        340         297   \n",
      "189     23583        338          338       338        338         311   \n",
      "187     71477        321          321       321        321         268   \n",
      "..        ...        ...          ...       ...        ...         ...   \n",
      "92     84415B          3            3         3          3           2   \n",
      "207    90176E          3            3         3          3           2   \n",
      "49      79336          3            3         3          3           3   \n",
      "280    90025D          3            3         3          3           0   \n",
      "129    35809B          3            3         3          3           3   \n",
      "219    37488A          3            3         3          3           3   \n",
      "94      90077          3            3         3          3           0   \n",
      "249    85231b          3            3         3          3           0   \n",
      "141     20827          2            2         2          2           2   \n",
      "243    84732D          2            2         2          2           2   \n",
      "192     21538          2            2         2          2           2   \n",
      "161     35647          2            2         2          2           2   \n",
      "31     90128A          2            2         2          2           0   \n",
      "286    84660b          2            2         2          2           0   \n",
      "77      44228          2            2         2          2           2   \n",
      "76      21228          2            2         2          2           2   \n",
      "185    35598C          2            2         2          2           2   \n",
      "202    79192A          2            2         2          2           2   \n",
      "106     22145          1            1         1          1           1   \n",
      "215     84977          1            1         1          1           0   \n",
      "123     84854          1            1         1          1           1   \n",
      "292     17001          1            1         1          1           1   \n",
      "239     90069          1            1         1          1           1   \n",
      "51      23605          1            1         1          1           0   \n",
      "132    85160A          1            1         1          1           0   \n",
      "89     46776e          1            1         1          1           0   \n",
      "48     84743C          1            1         1          1           1   \n",
      "252    79323P          1            1         1          1           1   \n",
      "159     21268          1            1         1          1           1   \n",
      "214     22323          1            1         1          1           1   \n",
      "\n",
      "     Country  \n",
      "72      1595  \n",
      "65      1263  \n",
      "299     1083  \n",
      "26      1000  \n",
      "33       903  \n",
      "126      838  \n",
      "38       824  \n",
      "18       804  \n",
      "160      703  \n",
      "114      683  \n",
      "162      670  \n",
      "258      649  \n",
      "118      636  \n",
      "208      621  \n",
      "17       530  \n",
      "153      514  \n",
      "109      512  \n",
      "86       500  \n",
      "289      489  \n",
      "262      481  \n",
      "46       474  \n",
      "227      413  \n",
      "279      373  \n",
      "0        372  \n",
      "103      371  \n",
      "248      371  \n",
      "164      355  \n",
      "196      340  \n",
      "189      338  \n",
      "187      321  \n",
      "..       ...  \n",
      "92         3  \n",
      "207        3  \n",
      "49         3  \n",
      "280        3  \n",
      "129        3  \n",
      "219        3  \n",
      "94         3  \n",
      "249        3  \n",
      "141        2  \n",
      "243        2  \n",
      "192        2  \n",
      "161        2  \n",
      "31         2  \n",
      "286        2  \n",
      "77         2  \n",
      "76         2  \n",
      "185        2  \n",
      "202        2  \n",
      "106        1  \n",
      "215        1  \n",
      "123        1  \n",
      "292        1  \n",
      "239        1  \n",
      "51         1  \n",
      "132        1  \n",
      "89         1  \n",
      "48         1  \n",
      "252        1  \n",
      "159        1  \n",
      "214        1  \n",
      "\n",
      "[304 rows x 7 columns]\n"
     ]
    }
   ],
   "source": [
    "rec1 = rec1.sample(frac = 1) \n",
    "df_train = rec1.head(2734).reset_index().sort_values('InvoiceNo',ascending=False)\n",
    "df_test = rec1.tail(304).reset_index().sort_values('InvoiceNo', ascending = False)\n",
    "print(df_train[df_train['StockCode'].isin(['85123','22423','20725'])])\n",
    "print(df_test)"
   ]
  },
  {
   "cell_type": "code",
   "execution_count": 24,
   "metadata": {},
   "outputs": [
    {
     "ename": "SyntaxError",
     "evalue": "invalid syntax (<ipython-input-24-921b6e7ff2a7>, line 3)",
     "output_type": "error",
     "traceback": [
      "\u001b[1;36m  File \u001b[1;32m\"<ipython-input-24-921b6e7ff2a7>\"\u001b[1;36m, line \u001b[1;32m3\u001b[0m\n\u001b[1;33m    HELP!!!!\u001b[0m\n\u001b[1;37m        ^\u001b[0m\n\u001b[1;31mSyntaxError\u001b[0m\u001b[1;31m:\u001b[0m invalid syntax\n"
     ]
    }
   ],
   "source": [
    "recommendation = pd.concat([df,most_purchased,new_product])\n",
    "print(recommendation)\n",
    "HELP!!!!"
   ]
  },
  {
   "cell_type": "code",
   "execution_count": null,
   "metadata": {},
   "outputs": [],
   "source": [
    "print(df_test.sum())"
   ]
  },
  {
   "cell_type": "code",
   "execution_count": null,
   "metadata": {},
   "outputs": [],
   "source": [
    "P = df_train.loc[lambda df_train: df_train['CustomerID'] >= 750]\n",
    "most_purchased = pd.DataFrame(P, columns = ['CustomerID'])\n",
    "print(most_purchased)"
   ]
  },
  {
   "cell_type": "code",
   "execution_count": null,
   "metadata": {},
   "outputs": [],
   "source": []
  }
 ],
 "metadata": {
  "kernelspec": {
   "display_name": "Python 3",
   "language": "python",
   "name": "python3"
  },
  "language_info": {
   "codemirror_mode": {
    "name": "ipython",
    "version": 3
   },
   "file_extension": ".py",
   "mimetype": "text/x-python",
   "name": "python",
   "nbconvert_exporter": "python",
   "pygments_lexer": "ipython3",
   "version": "3.7.3"
  }
 },
 "nbformat": 4,
 "nbformat_minor": 2
}
