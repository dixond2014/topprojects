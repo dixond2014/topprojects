{
 "cells": [
  {
   "cell_type": "markdown",
   "metadata": {},
   "source": [
    "# Online Recommendation System"
   ]
  },
  {
   "cell_type": "markdown",
   "metadata": {},
   "source": [
    "**IMPORTANT**: This code is written with Python 3 and appropiate installation is required.  Below are the packages called on throughout the program. \n",
    "\n",
    "On Amazon, you are looking to purchase a new washing machine and while shopping, you see a recommendation for a dryer.  Why?  These appear from analyzing previous purchase and search data for the company creating a recommendation for relevant products.  \n",
    "\n",
    "The Online Retail Data Sales data set from the UCI Machine Learning Repository contains all the transactions occurring between 01/12/2010 and 09/12/2011 for a UK-based and registered non-store online retail.  This retail is having an issue moving products and wants to implement a recommendation system on it’s website allowing for ease of purchase for their customers.  \n",
    "\n",
    "I will build a model that will give recommendations from previous transactions of the retail.  The company will be able to implement this model on their website that will allow for recommendations of relevant products to their shoppers. As a result, products will move on the website increasing the income of the retail. \n"
   ]
  },
  {
   "cell_type": "code",
   "execution_count": 192,
   "metadata": {},
   "outputs": [],
   "source": [
    "import os\n",
    "import pandas as pd\n",
    "import numpy as np\n",
    "from sklearn.preprocessing import MinMaxScaler\n",
    "from sklearn.cluster import KMeans\n",
    "from sklearn import metrics\n",
    "import matplotlib.pyplot as plt\n",
    "import seaborn as sns\n",
    "from sklearn.linear_model import LinearRegression\n",
    "from scipy import stats\n",
    "import statsmodels.api as sm\n",
    "import re\n",
    "from sklearn.model_selection import train_test_split\n",
    "import numbers\n",
    "import glob\n",
    "import dask_ml.cluster"
   ]
  },
  {
   "cell_type": "code",
   "execution_count": 207,
   "metadata": {},
   "outputs": [
    {
     "name": "stdout",
     "output_type": "stream",
     "text": [
      "<class 'pandas.core.frame.DataFrame'>\n",
      "DatetimeIndex: 396470 entries, 2010-12-01 08:26:00 to 2011-12-09 12:50:00\n",
      "Data columns (total 7 columns):\n",
      "InvoiceNo      396470 non-null object\n",
      "StockCode      396470 non-null int32\n",
      "Description    396470 non-null object\n",
      "Quantity       396470 non-null int64\n",
      "UnitPrice      396470 non-null float64\n",
      "CustomerID     396470 non-null int32\n",
      "Country        396470 non-null object\n",
      "dtypes: float64(1), int32(2), int64(1), object(3)\n",
      "memory usage: 21.2+ MB\n"
     ]
    }
   ],
   "source": [
    "#Importing data and setting the index to datetime\n",
    "os.chdir(\"C:\\\\Users\\\\dixon\\\\Desktop\\\\Data Science\")\n",
    "df=pd.read_csv('Online Retail.csv', parse_dates=True, index_col=\"InvoiceDate\")\n",
    "df= df.loc[lambda df_dropped: (df['UnitPrice'] > 0) & (df['Quantity'] > 0)]\n",
    "df.StockCode = df.StockCode.str.extract('(\\d+)', expand=False)\n",
    "df=df.dropna(how='any')\n",
    "df.StockCode = df['StockCode'].astype(int)\n",
    "df.CustomerID = df['CustomerID'].astype(int)\n",
    "df.info()"
   ]
  },
  {
   "cell_type": "code",
   "execution_count": 208,
   "metadata": {},
   "outputs": [
    {
     "data": {
      "text/html": [
       "<div>\n",
       "<style scoped>\n",
       "    .dataframe tbody tr th:only-of-type {\n",
       "        vertical-align: middle;\n",
       "    }\n",
       "\n",
       "    .dataframe tbody tr th {\n",
       "        vertical-align: top;\n",
       "    }\n",
       "\n",
       "    .dataframe thead th {\n",
       "        text-align: right;\n",
       "    }\n",
       "</style>\n",
       "<table border=\"1\" class=\"dataframe\">\n",
       "  <thead>\n",
       "    <tr style=\"text-align: right;\">\n",
       "      <th></th>\n",
       "      <th>InvoiceNo</th>\n",
       "      <th>StockCode</th>\n",
       "      <th>Description</th>\n",
       "      <th>Quantity</th>\n",
       "      <th>UnitPrice</th>\n",
       "      <th>CustomerID</th>\n",
       "      <th>Country</th>\n",
       "    </tr>\n",
       "    <tr>\n",
       "      <th>InvoiceDate</th>\n",
       "      <th></th>\n",
       "      <th></th>\n",
       "      <th></th>\n",
       "      <th></th>\n",
       "      <th></th>\n",
       "      <th></th>\n",
       "      <th></th>\n",
       "    </tr>\n",
       "  </thead>\n",
       "  <tbody>\n",
       "    <tr>\n",
       "      <td>2010-12-01 08:26:00</td>\n",
       "      <td>536365</td>\n",
       "      <td>85123</td>\n",
       "      <td>WHITE HANGING HEART T-LIGHT HOLDER</td>\n",
       "      <td>6</td>\n",
       "      <td>2.55</td>\n",
       "      <td>17850</td>\n",
       "      <td>United Kingdom</td>\n",
       "    </tr>\n",
       "    <tr>\n",
       "      <td>2010-12-01 08:26:00</td>\n",
       "      <td>536365</td>\n",
       "      <td>71053</td>\n",
       "      <td>WHITE METAL LANTERN</td>\n",
       "      <td>6</td>\n",
       "      <td>3.39</td>\n",
       "      <td>17850</td>\n",
       "      <td>United Kingdom</td>\n",
       "    </tr>\n",
       "    <tr>\n",
       "      <td>2010-12-01 08:26:00</td>\n",
       "      <td>536365</td>\n",
       "      <td>84406</td>\n",
       "      <td>CREAM CUPID HEARTS COAT HANGER</td>\n",
       "      <td>8</td>\n",
       "      <td>2.75</td>\n",
       "      <td>17850</td>\n",
       "      <td>United Kingdom</td>\n",
       "    </tr>\n",
       "    <tr>\n",
       "      <td>2010-12-01 08:26:00</td>\n",
       "      <td>536365</td>\n",
       "      <td>84029</td>\n",
       "      <td>KNITTED UNION FLAG HOT WATER BOTTLE</td>\n",
       "      <td>6</td>\n",
       "      <td>3.39</td>\n",
       "      <td>17850</td>\n",
       "      <td>United Kingdom</td>\n",
       "    </tr>\n",
       "    <tr>\n",
       "      <td>2010-12-01 08:26:00</td>\n",
       "      <td>536365</td>\n",
       "      <td>84029</td>\n",
       "      <td>RED WOOLLY HOTTIE WHITE HEART.</td>\n",
       "      <td>6</td>\n",
       "      <td>3.39</td>\n",
       "      <td>17850</td>\n",
       "      <td>United Kingdom</td>\n",
       "    </tr>\n",
       "    <tr>\n",
       "      <td>...</td>\n",
       "      <td>...</td>\n",
       "      <td>...</td>\n",
       "      <td>...</td>\n",
       "      <td>...</td>\n",
       "      <td>...</td>\n",
       "      <td>...</td>\n",
       "      <td>...</td>\n",
       "    </tr>\n",
       "    <tr>\n",
       "      <td>2011-12-09 12:50:00</td>\n",
       "      <td>581587</td>\n",
       "      <td>22613</td>\n",
       "      <td>PACK OF 20 SPACEBOY NAPKINS</td>\n",
       "      <td>12</td>\n",
       "      <td>0.85</td>\n",
       "      <td>12680</td>\n",
       "      <td>France</td>\n",
       "    </tr>\n",
       "    <tr>\n",
       "      <td>2011-12-09 12:50:00</td>\n",
       "      <td>581587</td>\n",
       "      <td>22899</td>\n",
       "      <td>CHILDREN'S APRON DOLLY GIRL</td>\n",
       "      <td>6</td>\n",
       "      <td>2.10</td>\n",
       "      <td>12680</td>\n",
       "      <td>France</td>\n",
       "    </tr>\n",
       "    <tr>\n",
       "      <td>2011-12-09 12:50:00</td>\n",
       "      <td>581587</td>\n",
       "      <td>23254</td>\n",
       "      <td>CHILDRENS CUTLERY DOLLY GIRL</td>\n",
       "      <td>4</td>\n",
       "      <td>4.15</td>\n",
       "      <td>12680</td>\n",
       "      <td>France</td>\n",
       "    </tr>\n",
       "    <tr>\n",
       "      <td>2011-12-09 12:50:00</td>\n",
       "      <td>581587</td>\n",
       "      <td>23255</td>\n",
       "      <td>CHILDRENS CUTLERY CIRCUS PARADE</td>\n",
       "      <td>4</td>\n",
       "      <td>4.15</td>\n",
       "      <td>12680</td>\n",
       "      <td>France</td>\n",
       "    </tr>\n",
       "    <tr>\n",
       "      <td>2011-12-09 12:50:00</td>\n",
       "      <td>581587</td>\n",
       "      <td>22138</td>\n",
       "      <td>BAKING SET 9 PIECE RETROSPOT</td>\n",
       "      <td>3</td>\n",
       "      <td>4.95</td>\n",
       "      <td>12680</td>\n",
       "      <td>France</td>\n",
       "    </tr>\n",
       "  </tbody>\n",
       "</table>\n",
       "<p>396470 rows × 7 columns</p>\n",
       "</div>"
      ],
      "text/plain": [
       "                    InvoiceNo  StockCode                          Description  \\\n",
       "InvoiceDate                                                                     \n",
       "2010-12-01 08:26:00    536365      85123   WHITE HANGING HEART T-LIGHT HOLDER   \n",
       "2010-12-01 08:26:00    536365      71053                  WHITE METAL LANTERN   \n",
       "2010-12-01 08:26:00    536365      84406       CREAM CUPID HEARTS COAT HANGER   \n",
       "2010-12-01 08:26:00    536365      84029  KNITTED UNION FLAG HOT WATER BOTTLE   \n",
       "2010-12-01 08:26:00    536365      84029       RED WOOLLY HOTTIE WHITE HEART.   \n",
       "...                       ...        ...                                  ...   \n",
       "2011-12-09 12:50:00    581587      22613          PACK OF 20 SPACEBOY NAPKINS   \n",
       "2011-12-09 12:50:00    581587      22899         CHILDREN'S APRON DOLLY GIRL    \n",
       "2011-12-09 12:50:00    581587      23254        CHILDRENS CUTLERY DOLLY GIRL    \n",
       "2011-12-09 12:50:00    581587      23255      CHILDRENS CUTLERY CIRCUS PARADE   \n",
       "2011-12-09 12:50:00    581587      22138        BAKING SET 9 PIECE RETROSPOT    \n",
       "\n",
       "                     Quantity  UnitPrice  CustomerID         Country  \n",
       "InvoiceDate                                                           \n",
       "2010-12-01 08:26:00         6       2.55       17850  United Kingdom  \n",
       "2010-12-01 08:26:00         6       3.39       17850  United Kingdom  \n",
       "2010-12-01 08:26:00         8       2.75       17850  United Kingdom  \n",
       "2010-12-01 08:26:00         6       3.39       17850  United Kingdom  \n",
       "2010-12-01 08:26:00         6       3.39       17850  United Kingdom  \n",
       "...                       ...        ...         ...             ...  \n",
       "2011-12-09 12:50:00        12       0.85       12680          France  \n",
       "2011-12-09 12:50:00         6       2.10       12680          France  \n",
       "2011-12-09 12:50:00         4       4.15       12680          France  \n",
       "2011-12-09 12:50:00         4       4.15       12680          France  \n",
       "2011-12-09 12:50:00         3       4.95       12680          France  \n",
       "\n",
       "[396470 rows x 7 columns]"
      ]
     },
     "execution_count": 208,
     "metadata": {},
     "output_type": "execute_result"
    }
   ],
   "source": [
    "df"
   ]
  },
  {
   "cell_type": "markdown",
   "metadata": {},
   "source": [
    "Observe the data to see if there is any missing values and also obtain the data types. "
   ]
  },
  {
   "cell_type": "markdown",
   "metadata": {},
   "source": [
    "# 00. Data Wrangling"
   ]
  },
  {
   "cell_type": "markdown",
   "metadata": {},
   "source": [
    "We first want to observe the raw data to see if there are things that stick out, also looking for patterns. "
   ]
  },
  {
   "cell_type": "code",
   "execution_count": 209,
   "metadata": {},
   "outputs": [
    {
     "data": {
      "text/html": [
       "<div>\n",
       "<style scoped>\n",
       "    .dataframe tbody tr th:only-of-type {\n",
       "        vertical-align: middle;\n",
       "    }\n",
       "\n",
       "    .dataframe tbody tr th {\n",
       "        vertical-align: top;\n",
       "    }\n",
       "\n",
       "    .dataframe thead th {\n",
       "        text-align: right;\n",
       "    }\n",
       "</style>\n",
       "<table border=\"1\" class=\"dataframe\">\n",
       "  <thead>\n",
       "    <tr style=\"text-align: right;\">\n",
       "      <th></th>\n",
       "      <th>StockCode</th>\n",
       "      <th>Quantity</th>\n",
       "      <th>UnitPrice</th>\n",
       "      <th>CustomerID</th>\n",
       "    </tr>\n",
       "  </thead>\n",
       "  <tbody>\n",
       "    <tr>\n",
       "      <td>count</td>\n",
       "      <td>396470.000000</td>\n",
       "      <td>396470.000000</td>\n",
       "      <td>396470.000000</td>\n",
       "      <td>396470.000000</td>\n",
       "    </tr>\n",
       "    <tr>\n",
       "      <td>mean</td>\n",
       "      <td>30753.164552</td>\n",
       "      <td>13.008520</td>\n",
       "      <td>2.884078</td>\n",
       "      <td>15301.447920</td>\n",
       "    </tr>\n",
       "    <tr>\n",
       "      <td>std</td>\n",
       "      <td>20610.907412</td>\n",
       "      <td>179.611245</td>\n",
       "      <td>4.354473</td>\n",
       "      <td>1709.773015</td>\n",
       "    </tr>\n",
       "    <tr>\n",
       "      <td>min</td>\n",
       "      <td>2.000000</td>\n",
       "      <td>1.000000</td>\n",
       "      <td>0.040000</td>\n",
       "      <td>12346.000000</td>\n",
       "    </tr>\n",
       "    <tr>\n",
       "      <td>25%</td>\n",
       "      <td>22027.000000</td>\n",
       "      <td>2.000000</td>\n",
       "      <td>1.250000</td>\n",
       "      <td>13975.000000</td>\n",
       "    </tr>\n",
       "    <tr>\n",
       "      <td>50%</td>\n",
       "      <td>22666.000000</td>\n",
       "      <td>6.000000</td>\n",
       "      <td>1.950000</td>\n",
       "      <td>15159.000000</td>\n",
       "    </tr>\n",
       "    <tr>\n",
       "      <td>75%</td>\n",
       "      <td>23270.000000</td>\n",
       "      <td>12.000000</td>\n",
       "      <td>3.750000</td>\n",
       "      <td>16801.000000</td>\n",
       "    </tr>\n",
       "    <tr>\n",
       "      <td>max</td>\n",
       "      <td>90214.000000</td>\n",
       "      <td>80995.000000</td>\n",
       "      <td>649.500000</td>\n",
       "      <td>18287.000000</td>\n",
       "    </tr>\n",
       "  </tbody>\n",
       "</table>\n",
       "</div>"
      ],
      "text/plain": [
       "           StockCode       Quantity      UnitPrice     CustomerID\n",
       "count  396470.000000  396470.000000  396470.000000  396470.000000\n",
       "mean    30753.164552      13.008520       2.884078   15301.447920\n",
       "std     20610.907412     179.611245       4.354473    1709.773015\n",
       "min         2.000000       1.000000       0.040000   12346.000000\n",
       "25%     22027.000000       2.000000       1.250000   13975.000000\n",
       "50%     22666.000000       6.000000       1.950000   15159.000000\n",
       "75%     23270.000000      12.000000       3.750000   16801.000000\n",
       "max     90214.000000   80995.000000     649.500000   18287.000000"
      ]
     },
     "execution_count": 209,
     "metadata": {},
     "output_type": "execute_result"
    }
   ],
   "source": [
    "df.describe()"
   ]
  },
  {
   "cell_type": "code",
   "execution_count": 200,
   "metadata": {},
   "outputs": [],
   "source": [
    "non_uk = df.set_index('Country').drop(['United Kingdom'], axis = 0).reset_index()\n",
    "uk = df['Country']"
   ]
  },
  {
   "cell_type": "markdown",
   "metadata": {},
   "source": [
    "# 1. Visuals EDA"
   ]
  },
  {
   "cell_type": "code",
   "execution_count": 41,
   "metadata": {},
   "outputs": [
    {
     "data": {
      "image/png": "[encoded data removed]",
      "text/plain": [
       "<Figure size 432x288 with 1 Axes>"
      ]
     },
     "metadata": {
      "needs_background": "light"
     },
     "output_type": "display_data"
    }
   ],
   "source": [
    "_ = plt.plot(df['Country'],df['UnitPrice'],marker='.',linestyle='none')\n",
    "_ = plt.xlabel('Countries')\n",
    "plt.xticks(rotation=90)\n",
    "_ = plt.ylabel('Unit Price')\n",
    "plt.show()"
   ]
  },
  {
   "cell_type": "code",
   "execution_count": 42,
   "metadata": {},
   "outputs": [],
   "source": [
    "country_purchase = df.groupby('Country').InvoiceNo.value_counts()\n",
    "country_unitprice = df.groupby('Country').UnitPrice.value_counts()"
   ]
  },
  {
   "cell_type": "code",
   "execution_count": 43,
   "metadata": {},
   "outputs": [
    {
     "data": {
      "image/png": "[encoded data removed]",
      "text/plain": [
       "<Figure size 432x288 with 1 Axes>"
      ]
     },
     "metadata": {
      "needs_background": "light"
     },
     "output_type": "display_data"
    },
    {
     "data": {
      "image/png": "[encoded data removed]",
      "text/plain": [
       "<Figure size 432x288 with 1 Axes>"
      ]
     },
     "metadata": {
      "needs_background": "light"
     },
     "output_type": "display_data"
    }
   ],
   "source": [
    "### make 2 bar graphs (one with UK and one without side by side)\n",
    "plt.subplot(1,2,1); non_uk.Country.value_counts().plot(kind='bar')\n",
    "plt.xlabel('Country')\n",
    "plt.ylabel('Total purchases excluding United Kingdom')\n",
    "plt.title('Interesting Graph\\nCheck it out')\n",
    "plt.show()\n",
    "plt.subplot(1,2,2); df.Country.value_counts().plot(kind='bar')\n",
    "plt.xlabel('Country')\n",
    "plt.ylabel('Total purchases excluding United Kingdom')\n",
    "plt.title('Interesting Graph\\nCheck it out')\n",
    "plt.show()\n",
    "### violin plots in seabourn and next to each other\n",
    "### outlier detection ////remove them for the visual data set\n"
   ]
  },
  {
   "cell_type": "code",
   "execution_count": 44,
   "metadata": {},
   "outputs": [
    {
     "name": "stdout",
     "output_type": "stream",
     "text": [
      "[0.05389868 0.05389868 0.1935508  ... 0.35851712 0.35851712 0.37913791]\n",
      "(array([   33,    49,    98, ..., 42305, 42326, 42334], dtype=int64),)\n"
     ]
    }
   ],
   "source": [
    "### violin plots in seabourn and next to each other\n",
    "### outlier detection ////remove them for the visual data set\n",
    "z = np.abs(stats.zscore(non_uk['Quantity']))\n",
    "print(z)\n",
    "threshold = 1\n",
    "print(np.where(z > 1))\n",
    "#sns.violinplot(x=non_uk['Country'],y=non_uk['Quantity'])"
   ]
  },
  {
   "cell_type": "code",
   "execution_count": 45,
   "metadata": {},
   "outputs": [],
   "source": [
    "### Test avg mean of unit prce/ctry and avg item sold/contry\n",
    "### group by country and look at the avgs above\n",
    "UnitPrice_mean = df.groupby('Country').UnitPrice.mean()\n",
    "UnitPrice_std = df.groupby('Country').UnitPrice.std()"
   ]
  },
  {
   "cell_type": "code",
   "execution_count": 46,
   "metadata": {},
   "outputs": [
    {
     "data": {
      "text/plain": [
       "Country\n",
       "Australia               71.041490\n",
       "Austria                 12.614583\n",
       "Bahrain                 15.294118\n",
       "Belgium                 11.866667\n",
       "Brazil                  11.125000\n",
       "Canada                  18.413333\n",
       "Channel Islands         12.704150\n",
       "Cyprus                  10.390523\n",
       "Czech Republic          27.916667\n",
       "Denmark                 22.324251\n",
       "EIRE                    19.390793\n",
       "European Community       8.596491\n",
       "Finland                 16.395672\n",
       "France                  13.768044\n",
       "Germany                 13.645068\n",
       "Greece                  10.915493\n",
       "Iceland                 13.505495\n",
       "Israel                  16.314516\n",
       "Italy                   10.886640\n",
       "Japan                   81.046729\n",
       "Lebanon                  8.577778\n",
       "Lithuania               18.628571\n",
       "Malta                    8.788991\n",
       "Netherlands             86.243755\n",
       "Norway                  18.393130\n",
       "Poland                  11.307692\n",
       "Portugal                11.240000\n",
       "RSA                      6.157895\n",
       "Saudi Arabia             8.888889\n",
       "Singapore               24.344186\n",
       "Spain                   11.449628\n",
       "Sweden                  84.210280\n",
       "Switzerland             16.563536\n",
       "USA                     13.731844\n",
       "United Arab Emirates    14.641791\n",
       "United Kingdom          12.003833\n",
       "Unspecified              7.331967\n",
       "Name: Quantity, dtype: float64"
      ]
     },
     "execution_count": 46,
     "metadata": {},
     "output_type": "execute_result"
    }
   ],
   "source": [
    "total_item = len(df.groupby('StockCode'))\n",
    "df.groupby('Country').Quantity.mean()\n",
    "### country on the y axis and quantity for the x-axis"
   ]
  },
  {
   "cell_type": "markdown",
   "metadata": {},
   "source": [
    "# 2. inferrential stat linear regression (look for p-value and r2)"
   ]
  },
  {
   "cell_type": "code",
   "execution_count": 20,
   "metadata": {},
   "outputs": [
    {
     "data": {
      "image/png": "[encoded data removed]",
      "text/plain": [
       "<Figure size 432x288 with 1 Axes>"
      ]
     },
     "metadata": {
      "needs_background": "light"
     },
     "output_type": "display_data"
    },
    {
     "data": {
      "image/png": "[encoded data removed]",
      "text/plain": [
       "<Figure size 432x288 with 1 Axes>"
      ]
     },
     "metadata": {
      "needs_background": "light"
     },
     "output_type": "display_data"
    },
    {
     "data": {
      "text/plain": [
       "(530104, 2)"
      ]
     },
     "execution_count": 20,
     "metadata": {},
     "output_type": "execute_result"
    }
   ],
   "source": [
    "df1 = df_pos_price[['UnitPrice','Quantity']]\n",
    "plt.plot(df1['UnitPrice'])\n",
    "plt.show()\n",
    "plt.plot(df1['Quantity'])\n",
    "plt.show()\n",
    "df1.shape"
   ]
  },
  {
   "cell_type": "code",
   "execution_count": 21,
   "metadata": {},
   "outputs": [
    {
     "data": {
      "text/plain": [
       "<matplotlib.axes._subplots.AxesSubplot at 0x2248fbea400>"
      ]
     },
     "execution_count": 21,
     "metadata": {},
     "output_type": "execute_result"
    },
    {
     "data": {
      "image/png": "[encoded data removed]",
      "text/plain": [
       "<Figure size 432x288 with 1 Axes>"
      ]
     },
     "metadata": {
      "needs_background": "light"
     },
     "output_type": "display_data"
    }
   ],
   "source": [
    "df_price = df1[(np.abs(df1['UnitPrice']-df1['UnitPrice'].mean())>(3*df1['UnitPrice'].std()))]\n",
    "df_price = df1[(np.abs(df1['UnitPrice']-df1['UnitPrice'].mean())<=(3*df1['UnitPrice'].std()))]\n",
    "df_price = df1[(np.abs(df1['Quantity']-df1['Quantity'].mean())<=(3*df1['Quantity'].std()))]\n",
    "df_price = df1[(np.abs(df1['Quantity']-df1['Quantity'].mean())>(3*df1['Quantity'].std()))]\n",
    "sns.violinplot(df_price['UnitPrice'])"
   ]
  },
  {
   "cell_type": "code",
   "execution_count": 22,
   "metadata": {},
   "outputs": [
    {
     "data": {
      "text/plain": [
       "<matplotlib.axes._subplots.AxesSubplot at 0x22488bfdfd0>"
      ]
     },
     "execution_count": 22,
     "metadata": {},
     "output_type": "execute_result"
    },
    {
     "data": {
      "image/png": "[encoded data removed]",
      "text/plain": [
       "<Figure size 432x288 with 1 Axes>"
      ]
     },
     "metadata": {
      "needs_background": "light"
     },
     "output_type": "display_data"
    }
   ],
   "source": [
    "sns.violinplot(df_price['Quantity'])"
   ]
  },
  {
   "cell_type": "code",
   "execution_count": 23,
   "metadata": {},
   "outputs": [
    {
     "name": "stderr",
     "output_type": "stream",
     "text": [
      "C:\\Users\\dixon\\Anaconda3\\lib\\site-packages\\ipykernel_launcher.py:1: SettingWithCopyWarning: \n",
      "A value is trying to be set on a copy of a slice from a DataFrame.\n",
      "Try using .loc[row_indexer,col_indexer] = value instead\n",
      "\n",
      "See the caveats in the documentation: http://pandas.pydata.org/pandas-docs/stable/indexing.html#indexing-view-versus-copy\n",
      "  \"\"\"Entry point for launching an IPython kernel.\n"
     ]
    },
    {
     "data": {
      "text/html": [
       "<table class=\"simpletable\">\n",
       "<caption>OLS Regression Results</caption>\n",
       "<tr>\n",
       "  <th>Dep. Variable:</th>        <td>UnitPrice</td>    <th>  R-squared:         </th> <td>   0.000</td>\n",
       "</tr>\n",
       "<tr>\n",
       "  <th>Model:</th>                   <td>OLS</td>       <th>  Adj. R-squared:    </th> <td>  -0.002</td>\n",
       "</tr>\n",
       "<tr>\n",
       "  <th>Method:</th>             <td>Least Squares</td>  <th>  F-statistic:       </th> <td> 0.03389</td>\n",
       "</tr>\n",
       "<tr>\n",
       "  <th>Date:</th>             <td>Fri, 22 Nov 2019</td> <th>  Prob (F-statistic):</th>  <td> 0.854</td> \n",
       "</tr>\n",
       "<tr>\n",
       "  <th>Time:</th>                 <td>11:35:20</td>     <th>  Log-Likelihood:    </th> <td> -885.87</td>\n",
       "</tr>\n",
       "<tr>\n",
       "  <th>No. Observations:</th>      <td>   522</td>      <th>  AIC:               </th> <td>   1776.</td>\n",
       "</tr>\n",
       "<tr>\n",
       "  <th>Df Residuals:</th>          <td>   520</td>      <th>  BIC:               </th> <td>   1784.</td>\n",
       "</tr>\n",
       "<tr>\n",
       "  <th>Df Model:</th>              <td>     1</td>      <th>                     </th>     <td> </td>   \n",
       "</tr>\n",
       "<tr>\n",
       "  <th>Covariance Type:</th>      <td>nonrobust</td>    <th>                     </th>     <td> </td>   \n",
       "</tr>\n",
       "</table>\n",
       "<table class=\"simpletable\">\n",
       "<tr>\n",
       "      <td></td>         <th>coef</th>     <th>std err</th>      <th>t</th>      <th>P>|t|</th>  <th>[0.025</th>    <th>0.975]</th>  \n",
       "</tr>\n",
       "<tr>\n",
       "  <th>intercept</th> <td>    1.1878</td> <td>    0.060</td> <td>   19.958</td> <td> 0.000</td> <td>    1.071</td> <td>    1.305</td>\n",
       "</tr>\n",
       "<tr>\n",
       "  <th>Quantity</th>  <td> 2.232e-06</td> <td> 1.21e-05</td> <td>    0.184</td> <td> 0.854</td> <td>-2.16e-05</td> <td>  2.6e-05</td>\n",
       "</tr>\n",
       "</table>\n",
       "<table class=\"simpletable\">\n",
       "<tr>\n",
       "  <th>Omnibus:</th>       <td>236.705</td> <th>  Durbin-Watson:     </th> <td>   1.197</td> \n",
       "</tr>\n",
       "<tr>\n",
       "  <th>Prob(Omnibus):</th> <td> 0.000</td>  <th>  Jarque-Bera (JB):  </th> <td> 920.010</td> \n",
       "</tr>\n",
       "<tr>\n",
       "  <th>Skew:</th>          <td> 2.124</td>  <th>  Prob(JB):          </th> <td>1.67e-200</td>\n",
       "</tr>\n",
       "<tr>\n",
       "  <th>Kurtosis:</th>      <td> 7.925</td>  <th>  Cond. No.          </th> <td>5.04e+03</td> \n",
       "</tr>\n",
       "</table><br/><br/>Warnings:<br/>[1] Standard Errors assume that the covariance matrix of the errors is correctly specified.<br/>[2] The condition number is large, 5.04e+03. This might indicate that there are<br/>strong multicollinearity or other numerical problems."
      ],
      "text/plain": [
       "<class 'statsmodels.iolib.summary.Summary'>\n",
       "\"\"\"\n",
       "                            OLS Regression Results                            \n",
       "==============================================================================\n",
       "Dep. Variable:              UnitPrice   R-squared:                       0.000\n",
       "Model:                            OLS   Adj. R-squared:                 -0.002\n",
       "Method:                 Least Squares   F-statistic:                   0.03389\n",
       "Date:                Fri, 22 Nov 2019   Prob (F-statistic):              0.854\n",
       "Time:                        11:35:20   Log-Likelihood:                -885.87\n",
       "No. Observations:                 522   AIC:                             1776.\n",
       "Df Residuals:                     520   BIC:                             1784.\n",
       "Df Model:                           1                                         \n",
       "Covariance Type:            nonrobust                                         \n",
       "==============================================================================\n",
       "                 coef    std err          t      P>|t|      [0.025      0.975]\n",
       "------------------------------------------------------------------------------\n",
       "intercept      1.1878      0.060     19.958      0.000       1.071       1.305\n",
       "Quantity    2.232e-06   1.21e-05      0.184      0.854   -2.16e-05     2.6e-05\n",
       "==============================================================================\n",
       "Omnibus:                      236.705   Durbin-Watson:                   1.197\n",
       "Prob(Omnibus):                  0.000   Jarque-Bera (JB):              920.010\n",
       "Skew:                           2.124   Prob(JB):                    1.67e-200\n",
       "Kurtosis:                       7.925   Cond. No.                     5.04e+03\n",
       "==============================================================================\n",
       "\n",
       "Warnings:\n",
       "[1] Standard Errors assume that the covariance matrix of the errors is correctly specified.\n",
       "[2] The condition number is large, 5.04e+03. This might indicate that there are\n",
       "strong multicollinearity or other numerical problems.\n",
       "\"\"\""
      ]
     },
     "execution_count": 23,
     "metadata": {},
     "output_type": "execute_result"
    }
   ],
   "source": [
    "df_price['intercept']=1\n",
    "lm=sm.OLS(df_price['UnitPrice'],df_price[['intercept','Quantity']])\n",
    "slr_results = lm.fit()\n",
    "slr_results.summary()"
   ]
  },
  {
   "cell_type": "code",
   "execution_count": 24,
   "metadata": {},
   "outputs": [
    {
     "name": "stdout",
     "output_type": "stream",
     "text": [
      "[3.81911805 4.01132431]\n"
     ]
    }
   ],
   "source": [
    "np.random.seed(47)\n",
    "N_rep = 10000\n",
    "rep = np.empty(N_rep)\n",
    "\n",
    "for i in range(N_rep):\n",
    "        rep[i] = np.mean(np.random.choice(df_pos_price['UnitPrice'], size=len(df_pos_price['UnitPrice'])))\n",
    "\n",
    "conf_int = np.percentile(rep,[2.5,97.5])\n",
    "print(conf_int)"
   ]
  },
  {
   "cell_type": "markdown",
   "metadata": {},
   "source": [
    "# 2. Recommendation system"
   ]
  },
  {
   "cell_type": "code",
   "execution_count": 213,
   "metadata": {},
   "outputs": [],
   "source": [
    "df = pd.concat([df,pd.get_dummies(df['StockCode'], prefix='StockCode')],axis=1)"
   ]
  },
  {
   "cell_type": "code",
   "execution_count": 231,
   "metadata": {},
   "outputs": [
    {
     "data": {
      "text/html": [
       "<div>\n",
       "<style scoped>\n",
       "    .dataframe tbody tr th:only-of-type {\n",
       "        vertical-align: middle;\n",
       "    }\n",
       "\n",
       "    .dataframe tbody tr th {\n",
       "        vertical-align: top;\n",
       "    }\n",
       "\n",
       "    .dataframe thead th {\n",
       "        text-align: right;\n",
       "    }\n",
       "</style>\n",
       "<table border=\"1\" class=\"dataframe\">\n",
       "  <thead>\n",
       "    <tr style=\"text-align: right;\">\n",
       "      <th></th>\n",
       "      <th>InvoiceNo</th>\n",
       "      <th>Description</th>\n",
       "      <th>Quantity</th>\n",
       "      <th>UnitPrice</th>\n",
       "      <th>CustomerID</th>\n",
       "      <th>Country</th>\n",
       "      <th>StockCode_2</th>\n",
       "      <th>StockCode_10002</th>\n",
       "      <th>StockCode_10080</th>\n",
       "      <th>StockCode_10120</th>\n",
       "      <th>...</th>\n",
       "      <th>StockCode_90202</th>\n",
       "      <th>StockCode_90204</th>\n",
       "      <th>StockCode_90205</th>\n",
       "      <th>StockCode_90206</th>\n",
       "      <th>StockCode_90208</th>\n",
       "      <th>StockCode_90209</th>\n",
       "      <th>StockCode_90210</th>\n",
       "      <th>StockCode_90211</th>\n",
       "      <th>StockCode_90212</th>\n",
       "      <th>StockCode_90214</th>\n",
       "    </tr>\n",
       "    <tr>\n",
       "      <th>InvoiceDate</th>\n",
       "      <th></th>\n",
       "      <th></th>\n",
       "      <th></th>\n",
       "      <th></th>\n",
       "      <th></th>\n",
       "      <th></th>\n",
       "      <th></th>\n",
       "      <th></th>\n",
       "      <th></th>\n",
       "      <th></th>\n",
       "      <th></th>\n",
       "      <th></th>\n",
       "      <th></th>\n",
       "      <th></th>\n",
       "      <th></th>\n",
       "      <th></th>\n",
       "      <th></th>\n",
       "      <th></th>\n",
       "      <th></th>\n",
       "      <th></th>\n",
       "      <th></th>\n",
       "    </tr>\n",
       "  </thead>\n",
       "  <tbody>\n",
       "    <tr>\n",
       "      <td>2010-12-01 08:26:00</td>\n",
       "      <td>536365</td>\n",
       "      <td>WHITE HANGING HEART T-LIGHT HOLDER</td>\n",
       "      <td>6</td>\n",
       "      <td>2.55</td>\n",
       "      <td>17850</td>\n",
       "      <td>United Kingdom</td>\n",
       "      <td>0</td>\n",
       "      <td>0</td>\n",
       "      <td>0</td>\n",
       "      <td>0</td>\n",
       "      <td>...</td>\n",
       "      <td>0</td>\n",
       "      <td>0</td>\n",
       "      <td>0</td>\n",
       "      <td>0</td>\n",
       "      <td>0</td>\n",
       "      <td>0</td>\n",
       "      <td>0</td>\n",
       "      <td>0</td>\n",
       "      <td>0</td>\n",
       "      <td>0</td>\n",
       "    </tr>\n",
       "    <tr>\n",
       "      <td>2010-12-01 08:26:00</td>\n",
       "      <td>536365</td>\n",
       "      <td>WHITE METAL LANTERN</td>\n",
       "      <td>6</td>\n",
       "      <td>3.39</td>\n",
       "      <td>17850</td>\n",
       "      <td>United Kingdom</td>\n",
       "      <td>0</td>\n",
       "      <td>0</td>\n",
       "      <td>0</td>\n",
       "      <td>0</td>\n",
       "      <td>...</td>\n",
       "      <td>0</td>\n",
       "      <td>0</td>\n",
       "      <td>0</td>\n",
       "      <td>0</td>\n",
       "      <td>0</td>\n",
       "      <td>0</td>\n",
       "      <td>0</td>\n",
       "      <td>0</td>\n",
       "      <td>0</td>\n",
       "      <td>0</td>\n",
       "    </tr>\n",
       "    <tr>\n",
       "      <td>2010-12-01 08:26:00</td>\n",
       "      <td>536365</td>\n",
       "      <td>CREAM CUPID HEARTS COAT HANGER</td>\n",
       "      <td>8</td>\n",
       "      <td>2.75</td>\n",
       "      <td>17850</td>\n",
       "      <td>United Kingdom</td>\n",
       "      <td>0</td>\n",
       "      <td>0</td>\n",
       "      <td>0</td>\n",
       "      <td>0</td>\n",
       "      <td>...</td>\n",
       "      <td>0</td>\n",
       "      <td>0</td>\n",
       "      <td>0</td>\n",
       "      <td>0</td>\n",
       "      <td>0</td>\n",
       "      <td>0</td>\n",
       "      <td>0</td>\n",
       "      <td>0</td>\n",
       "      <td>0</td>\n",
       "      <td>0</td>\n",
       "    </tr>\n",
       "    <tr>\n",
       "      <td>2010-12-01 08:26:00</td>\n",
       "      <td>536365</td>\n",
       "      <td>KNITTED UNION FLAG HOT WATER BOTTLE</td>\n",
       "      <td>6</td>\n",
       "      <td>3.39</td>\n",
       "      <td>17850</td>\n",
       "      <td>United Kingdom</td>\n",
       "      <td>0</td>\n",
       "      <td>0</td>\n",
       "      <td>0</td>\n",
       "      <td>0</td>\n",
       "      <td>...</td>\n",
       "      <td>0</td>\n",
       "      <td>0</td>\n",
       "      <td>0</td>\n",
       "      <td>0</td>\n",
       "      <td>0</td>\n",
       "      <td>0</td>\n",
       "      <td>0</td>\n",
       "      <td>0</td>\n",
       "      <td>0</td>\n",
       "      <td>0</td>\n",
       "    </tr>\n",
       "    <tr>\n",
       "      <td>2010-12-01 08:26:00</td>\n",
       "      <td>536365</td>\n",
       "      <td>RED WOOLLY HOTTIE WHITE HEART.</td>\n",
       "      <td>6</td>\n",
       "      <td>3.39</td>\n",
       "      <td>17850</td>\n",
       "      <td>United Kingdom</td>\n",
       "      <td>0</td>\n",
       "      <td>0</td>\n",
       "      <td>0</td>\n",
       "      <td>0</td>\n",
       "      <td>...</td>\n",
       "      <td>0</td>\n",
       "      <td>0</td>\n",
       "      <td>0</td>\n",
       "      <td>0</td>\n",
       "      <td>0</td>\n",
       "      <td>0</td>\n",
       "      <td>0</td>\n",
       "      <td>0</td>\n",
       "      <td>0</td>\n",
       "      <td>0</td>\n",
       "    </tr>\n",
       "    <tr>\n",
       "      <td>...</td>\n",
       "      <td>...</td>\n",
       "      <td>...</td>\n",
       "      <td>...</td>\n",
       "      <td>...</td>\n",
       "      <td>...</td>\n",
       "      <td>...</td>\n",
       "      <td>...</td>\n",
       "      <td>...</td>\n",
       "      <td>...</td>\n",
       "      <td>...</td>\n",
       "      <td>...</td>\n",
       "      <td>...</td>\n",
       "      <td>...</td>\n",
       "      <td>...</td>\n",
       "      <td>...</td>\n",
       "      <td>...</td>\n",
       "      <td>...</td>\n",
       "      <td>...</td>\n",
       "      <td>...</td>\n",
       "      <td>...</td>\n",
       "      <td>...</td>\n",
       "    </tr>\n",
       "    <tr>\n",
       "      <td>2011-12-09 12:50:00</td>\n",
       "      <td>581587</td>\n",
       "      <td>PACK OF 20 SPACEBOY NAPKINS</td>\n",
       "      <td>12</td>\n",
       "      <td>0.85</td>\n",
       "      <td>12680</td>\n",
       "      <td>France</td>\n",
       "      <td>0</td>\n",
       "      <td>0</td>\n",
       "      <td>0</td>\n",
       "      <td>0</td>\n",
       "      <td>...</td>\n",
       "      <td>0</td>\n",
       "      <td>0</td>\n",
       "      <td>0</td>\n",
       "      <td>0</td>\n",
       "      <td>0</td>\n",
       "      <td>0</td>\n",
       "      <td>0</td>\n",
       "      <td>0</td>\n",
       "      <td>0</td>\n",
       "      <td>0</td>\n",
       "    </tr>\n",
       "    <tr>\n",
       "      <td>2011-12-09 12:50:00</td>\n",
       "      <td>581587</td>\n",
       "      <td>CHILDREN'S APRON DOLLY GIRL</td>\n",
       "      <td>6</td>\n",
       "      <td>2.10</td>\n",
       "      <td>12680</td>\n",
       "      <td>France</td>\n",
       "      <td>0</td>\n",
       "      <td>0</td>\n",
       "      <td>0</td>\n",
       "      <td>0</td>\n",
       "      <td>...</td>\n",
       "      <td>0</td>\n",
       "      <td>0</td>\n",
       "      <td>0</td>\n",
       "      <td>0</td>\n",
       "      <td>0</td>\n",
       "      <td>0</td>\n",
       "      <td>0</td>\n",
       "      <td>0</td>\n",
       "      <td>0</td>\n",
       "      <td>0</td>\n",
       "    </tr>\n",
       "    <tr>\n",
       "      <td>2011-12-09 12:50:00</td>\n",
       "      <td>581587</td>\n",
       "      <td>CHILDRENS CUTLERY DOLLY GIRL</td>\n",
       "      <td>4</td>\n",
       "      <td>4.15</td>\n",
       "      <td>12680</td>\n",
       "      <td>France</td>\n",
       "      <td>0</td>\n",
       "      <td>0</td>\n",
       "      <td>0</td>\n",
       "      <td>0</td>\n",
       "      <td>...</td>\n",
       "      <td>0</td>\n",
       "      <td>0</td>\n",
       "      <td>0</td>\n",
       "      <td>0</td>\n",
       "      <td>0</td>\n",
       "      <td>0</td>\n",
       "      <td>0</td>\n",
       "      <td>0</td>\n",
       "      <td>0</td>\n",
       "      <td>0</td>\n",
       "    </tr>\n",
       "    <tr>\n",
       "      <td>2011-12-09 12:50:00</td>\n",
       "      <td>581587</td>\n",
       "      <td>CHILDRENS CUTLERY CIRCUS PARADE</td>\n",
       "      <td>4</td>\n",
       "      <td>4.15</td>\n",
       "      <td>12680</td>\n",
       "      <td>France</td>\n",
       "      <td>0</td>\n",
       "      <td>0</td>\n",
       "      <td>0</td>\n",
       "      <td>0</td>\n",
       "      <td>...</td>\n",
       "      <td>0</td>\n",
       "      <td>0</td>\n",
       "      <td>0</td>\n",
       "      <td>0</td>\n",
       "      <td>0</td>\n",
       "      <td>0</td>\n",
       "      <td>0</td>\n",
       "      <td>0</td>\n",
       "      <td>0</td>\n",
       "      <td>0</td>\n",
       "    </tr>\n",
       "    <tr>\n",
       "      <td>2011-12-09 12:50:00</td>\n",
       "      <td>581587</td>\n",
       "      <td>BAKING SET 9 PIECE RETROSPOT</td>\n",
       "      <td>3</td>\n",
       "      <td>4.95</td>\n",
       "      <td>12680</td>\n",
       "      <td>France</td>\n",
       "      <td>0</td>\n",
       "      <td>0</td>\n",
       "      <td>0</td>\n",
       "      <td>0</td>\n",
       "      <td>...</td>\n",
       "      <td>0</td>\n",
       "      <td>0</td>\n",
       "      <td>0</td>\n",
       "      <td>0</td>\n",
       "      <td>0</td>\n",
       "      <td>0</td>\n",
       "      <td>0</td>\n",
       "      <td>0</td>\n",
       "      <td>0</td>\n",
       "      <td>0</td>\n",
       "    </tr>\n",
       "  </tbody>\n",
       "</table>\n",
       "<p>396470 rows × 3200 columns</p>\n",
       "</div>"
      ],
      "text/plain": [
       "                    InvoiceNo                          Description  Quantity  \\\n",
       "InvoiceDate                                                                    \n",
       "2010-12-01 08:26:00    536365   WHITE HANGING HEART T-LIGHT HOLDER         6   \n",
       "2010-12-01 08:26:00    536365                  WHITE METAL LANTERN         6   \n",
       "2010-12-01 08:26:00    536365       CREAM CUPID HEARTS COAT HANGER         8   \n",
       "2010-12-01 08:26:00    536365  KNITTED UNION FLAG HOT WATER BOTTLE         6   \n",
       "2010-12-01 08:26:00    536365       RED WOOLLY HOTTIE WHITE HEART.         6   \n",
       "...                       ...                                  ...       ...   \n",
       "2011-12-09 12:50:00    581587          PACK OF 20 SPACEBOY NAPKINS        12   \n",
       "2011-12-09 12:50:00    581587         CHILDREN'S APRON DOLLY GIRL          6   \n",
       "2011-12-09 12:50:00    581587        CHILDRENS CUTLERY DOLLY GIRL          4   \n",
       "2011-12-09 12:50:00    581587      CHILDRENS CUTLERY CIRCUS PARADE         4   \n",
       "2011-12-09 12:50:00    581587        BAKING SET 9 PIECE RETROSPOT          3   \n",
       "\n",
       "                     UnitPrice  CustomerID         Country  StockCode_2  \\\n",
       "InvoiceDate                                                               \n",
       "2010-12-01 08:26:00       2.55       17850  United Kingdom            0   \n",
       "2010-12-01 08:26:00       3.39       17850  United Kingdom            0   \n",
       "2010-12-01 08:26:00       2.75       17850  United Kingdom            0   \n",
       "2010-12-01 08:26:00       3.39       17850  United Kingdom            0   \n",
       "2010-12-01 08:26:00       3.39       17850  United Kingdom            0   \n",
       "...                        ...         ...             ...          ...   \n",
       "2011-12-09 12:50:00       0.85       12680          France            0   \n",
       "2011-12-09 12:50:00       2.10       12680          France            0   \n",
       "2011-12-09 12:50:00       4.15       12680          France            0   \n",
       "2011-12-09 12:50:00       4.15       12680          France            0   \n",
       "2011-12-09 12:50:00       4.95       12680          France            0   \n",
       "\n",
       "                     StockCode_10002  StockCode_10080  StockCode_10120  ...  \\\n",
       "InvoiceDate                                                             ...   \n",
       "2010-12-01 08:26:00                0                0                0  ...   \n",
       "2010-12-01 08:26:00                0                0                0  ...   \n",
       "2010-12-01 08:26:00                0                0                0  ...   \n",
       "2010-12-01 08:26:00                0                0                0  ...   \n",
       "2010-12-01 08:26:00                0                0                0  ...   \n",
       "...                              ...              ...              ...  ...   \n",
       "2011-12-09 12:50:00                0                0                0  ...   \n",
       "2011-12-09 12:50:00                0                0                0  ...   \n",
       "2011-12-09 12:50:00                0                0                0  ...   \n",
       "2011-12-09 12:50:00                0                0                0  ...   \n",
       "2011-12-09 12:50:00                0                0                0  ...   \n",
       "\n",
       "                     StockCode_90202  StockCode_90204  StockCode_90205  \\\n",
       "InvoiceDate                                                              \n",
       "2010-12-01 08:26:00                0                0                0   \n",
       "2010-12-01 08:26:00                0                0                0   \n",
       "2010-12-01 08:26:00                0                0                0   \n",
       "2010-12-01 08:26:00                0                0                0   \n",
       "2010-12-01 08:26:00                0                0                0   \n",
       "...                              ...              ...              ...   \n",
       "2011-12-09 12:50:00                0                0                0   \n",
       "2011-12-09 12:50:00                0                0                0   \n",
       "2011-12-09 12:50:00                0                0                0   \n",
       "2011-12-09 12:50:00                0                0                0   \n",
       "2011-12-09 12:50:00                0                0                0   \n",
       "\n",
       "                     StockCode_90206  StockCode_90208  StockCode_90209  \\\n",
       "InvoiceDate                                                              \n",
       "2010-12-01 08:26:00                0                0                0   \n",
       "2010-12-01 08:26:00                0                0                0   \n",
       "2010-12-01 08:26:00                0                0                0   \n",
       "2010-12-01 08:26:00                0                0                0   \n",
       "2010-12-01 08:26:00                0                0                0   \n",
       "...                              ...              ...              ...   \n",
       "2011-12-09 12:50:00                0                0                0   \n",
       "2011-12-09 12:50:00                0                0                0   \n",
       "2011-12-09 12:50:00                0                0                0   \n",
       "2011-12-09 12:50:00                0                0                0   \n",
       "2011-12-09 12:50:00                0                0                0   \n",
       "\n",
       "                     StockCode_90210  StockCode_90211  StockCode_90212  \\\n",
       "InvoiceDate                                                              \n",
       "2010-12-01 08:26:00                0                0                0   \n",
       "2010-12-01 08:26:00                0                0                0   \n",
       "2010-12-01 08:26:00                0                0                0   \n",
       "2010-12-01 08:26:00                0                0                0   \n",
       "2010-12-01 08:26:00                0                0                0   \n",
       "...                              ...              ...              ...   \n",
       "2011-12-09 12:50:00                0                0                0   \n",
       "2011-12-09 12:50:00                0                0                0   \n",
       "2011-12-09 12:50:00                0                0                0   \n",
       "2011-12-09 12:50:00                0                0                0   \n",
       "2011-12-09 12:50:00                0                0                0   \n",
       "\n",
       "                     StockCode_90214  \n",
       "InvoiceDate                           \n",
       "2010-12-01 08:26:00                0  \n",
       "2010-12-01 08:26:00                0  \n",
       "2010-12-01 08:26:00                0  \n",
       "2010-12-01 08:26:00                0  \n",
       "2010-12-01 08:26:00                0  \n",
       "...                              ...  \n",
       "2011-12-09 12:50:00                0  \n",
       "2011-12-09 12:50:00                0  \n",
       "2011-12-09 12:50:00                0  \n",
       "2011-12-09 12:50:00                0  \n",
       "2011-12-09 12:50:00                0  \n",
       "\n",
       "[396470 rows x 3200 columns]"
      ]
     },
     "execution_count": 231,
     "metadata": {},
     "output_type": "execute_result"
    }
   ],
   "source": [
    "df"
   ]
  },
  {
   "cell_type": "markdown",
   "metadata": {},
   "source": [
    "We first need to see how many customers bought items. To give an accurate recommendation, we want to make sure the data we are observing is based on frequent shoppers, and not periodic or one-time shoppers. To do so, we need to first observe the data by the actual **CustomerID** where we then want to see how many items each customer purchased."
   ]
  },
  {
   "cell_type": "code",
   "execution_count": 220,
   "metadata": {
    "scrolled": true
   },
   "outputs": [
    {
     "data": {
      "text/plain": [
       "<pandas.core.groupby.generic.DataFrameGroupBy object at 0x0000020DBDEF7948>"
      ]
     },
     "execution_count": 220,
     "metadata": {},
     "output_type": "execute_result"
    }
   ],
   "source": [
    "#observe the data where we have all column data \n",
    "CustomerID = df.groupby('CustomerID')"
   ]
  },
  {
   "cell_type": "markdown",
   "metadata": {},
   "source": [
    "We now want to remove the customers that did not purchase more than 50 times at the store. We only want customers who have purchased at least 50 times, therefore, we look at the **InvoiceNo** column and manipulate, accordingly. "
   ]
  },
  {
   "cell_type": "code",
   "execution_count": 221,
   "metadata": {},
   "outputs": [
    {
     "ename": "AttributeError",
     "evalue": "Cannot access callable attribute 'loc' of 'DataFrameGroupBy' objects, try using the 'apply' method",
     "output_type": "error",
     "traceback": [
      "\u001b[1;31m---------------------------------------------------------------------------\u001b[0m",
      "\u001b[1;31mAttributeError\u001b[0m                            Traceback (most recent call last)",
      "\u001b[1;32m<ipython-input-221-c256ed2b5eaa>\u001b[0m in \u001b[0;36m<module>\u001b[1;34m\u001b[0m\n\u001b[0;32m      1\u001b[0m \u001b[1;31m# Customers less than 50 orders\u001b[0m\u001b[1;33m\u001b[0m\u001b[1;33m\u001b[0m\u001b[1;33m\u001b[0m\u001b[0m\n\u001b[1;32m----> 2\u001b[1;33m \u001b[0mdf_clean\u001b[0m\u001b[1;33m=\u001b[0m\u001b[0mCustomerID\u001b[0m\u001b[1;33m.\u001b[0m\u001b[0mloc\u001b[0m\u001b[1;33m[\u001b[0m\u001b[1;32mlambda\u001b[0m \u001b[0mCustomerID\u001b[0m\u001b[1;33m:\u001b[0m \u001b[0mCustomerID\u001b[0m\u001b[1;33m[\u001b[0m\u001b[1;34m'InvoiceNo'\u001b[0m\u001b[1;33m]\u001b[0m \u001b[1;33m>\u001b[0m \u001b[1;36m50\u001b[0m\u001b[1;33m]\u001b[0m\u001b[1;33m\u001b[0m\u001b[1;33m\u001b[0m\u001b[0m\n\u001b[0m\u001b[0;32m      3\u001b[0m \u001b[0mprint\u001b[0m\u001b[1;33m(\u001b[0m\u001b[0mdf_clean\u001b[0m\u001b[1;33m)\u001b[0m\u001b[1;33m\u001b[0m\u001b[1;33m\u001b[0m\u001b[0m\n\u001b[0;32m      4\u001b[0m \u001b[0mdf_clean\u001b[0m\u001b[1;33m.\u001b[0m\u001b[0mreset_index\u001b[0m\u001b[1;33m(\u001b[0m\u001b[1;33m)\u001b[0m\u001b[1;33m.\u001b[0m\u001b[0mStockCode\u001b[0m\u001b[1;33m.\u001b[0m\u001b[0mhist\u001b[0m\u001b[1;33m(\u001b[0m\u001b[0mbins\u001b[0m\u001b[1;33m=\u001b[0m\u001b[1;36m50\u001b[0m\u001b[1;33m)\u001b[0m\u001b[1;33m\u001b[0m\u001b[1;33m\u001b[0m\u001b[0m\n",
      "\u001b[1;32m~\\Anaconda3\\lib\\site-packages\\pandas\\core\\groupby\\groupby.py\u001b[0m in \u001b[0;36m__getattr__\u001b[1;34m(self, attr)\u001b[0m\n\u001b[0;32m    561\u001b[0m             \u001b[1;32mreturn\u001b[0m \u001b[0mself\u001b[0m\u001b[1;33m[\u001b[0m\u001b[0mattr\u001b[0m\u001b[1;33m]\u001b[0m\u001b[1;33m\u001b[0m\u001b[1;33m\u001b[0m\u001b[0m\n\u001b[0;32m    562\u001b[0m         \u001b[1;32mif\u001b[0m \u001b[0mhasattr\u001b[0m\u001b[1;33m(\u001b[0m\u001b[0mself\u001b[0m\u001b[1;33m.\u001b[0m\u001b[0mobj\u001b[0m\u001b[1;33m,\u001b[0m \u001b[0mattr\u001b[0m\u001b[1;33m)\u001b[0m\u001b[1;33m:\u001b[0m\u001b[1;33m\u001b[0m\u001b[1;33m\u001b[0m\u001b[0m\n\u001b[1;32m--> 563\u001b[1;33m             \u001b[1;32mreturn\u001b[0m \u001b[0mself\u001b[0m\u001b[1;33m.\u001b[0m\u001b[0m_make_wrapper\u001b[0m\u001b[1;33m(\u001b[0m\u001b[0mattr\u001b[0m\u001b[1;33m)\u001b[0m\u001b[1;33m\u001b[0m\u001b[1;33m\u001b[0m\u001b[0m\n\u001b[0m\u001b[0;32m    564\u001b[0m \u001b[1;33m\u001b[0m\u001b[0m\n\u001b[0;32m    565\u001b[0m         raise AttributeError(\n",
      "\u001b[1;32m~\\Anaconda3\\lib\\site-packages\\pandas\\core\\groupby\\groupby.py\u001b[0m in \u001b[0;36m_make_wrapper\u001b[1;34m(self, name)\u001b[0m\n\u001b[0;32m    602\u001b[0m                 \u001b[1;34m\"using the 'apply' method\"\u001b[0m\u001b[1;33m.\u001b[0m\u001b[0mformat\u001b[0m\u001b[1;33m(\u001b[0m\u001b[0mkind\u001b[0m\u001b[1;33m,\u001b[0m \u001b[0mname\u001b[0m\u001b[1;33m,\u001b[0m \u001b[0mtype\u001b[0m\u001b[1;33m(\u001b[0m\u001b[0mself\u001b[0m\u001b[1;33m)\u001b[0m\u001b[1;33m.\u001b[0m\u001b[0m__name__\u001b[0m\u001b[1;33m)\u001b[0m\u001b[1;33m\u001b[0m\u001b[1;33m\u001b[0m\u001b[0m\n\u001b[0;32m    603\u001b[0m             )\n\u001b[1;32m--> 604\u001b[1;33m             \u001b[1;32mraise\u001b[0m \u001b[0mAttributeError\u001b[0m\u001b[1;33m(\u001b[0m\u001b[0mmsg\u001b[0m\u001b[1;33m)\u001b[0m\u001b[1;33m\u001b[0m\u001b[1;33m\u001b[0m\u001b[0m\n\u001b[0m\u001b[0;32m    605\u001b[0m \u001b[1;33m\u001b[0m\u001b[0m\n\u001b[0;32m    606\u001b[0m         \u001b[0mself\u001b[0m\u001b[1;33m.\u001b[0m\u001b[0m_set_group_selection\u001b[0m\u001b[1;33m(\u001b[0m\u001b[1;33m)\u001b[0m\u001b[1;33m\u001b[0m\u001b[1;33m\u001b[0m\u001b[0m\n",
      "\u001b[1;31mAttributeError\u001b[0m: Cannot access callable attribute 'loc' of 'DataFrameGroupBy' objects, try using the 'apply' method"
     ]
    }
   ],
   "source": [
    "# Customers less than 50 orders\n",
    "df_clean=CustomerID.loc[lambda CustomerID: CustomerID['InvoiceNo'] > 50]\n",
    "print(df_clean)\n",
    "df_clean.reset_index().StockCode.hist(bins=50)"
   ]
  },
  {
   "cell_type": "code",
   "execution_count": 59,
   "metadata": {},
   "outputs": [
    {
     "data": {
      "image/png": "[encoded data removed]",
      "text/plain": [
       "<Figure size 432x288 with 1 Axes>"
      ]
     },
     "metadata": {
      "needs_background": "light"
     },
     "output_type": "display_data"
    }
   ],
   "source": [
    "cluster1=df[['StockCode','CustomerID']]\n",
    "X_train, X_test, y_train, y_test = train_test_split(cluster1['StockCode'], cluster1['CustomerID'], test_size=0.33, random_state=42)\n",
    "plt.scatter(X_test,y_test)\n",
    "plt.show()"
   ]
  },
  {
   "cell_type": "markdown",
   "metadata": {},
   "source": [
    "Create a DataFrame that indexed by the **StockCode** and use the **CustomerID** as the columns where we figured the values to be the **Quantity** shared between them. Normalize the data."
   ]
  },
  {
   "cell_type": "code",
   "execution_count": 159,
   "metadata": {
    "scrolled": true
   },
   "outputs": [
    {
     "name": "stdout",
     "output_type": "stream",
     "text": [
      "[[0.01682291 0.01682291 0.01682291 0.01682291 0.01682291 0.01682291]\n",
      " [0.0026968  0.0026968  0.0026968  0.0026968  0.0026968  0.0026968 ]\n",
      " [0.0033389  0.0033389  0.0033389  0.0033389  0.0033389  0.0033389 ]\n",
      " ...\n",
      " [0.0147682  0.0147682  0.0147682  0.0147682  0.0147682  0.0147682 ]\n",
      " [0.09027867 0.09027867 0.09027867 0.09027867 0.09027867 0.09027867]\n",
      " [0.00243996 0.00243996 0.00243996 0.00243996 0.00243996 0.00243996]]\n"
     ]
    }
   ],
   "source": [
    "# New DataFrame created to view the relationship between the custumer and the items purchased filling NaN with 0.\n",
    "cluster1 = df_clean.pivot_table(index='StockCode', columns='CustomerID', values='Quantity', aggfunc = np.sum).fillna(value=0)\n",
    "# Normalizing the data.\n",
    "cluster1_minmax = MinMaxScaler().fit_transform(df_clean)\n",
    "print(cluster1_minmax)"
   ]
  },
  {
   "cell_type": "markdown",
   "metadata": {},
   "source": [
    "Figured out the *optimal* **k** (number of clusters) for the DataFrame using the **Elbow Method** by obtaining initializing a range of values for **k**. We then plot this data to observe the plot for the **Elbow Point** which gives the optimal **k**. "
   ]
  },
  {
   "cell_type": "code",
   "execution_count": 230,
   "metadata": {},
   "outputs": [
    {
     "ename": "MemoryError",
     "evalue": "",
     "output_type": "error",
     "traceback": [
      "\u001b[1;31m---------------------------------------------------------------------------\u001b[0m",
      "\u001b[1;31mMemoryError\u001b[0m                               Traceback (most recent call last)",
      "\u001b[1;32m<ipython-input-230-abf62e1703d4>\u001b[0m in \u001b[0;36m<module>\u001b[1;34m\u001b[0m\n\u001b[0;32m      4\u001b[0m \u001b[1;32mfor\u001b[0m \u001b[0mk\u001b[0m \u001b[1;32min\u001b[0m \u001b[0mK\u001b[0m\u001b[1;33m:\u001b[0m\u001b[1;33m\u001b[0m\u001b[1;33m\u001b[0m\u001b[0m\n\u001b[0;32m      5\u001b[0m     \u001b[0mkm\u001b[0m \u001b[1;33m=\u001b[0m \u001b[0mKMeans\u001b[0m\u001b[1;33m(\u001b[0m\u001b[0mn_clusters\u001b[0m\u001b[1;33m=\u001b[0m\u001b[0mk\u001b[0m\u001b[1;33m)\u001b[0m\u001b[1;33m\u001b[0m\u001b[1;33m\u001b[0m\u001b[0m\n\u001b[1;32m----> 6\u001b[1;33m     \u001b[0mkm\u001b[0m \u001b[1;33m=\u001b[0m \u001b[0mkm\u001b[0m\u001b[1;33m.\u001b[0m\u001b[0mfit\u001b[0m\u001b[1;33m(\u001b[0m\u001b[0mdf\u001b[0m\u001b[1;33m)\u001b[0m\u001b[1;33m\u001b[0m\u001b[1;33m\u001b[0m\u001b[0m\n\u001b[0m\u001b[0;32m      7\u001b[0m     \u001b[0mSum_of_squared\u001b[0m\u001b[1;33m.\u001b[0m\u001b[0mappend\u001b[0m\u001b[1;33m(\u001b[0m\u001b[0mkm\u001b[0m\u001b[1;33m.\u001b[0m\u001b[0minertia_\u001b[0m\u001b[1;33m)\u001b[0m\u001b[1;33m\u001b[0m\u001b[1;33m\u001b[0m\u001b[0m\n",
      "\u001b[1;32m~\\Anaconda3\\lib\\site-packages\\sklearn\\cluster\\k_means_.py\u001b[0m in \u001b[0;36mfit\u001b[1;34m(self, X, y, sample_weight)\u001b[0m\n\u001b[0;32m    970\u001b[0m                 \u001b[0mtol\u001b[0m\u001b[1;33m=\u001b[0m\u001b[0mself\u001b[0m\u001b[1;33m.\u001b[0m\u001b[0mtol\u001b[0m\u001b[1;33m,\u001b[0m \u001b[0mrandom_state\u001b[0m\u001b[1;33m=\u001b[0m\u001b[0mrandom_state\u001b[0m\u001b[1;33m,\u001b[0m \u001b[0mcopy_x\u001b[0m\u001b[1;33m=\u001b[0m\u001b[0mself\u001b[0m\u001b[1;33m.\u001b[0m\u001b[0mcopy_x\u001b[0m\u001b[1;33m,\u001b[0m\u001b[1;33m\u001b[0m\u001b[1;33m\u001b[0m\u001b[0m\n\u001b[0;32m    971\u001b[0m                 \u001b[0mn_jobs\u001b[0m\u001b[1;33m=\u001b[0m\u001b[0mself\u001b[0m\u001b[1;33m.\u001b[0m\u001b[0mn_jobs\u001b[0m\u001b[1;33m,\u001b[0m \u001b[0malgorithm\u001b[0m\u001b[1;33m=\u001b[0m\u001b[0mself\u001b[0m\u001b[1;33m.\u001b[0m\u001b[0malgorithm\u001b[0m\u001b[1;33m,\u001b[0m\u001b[1;33m\u001b[0m\u001b[1;33m\u001b[0m\u001b[0m\n\u001b[1;32m--> 972\u001b[1;33m                 return_n_iter=True)\n\u001b[0m\u001b[0;32m    973\u001b[0m         \u001b[1;32mreturn\u001b[0m \u001b[0mself\u001b[0m\u001b[1;33m\u001b[0m\u001b[1;33m\u001b[0m\u001b[0m\n\u001b[0;32m    974\u001b[0m \u001b[1;33m\u001b[0m\u001b[0m\n",
      "\u001b[1;32m~\\Anaconda3\\lib\\site-packages\\sklearn\\cluster\\k_means_.py\u001b[0m in \u001b[0;36mk_means\u001b[1;34m(X, n_clusters, sample_weight, init, precompute_distances, n_init, max_iter, verbose, tol, random_state, copy_x, n_jobs, algorithm, return_n_iter)\u001b[0m\n\u001b[0;32m    310\u001b[0m     \u001b[0morder\u001b[0m \u001b[1;33m=\u001b[0m \u001b[1;34m\"C\"\u001b[0m \u001b[1;32mif\u001b[0m \u001b[0mcopy_x\u001b[0m \u001b[1;32melse\u001b[0m \u001b[1;32mNone\u001b[0m\u001b[1;33m\u001b[0m\u001b[1;33m\u001b[0m\u001b[0m\n\u001b[0;32m    311\u001b[0m     X = check_array(X, accept_sparse='csr', dtype=[np.float64, np.float32],\n\u001b[1;32m--> 312\u001b[1;33m                     order=order, copy=copy_x)\n\u001b[0m\u001b[0;32m    313\u001b[0m     \u001b[1;31m# verify that the number of samples given is larger than k\u001b[0m\u001b[1;33m\u001b[0m\u001b[1;33m\u001b[0m\u001b[1;33m\u001b[0m\u001b[0m\n\u001b[0;32m    314\u001b[0m     \u001b[1;32mif\u001b[0m \u001b[0m_num_samples\u001b[0m\u001b[1;33m(\u001b[0m\u001b[0mX\u001b[0m\u001b[1;33m)\u001b[0m \u001b[1;33m<\u001b[0m \u001b[0mn_clusters\u001b[0m\u001b[1;33m:\u001b[0m\u001b[1;33m\u001b[0m\u001b[1;33m\u001b[0m\u001b[0m\n",
      "\u001b[1;32m~\\Anaconda3\\lib\\site-packages\\sklearn\\utils\\validation.py\u001b[0m in \u001b[0;36mcheck_array\u001b[1;34m(array, accept_sparse, accept_large_sparse, dtype, order, copy, force_all_finite, ensure_2d, allow_nd, ensure_min_samples, ensure_min_features, warn_on_dtype, estimator)\u001b[0m\n\u001b[0;32m    494\u001b[0m             \u001b[1;32mtry\u001b[0m\u001b[1;33m:\u001b[0m\u001b[1;33m\u001b[0m\u001b[1;33m\u001b[0m\u001b[0m\n\u001b[0;32m    495\u001b[0m                 \u001b[0mwarnings\u001b[0m\u001b[1;33m.\u001b[0m\u001b[0msimplefilter\u001b[0m\u001b[1;33m(\u001b[0m\u001b[1;34m'error'\u001b[0m\u001b[1;33m,\u001b[0m \u001b[0mComplexWarning\u001b[0m\u001b[1;33m)\u001b[0m\u001b[1;33m\u001b[0m\u001b[1;33m\u001b[0m\u001b[0m\n\u001b[1;32m--> 496\u001b[1;33m                 \u001b[0marray\u001b[0m \u001b[1;33m=\u001b[0m \u001b[0mnp\u001b[0m\u001b[1;33m.\u001b[0m\u001b[0masarray\u001b[0m\u001b[1;33m(\u001b[0m\u001b[0marray\u001b[0m\u001b[1;33m,\u001b[0m \u001b[0mdtype\u001b[0m\u001b[1;33m=\u001b[0m\u001b[0mdtype\u001b[0m\u001b[1;33m,\u001b[0m \u001b[0morder\u001b[0m\u001b[1;33m=\u001b[0m\u001b[0morder\u001b[0m\u001b[1;33m)\u001b[0m\u001b[1;33m\u001b[0m\u001b[1;33m\u001b[0m\u001b[0m\n\u001b[0m\u001b[0;32m    497\u001b[0m             \u001b[1;32mexcept\u001b[0m \u001b[0mComplexWarning\u001b[0m\u001b[1;33m:\u001b[0m\u001b[1;33m\u001b[0m\u001b[1;33m\u001b[0m\u001b[0m\n\u001b[0;32m    498\u001b[0m                 raise ValueError(\"Complex data not supported\\n\"\n",
      "\u001b[1;32m~\\Anaconda3\\lib\\site-packages\\numpy\\core\\numeric.py\u001b[0m in \u001b[0;36masarray\u001b[1;34m(a, dtype, order)\u001b[0m\n\u001b[0;32m    536\u001b[0m \u001b[1;33m\u001b[0m\u001b[0m\n\u001b[0;32m    537\u001b[0m     \"\"\"\n\u001b[1;32m--> 538\u001b[1;33m     \u001b[1;32mreturn\u001b[0m \u001b[0marray\u001b[0m\u001b[1;33m(\u001b[0m\u001b[0ma\u001b[0m\u001b[1;33m,\u001b[0m \u001b[0mdtype\u001b[0m\u001b[1;33m,\u001b[0m \u001b[0mcopy\u001b[0m\u001b[1;33m=\u001b[0m\u001b[1;32mFalse\u001b[0m\u001b[1;33m,\u001b[0m \u001b[0morder\u001b[0m\u001b[1;33m=\u001b[0m\u001b[0morder\u001b[0m\u001b[1;33m)\u001b[0m\u001b[1;33m\u001b[0m\u001b[1;33m\u001b[0m\u001b[0m\n\u001b[0m\u001b[0;32m    539\u001b[0m \u001b[1;33m\u001b[0m\u001b[0m\n\u001b[0;32m    540\u001b[0m \u001b[1;33m\u001b[0m\u001b[0m\n",
      "\u001b[1;32m~\\Anaconda3\\lib\\site-packages\\pandas\\core\\generic.py\u001b[0m in \u001b[0;36m__array__\u001b[1;34m(self, dtype)\u001b[0m\n\u001b[0;32m   1993\u001b[0m \u001b[1;33m\u001b[0m\u001b[0m\n\u001b[0;32m   1994\u001b[0m     \u001b[1;32mdef\u001b[0m \u001b[0m__array__\u001b[0m\u001b[1;33m(\u001b[0m\u001b[0mself\u001b[0m\u001b[1;33m,\u001b[0m \u001b[0mdtype\u001b[0m\u001b[1;33m=\u001b[0m\u001b[1;32mNone\u001b[0m\u001b[1;33m)\u001b[0m\u001b[1;33m:\u001b[0m\u001b[1;33m\u001b[0m\u001b[1;33m\u001b[0m\u001b[0m\n\u001b[1;32m-> 1995\u001b[1;33m         \u001b[1;32mreturn\u001b[0m \u001b[0mcom\u001b[0m\u001b[1;33m.\u001b[0m\u001b[0mvalues_from_object\u001b[0m\u001b[1;33m(\u001b[0m\u001b[0mself\u001b[0m\u001b[1;33m)\u001b[0m\u001b[1;33m\u001b[0m\u001b[1;33m\u001b[0m\u001b[0m\n\u001b[0m\u001b[0;32m   1996\u001b[0m \u001b[1;33m\u001b[0m\u001b[0m\n\u001b[0;32m   1997\u001b[0m     \u001b[1;32mdef\u001b[0m \u001b[0m__array_wrap__\u001b[0m\u001b[1;33m(\u001b[0m\u001b[0mself\u001b[0m\u001b[1;33m,\u001b[0m \u001b[0mresult\u001b[0m\u001b[1;33m,\u001b[0m \u001b[0mcontext\u001b[0m\u001b[1;33m=\u001b[0m\u001b[1;32mNone\u001b[0m\u001b[1;33m)\u001b[0m\u001b[1;33m:\u001b[0m\u001b[1;33m\u001b[0m\u001b[1;33m\u001b[0m\u001b[0m\n",
      "\u001b[1;32mpandas\\_libs\\lib.pyx\u001b[0m in \u001b[0;36mpandas._libs.lib.values_from_object\u001b[1;34m()\u001b[0m\n",
      "\u001b[1;32m~\\Anaconda3\\lib\\site-packages\\pandas\\core\\generic.py\u001b[0m in \u001b[0;36mvalues\u001b[1;34m(self)\u001b[0m\n\u001b[0;32m   5441\u001b[0m         \"\"\"\n\u001b[0;32m   5442\u001b[0m         \u001b[0mself\u001b[0m\u001b[1;33m.\u001b[0m\u001b[0m_consolidate_inplace\u001b[0m\u001b[1;33m(\u001b[0m\u001b[1;33m)\u001b[0m\u001b[1;33m\u001b[0m\u001b[1;33m\u001b[0m\u001b[0m\n\u001b[1;32m-> 5443\u001b[1;33m         \u001b[1;32mreturn\u001b[0m \u001b[0mself\u001b[0m\u001b[1;33m.\u001b[0m\u001b[0m_data\u001b[0m\u001b[1;33m.\u001b[0m\u001b[0mas_array\u001b[0m\u001b[1;33m(\u001b[0m\u001b[0mtranspose\u001b[0m\u001b[1;33m=\u001b[0m\u001b[0mself\u001b[0m\u001b[1;33m.\u001b[0m\u001b[0m_AXIS_REVERSED\u001b[0m\u001b[1;33m)\u001b[0m\u001b[1;33m\u001b[0m\u001b[1;33m\u001b[0m\u001b[0m\n\u001b[0m\u001b[0;32m   5444\u001b[0m \u001b[1;33m\u001b[0m\u001b[0m\n\u001b[0;32m   5445\u001b[0m     \u001b[1;33m@\u001b[0m\u001b[0mproperty\u001b[0m\u001b[1;33m\u001b[0m\u001b[1;33m\u001b[0m\u001b[0m\n",
      "\u001b[1;32m~\\Anaconda3\\lib\\site-packages\\pandas\\core\\internals\\managers.py\u001b[0m in \u001b[0;36mas_array\u001b[1;34m(self, transpose, items)\u001b[0m\n\u001b[0;32m    820\u001b[0m             \u001b[0marr\u001b[0m \u001b[1;33m=\u001b[0m \u001b[0mnp\u001b[0m\u001b[1;33m.\u001b[0m\u001b[0masarray\u001b[0m\u001b[1;33m(\u001b[0m\u001b[0mmgr\u001b[0m\u001b[1;33m.\u001b[0m\u001b[0mblocks\u001b[0m\u001b[1;33m[\u001b[0m\u001b[1;36m0\u001b[0m\u001b[1;33m]\u001b[0m\u001b[1;33m.\u001b[0m\u001b[0mget_values\u001b[0m\u001b[1;33m(\u001b[0m\u001b[1;33m)\u001b[0m\u001b[1;33m)\u001b[0m\u001b[1;33m\u001b[0m\u001b[1;33m\u001b[0m\u001b[0m\n\u001b[0;32m    821\u001b[0m         \u001b[1;32melse\u001b[0m\u001b[1;33m:\u001b[0m\u001b[1;33m\u001b[0m\u001b[1;33m\u001b[0m\u001b[0m\n\u001b[1;32m--> 822\u001b[1;33m             \u001b[0marr\u001b[0m \u001b[1;33m=\u001b[0m \u001b[0mmgr\u001b[0m\u001b[1;33m.\u001b[0m\u001b[0m_interleave\u001b[0m\u001b[1;33m(\u001b[0m\u001b[1;33m)\u001b[0m\u001b[1;33m\u001b[0m\u001b[1;33m\u001b[0m\u001b[0m\n\u001b[0m\u001b[0;32m    823\u001b[0m \u001b[1;33m\u001b[0m\u001b[0m\n\u001b[0;32m    824\u001b[0m         \u001b[1;32mreturn\u001b[0m \u001b[0marr\u001b[0m\u001b[1;33m.\u001b[0m\u001b[0mtranspose\u001b[0m\u001b[1;33m(\u001b[0m\u001b[1;33m)\u001b[0m \u001b[1;32mif\u001b[0m \u001b[0mtranspose\u001b[0m \u001b[1;32melse\u001b[0m \u001b[0marr\u001b[0m\u001b[1;33m\u001b[0m\u001b[1;33m\u001b[0m\u001b[0m\n",
      "\u001b[1;32m~\\Anaconda3\\lib\\site-packages\\pandas\\core\\internals\\managers.py\u001b[0m in \u001b[0;36m_interleave\u001b[1;34m(self)\u001b[0m\n\u001b[0;32m    838\u001b[0m             \u001b[0mdtype\u001b[0m \u001b[1;33m=\u001b[0m \u001b[1;34m\"object\"\u001b[0m\u001b[1;33m\u001b[0m\u001b[1;33m\u001b[0m\u001b[0m\n\u001b[0;32m    839\u001b[0m \u001b[1;33m\u001b[0m\u001b[0m\n\u001b[1;32m--> 840\u001b[1;33m         \u001b[0mresult\u001b[0m \u001b[1;33m=\u001b[0m \u001b[0mnp\u001b[0m\u001b[1;33m.\u001b[0m\u001b[0mempty\u001b[0m\u001b[1;33m(\u001b[0m\u001b[0mself\u001b[0m\u001b[1;33m.\u001b[0m\u001b[0mshape\u001b[0m\u001b[1;33m,\u001b[0m \u001b[0mdtype\u001b[0m\u001b[1;33m=\u001b[0m\u001b[0mdtype\u001b[0m\u001b[1;33m)\u001b[0m\u001b[1;33m\u001b[0m\u001b[1;33m\u001b[0m\u001b[0m\n\u001b[0m\u001b[0;32m    841\u001b[0m \u001b[1;33m\u001b[0m\u001b[0m\n\u001b[0;32m    842\u001b[0m         \u001b[0mitemmask\u001b[0m \u001b[1;33m=\u001b[0m \u001b[0mnp\u001b[0m\u001b[1;33m.\u001b[0m\u001b[0mzeros\u001b[0m\u001b[1;33m(\u001b[0m\u001b[0mself\u001b[0m\u001b[1;33m.\u001b[0m\u001b[0mshape\u001b[0m\u001b[1;33m[\u001b[0m\u001b[1;36m0\u001b[0m\u001b[1;33m]\u001b[0m\u001b[1;33m)\u001b[0m\u001b[1;33m\u001b[0m\u001b[1;33m\u001b[0m\u001b[0m\n",
      "\u001b[1;31mMemoryError\u001b[0m: "
     ]
    }
   ],
   "source": [
    "# Gave a range for K to obtain the list of K values\n",
    "Sum_of_squared = []\n",
    "K = range(1,20)\n",
    "for k in K:\n",
    "    km = KMeans(n_clusters=k)\n",
    "    km = km.fit(df)\n",
    "    Sum_of_squared.append(km.inertia_)"
   ]
  },
  {
   "cell_type": "code",
   "execution_count": 69,
   "metadata": {},
   "outputs": [
    {
     "data": {
      "image/png": "[encoded data removed]",
      "text/plain": [
       "<Figure size 432x288 with 1 Axes>"
      ]
     },
     "metadata": {
      "needs_background": "light"
     },
     "output_type": "display_data"
    }
   ],
   "source": [
    "# Create the plot that will produce the elbow plot to give optimal value of k.\n",
    "plt.plot(K, Sum_of_squared, 'bx-')\n",
    "plt.xlabel('k')\n",
    "plt.ylabel('Sum_of_squares')\n",
    "plt.title('Elbow Method For Optimal k')\n",
    "plt.show()"
   ]
  },
  {
   "cell_type": "markdown",
   "metadata": {},
   "source": [
    "Create a DataFrame that indexed by the **CustomerID** and use the **StockCode** as the columns where we figured the values to be the **Quantity** shared between them. Normalize the data."
   ]
  },
  {
   "cell_type": "code",
   "execution_count": 118,
   "metadata": {},
   "outputs": [
    {
     "name": "stdout",
     "output_type": "stream",
     "text": [
      "[[0.01682291 0.01682291 0.01682291 0.01682291 0.01682291 0.01682291]\n",
      " [0.0026968  0.0026968  0.0026968  0.0026968  0.0026968  0.0026968 ]\n",
      " [0.0033389  0.0033389  0.0033389  0.0033389  0.0033389  0.0033389 ]\n",
      " ...\n",
      " [0.0147682  0.0147682  0.0147682  0.0147682  0.0147682  0.0147682 ]\n",
      " [0.09027867 0.09027867 0.09027867 0.09027867 0.09027867 0.09027867]\n",
      " [0.00243996 0.00243996 0.00243996 0.00243996 0.00243996 0.00243996]]\n"
     ]
    }
   ],
   "source": [
    "# New DataFrame created to view the relationship between the custumer and the items purchased filling NaN with 0.\n",
    "cluster2 = df_clean.pivot_table(index='CustomerID', columns='StockCode', values='Quantity', aggfunc = np.sum).fillna(value=0)\n",
    "# Normalized the data.\n",
    "cluster2_minmax = MinMaxScaler().fit_transform(df_clean)\n",
    "print(cluster2_minmax)"
   ]
  },
  {
   "cell_type": "code",
   "execution_count": 160,
   "metadata": {},
   "outputs": [
    {
     "data": {
      "text/plain": [
       "KMeans(algorithm='full', copy_x=True, init='k-means||', init_max_iter=None,\n",
       "       max_iter=300, n_clusters=3, n_jobs=1, oversampling_factor=5,\n",
       "       precompute_distances='auto', random_state=None, tol=0.0001)"
      ]
     },
     "execution_count": 160,
     "metadata": {},
     "output_type": "execute_result"
    }
   ],
   "source": [
    "km = dask_ml.cluster.KMeans(n_clusters=3,oversampling_factor=5)\n",
    "km.fit(cluster1)"
   ]
  },
  {
   "cell_type": "code",
   "execution_count": 161,
   "metadata": {},
   "outputs": [],
   "source": [
    "labels = list(km.labels_.compute())\n",
    "customer_labels = list(zip(cluster1,labels))"
   ]
  },
  {
   "cell_type": "code",
   "execution_count": 162,
   "metadata": {},
   "outputs": [
    {
     "name": "stdout",
     "output_type": "stream",
     "text": [
      "[(12347, 0), (12349, 0), (12352, 0), (12354, 0), (12356, 0), (12357, 0), (12359, 0), (12360, 0), (12362, 0), (12364, 0), (12370, 0), (12371, 0), (12377, 0), (12378, 0), (12380, 0), (12381, 0), (12383, 0), (12388, 0), (12391, 0), (12393, 0), (12395, 0), (12397, 0), (12398, 0), (12399, 0), (12405, 0), (12406, 0), (12407, 0), (12408, 0), (12409, 0), (12412, 0), (12415, 0), (12417, 0), (12423, 0), (12428, 0), (12429, 0), (12431, 0), (12432, 0), (12433, 0), (12437, 0), (12438, 0), (12444, 0), (12446, 0), (12449, 0), (12451, 0), (12455, 0), (12456, 0), (12457, 0), (12462, 0), (12463, 0), (12471, 0), (12472, 0), (12473, 0), (12474, 0), (12476, 0), (12477, 0), (12480, 0), (12481, 0), (12483, 0), (12484, 0), (12488, 0), (12490, 0), (12494, 0), (12500, 0), (12501, 0), (12502, 0), (12508, 0), (12514, 0), (12517, 0), (12518, 0), (12520, 0), (12523, 0), (12524, 0), (12526, 0), (12528, 0), (12530, 0), (12534, 0), (12536, 0), (12539, 0), (12540, 0), (12546, 0), (12550, 0), (12553, 0), (12556, 0), (12560, 0), (12562, 0), (12567, 0), (12569, 0), (12572, 0), (12576, 0), (12577, 0), (12578, 0), (12583, 0), (12584, 0), (12585, 0), (12590, 0), (12594, 0), (12597, 0), (12598, 0), (12599, 0), (12600, 0), (12607, 0), (12609, 0), (12610, 0), (12611, 0), (12613, 0), (12615, 0), (12619, 0), (12620, 0), (12621, 0), (12625, 0), (12626, 0), (12627, 0), (12630, 0), (12633, 0), (12635, 0), (12637, 0), (12645, 0), (12647, 0), (12656, 0), (12662, 0), (12668, 0), (12669, 0), (12670, 0), (12674, 0), (12678, 0), (12681, 0), (12682, 0), (12683, 0), (12684, 0), (12685, 0), (12688, 0), (12689, 0), (12700, 0), (12701, 0), (12704, 0), (12705, 0), (12708, 0), (12709, 0), (12710, 0), (12712, 0), (12714, 0), (12716, 0), (12717, 0), (12720, 0), (12721, 0), (12722, 0), (12723, 0), (12726, 0), (12727, 0), (12731, 0), (12743, 0), (12744, 0), (12747, 0), (12748, 0), (12749, 0), (12752, 0), (12753, 0), (12754, 0), (12757, 0), (12758, 0), (12759, 0), (12762, 0), (12766, 0), (12772, 0), (12775, 0), (12779, 0), (12782, 0), (12783, 0), (12784, 0), (12820, 0), (12826, 0), (12828, 0), (12836, 0), (12838, 0), (12839, 0), (12840, 0), (12841, 0), (12843, 0), (12844, 0), (12847, 0), (12853, 0), (12854, 0), (12856, 0), (12865, 0), (12867, 0), (12868, 0), (12872, 0), (12876, 0), (12877, 0), (12885, 0), (12886, 0), (12890, 0), (12901, 0), (12904, 0), (12906, 0), (12909, 0), (12910, 0), (12916, 0), (12921, 0), (12928, 0), (12931, 0), (12933, 0), (12935, 0), (12936, 0), (12937, 0), (12940, 0), (12942, 0), (12947, 0), (12948, 0), (12949, 0), (12951, 0), (12952, 0), (12955, 0), (12957, 0), (12963, 0), (12965, 0), (12970, 0), (12971, 0), (12985, 0), (12988, 0), (12989, 0), (12994, 0), (12997, 0), (13001, 0), (13004, 0), (13012, 0), (13013, 0), (13014, 0), (13015, 0), (13018, 0), (13021, 0), (13030, 0), (13032, 0), (13047, 0), (13048, 0), (13050, 0), (13055, 0), (13064, 0), (13069, 0), (13077, 0), (13078, 0), (13081, 0), (13082, 0), (13089, 0), (13090, 0), (13093, 0), (13097, 0), (13098, 0), (13102, 0), (13107, 0), (13110, 0), (13113, 0), (13115, 0), (13117, 0), (13118, 0), (13122, 0), (13124, 0), (13126, 0), (13134, 0), (13136, 0), (13137, 0), (13138, 0), (13139, 0), (13141, 0), (13148, 0), (13149, 0), (13151, 0), (13155, 0), (13157, 0), (13158, 0), (13159, 0), (13162, 0), (13167, 0), (13168, 0), (13174, 0), (13176, 0), (13178, 0), (13183, 0), (13184, 0), (13186, 0), (13192, 0), (13196, 0), (13198, 0), (13199, 0), (13203, 0), (13208, 0), (13209, 0), (13211, 0), (13212, 0), (13213, 0), (13221, 0), (13224, 0), (13230, 0), (13232, 0), (13235, 0), (13240, 0), (13243, 0), (13246, 0), (13259, 0), (13263, 0), (13265, 0), (13266, 0), (13267, 0), (13268, 0), (13269, 0), (13271, 0), (13280, 0), (13285, 0), (13294, 0), (13297, 0), (13301, 0), (13305, 0), (13308, 0), (13309, 0), (13310, 0), (13313, 0), (13314, 0), (13316, 0), (13317, 0), (13319, 0), (13320, 0), (13324, 0), (13327, 0), (13330, 0), (13334, 0), (13336, 0), (13339, 0), (13340, 0), (13344, 0), (13354, 0), (13357, 0), (13362, 0), (13363, 0), (13365, 0), (13373, 0), (13376, 0), (13379, 0), (13381, 0), (13384, 0), (13389, 0), (13394, 0), (13408, 0), (13418, 0), (13421, 0), (13422, 0), (13425, 0), (13426, 0), (13428, 0), (13429, 0), (13435, 0), (13437, 0), (13439, 0), (13447, 0), (13448, 0), (13450, 0), (13451, 0), (13456, 0), (13458, 0), (13467, 0), (13468, 0), (13471, 0), (13474, 0), (13475, 0), (13476, 0), (13477, 0), (13481, 0), (13486, 0), (13488, 0), (13491, 0), (13500, 0), (13501, 0), (13505, 0), (13507, 0), (13510, 0), (13515, 0), (13517, 0), (13520, 0), (13521, 0), (13523, 0), (13527, 0), (13532, 0), (13533, 0), (13534, 0), (13536, 0), (13544, 0), (13546, 0), (13548, 0), (13549, 0), (13552, 0), (13555, 0), (13558, 0), (13562, 0), (13564, 0), (13566, 0), (13569, 0), (13571, 0), (13576, 0), (13577, 0), (13583, 0), (13588, 0), (13590, 0), (13591, 0), (13593, 0), (13596, 0), (13599, 0), (13601, 0), (13607, 0), (13610, 0), (13611, 0), (13614, 0), (13623, 0), (13627, 0), (13629, 0), (13630, 0), (13632, 0), (13634, 2), (13635, 1)]\n"
     ]
    }
   ],
   "source": [
    "print(customer_labels)"
   ]
  },
  {
   "cell_type": "code",
   "execution_count": 166,
   "metadata": {},
   "outputs": [
    {
     "ename": "ValueError",
     "evalue": "Length of values does not match length of index",
     "output_type": "error",
     "traceback": [
      "\u001b[1;31m---------------------------------------------------------------------------\u001b[0m",
      "\u001b[1;31mValueError\u001b[0m                                Traceback (most recent call last)",
      "\u001b[1;32m<ipython-input-166-56c24b14f9cd>\u001b[0m in \u001b[0;36m<module>\u001b[1;34m\u001b[0m\n\u001b[1;32m----> 1\u001b[1;33m \u001b[0mdf\u001b[0m\u001b[1;33m[\u001b[0m\u001b[1;34m'label'\u001b[0m\u001b[1;33m]\u001b[0m \u001b[1;33m=\u001b[0m \u001b[0mlabels\u001b[0m\u001b[1;33m\u001b[0m\u001b[1;33m\u001b[0m\u001b[0m\n\u001b[0m",
      "\u001b[1;32m~\\Anaconda3\\lib\\site-packages\\pandas\\core\\frame.py\u001b[0m in \u001b[0;36m__setitem__\u001b[1;34m(self, key, value)\u001b[0m\n\u001b[0;32m   3470\u001b[0m         \u001b[1;32melse\u001b[0m\u001b[1;33m:\u001b[0m\u001b[1;33m\u001b[0m\u001b[1;33m\u001b[0m\u001b[0m\n\u001b[0;32m   3471\u001b[0m             \u001b[1;31m# set column\u001b[0m\u001b[1;33m\u001b[0m\u001b[1;33m\u001b[0m\u001b[1;33m\u001b[0m\u001b[0m\n\u001b[1;32m-> 3472\u001b[1;33m             \u001b[0mself\u001b[0m\u001b[1;33m.\u001b[0m\u001b[0m_set_item\u001b[0m\u001b[1;33m(\u001b[0m\u001b[0mkey\u001b[0m\u001b[1;33m,\u001b[0m \u001b[0mvalue\u001b[0m\u001b[1;33m)\u001b[0m\u001b[1;33m\u001b[0m\u001b[1;33m\u001b[0m\u001b[0m\n\u001b[0m\u001b[0;32m   3473\u001b[0m \u001b[1;33m\u001b[0m\u001b[0m\n\u001b[0;32m   3474\u001b[0m     \u001b[1;32mdef\u001b[0m \u001b[0m_setitem_slice\u001b[0m\u001b[1;33m(\u001b[0m\u001b[0mself\u001b[0m\u001b[1;33m,\u001b[0m \u001b[0mkey\u001b[0m\u001b[1;33m,\u001b[0m \u001b[0mvalue\u001b[0m\u001b[1;33m)\u001b[0m\u001b[1;33m:\u001b[0m\u001b[1;33m\u001b[0m\u001b[1;33m\u001b[0m\u001b[0m\n",
      "\u001b[1;32m~\\Anaconda3\\lib\\site-packages\\pandas\\core\\frame.py\u001b[0m in \u001b[0;36m_set_item\u001b[1;34m(self, key, value)\u001b[0m\n\u001b[0;32m   3547\u001b[0m \u001b[1;33m\u001b[0m\u001b[0m\n\u001b[0;32m   3548\u001b[0m         \u001b[0mself\u001b[0m\u001b[1;33m.\u001b[0m\u001b[0m_ensure_valid_index\u001b[0m\u001b[1;33m(\u001b[0m\u001b[0mvalue\u001b[0m\u001b[1;33m)\u001b[0m\u001b[1;33m\u001b[0m\u001b[1;33m\u001b[0m\u001b[0m\n\u001b[1;32m-> 3549\u001b[1;33m         \u001b[0mvalue\u001b[0m \u001b[1;33m=\u001b[0m \u001b[0mself\u001b[0m\u001b[1;33m.\u001b[0m\u001b[0m_sanitize_column\u001b[0m\u001b[1;33m(\u001b[0m\u001b[0mkey\u001b[0m\u001b[1;33m,\u001b[0m \u001b[0mvalue\u001b[0m\u001b[1;33m)\u001b[0m\u001b[1;33m\u001b[0m\u001b[1;33m\u001b[0m\u001b[0m\n\u001b[0m\u001b[0;32m   3550\u001b[0m         \u001b[0mNDFrame\u001b[0m\u001b[1;33m.\u001b[0m\u001b[0m_set_item\u001b[0m\u001b[1;33m(\u001b[0m\u001b[0mself\u001b[0m\u001b[1;33m,\u001b[0m \u001b[0mkey\u001b[0m\u001b[1;33m,\u001b[0m \u001b[0mvalue\u001b[0m\u001b[1;33m)\u001b[0m\u001b[1;33m\u001b[0m\u001b[1;33m\u001b[0m\u001b[0m\n\u001b[0;32m   3551\u001b[0m \u001b[1;33m\u001b[0m\u001b[0m\n",
      "\u001b[1;32m~\\Anaconda3\\lib\\site-packages\\pandas\\core\\frame.py\u001b[0m in \u001b[0;36m_sanitize_column\u001b[1;34m(self, key, value, broadcast)\u001b[0m\n\u001b[0;32m   3732\u001b[0m \u001b[1;33m\u001b[0m\u001b[0m\n\u001b[0;32m   3733\u001b[0m             \u001b[1;31m# turn me into an ndarray\u001b[0m\u001b[1;33m\u001b[0m\u001b[1;33m\u001b[0m\u001b[1;33m\u001b[0m\u001b[0m\n\u001b[1;32m-> 3734\u001b[1;33m             \u001b[0mvalue\u001b[0m \u001b[1;33m=\u001b[0m \u001b[0msanitize_index\u001b[0m\u001b[1;33m(\u001b[0m\u001b[0mvalue\u001b[0m\u001b[1;33m,\u001b[0m \u001b[0mself\u001b[0m\u001b[1;33m.\u001b[0m\u001b[0mindex\u001b[0m\u001b[1;33m,\u001b[0m \u001b[0mcopy\u001b[0m\u001b[1;33m=\u001b[0m\u001b[1;32mFalse\u001b[0m\u001b[1;33m)\u001b[0m\u001b[1;33m\u001b[0m\u001b[1;33m\u001b[0m\u001b[0m\n\u001b[0m\u001b[0;32m   3735\u001b[0m             \u001b[1;32mif\u001b[0m \u001b[1;32mnot\u001b[0m \u001b[0misinstance\u001b[0m\u001b[1;33m(\u001b[0m\u001b[0mvalue\u001b[0m\u001b[1;33m,\u001b[0m \u001b[1;33m(\u001b[0m\u001b[0mnp\u001b[0m\u001b[1;33m.\u001b[0m\u001b[0mndarray\u001b[0m\u001b[1;33m,\u001b[0m \u001b[0mIndex\u001b[0m\u001b[1;33m)\u001b[0m\u001b[1;33m)\u001b[0m\u001b[1;33m:\u001b[0m\u001b[1;33m\u001b[0m\u001b[1;33m\u001b[0m\u001b[0m\n\u001b[0;32m   3736\u001b[0m                 \u001b[1;32mif\u001b[0m \u001b[0misinstance\u001b[0m\u001b[1;33m(\u001b[0m\u001b[0mvalue\u001b[0m\u001b[1;33m,\u001b[0m \u001b[0mlist\u001b[0m\u001b[1;33m)\u001b[0m \u001b[1;32mand\u001b[0m \u001b[0mlen\u001b[0m\u001b[1;33m(\u001b[0m\u001b[0mvalue\u001b[0m\u001b[1;33m)\u001b[0m \u001b[1;33m>\u001b[0m \u001b[1;36m0\u001b[0m\u001b[1;33m:\u001b[0m\u001b[1;33m\u001b[0m\u001b[1;33m\u001b[0m\u001b[0m\n",
      "\u001b[1;32m~\\Anaconda3\\lib\\site-packages\\pandas\\core\\internals\\construction.py\u001b[0m in \u001b[0;36msanitize_index\u001b[1;34m(data, index, copy)\u001b[0m\n\u001b[0;32m    610\u001b[0m \u001b[1;33m\u001b[0m\u001b[0m\n\u001b[0;32m    611\u001b[0m     \u001b[1;32mif\u001b[0m \u001b[0mlen\u001b[0m\u001b[1;33m(\u001b[0m\u001b[0mdata\u001b[0m\u001b[1;33m)\u001b[0m \u001b[1;33m!=\u001b[0m \u001b[0mlen\u001b[0m\u001b[1;33m(\u001b[0m\u001b[0mindex\u001b[0m\u001b[1;33m)\u001b[0m\u001b[1;33m:\u001b[0m\u001b[1;33m\u001b[0m\u001b[1;33m\u001b[0m\u001b[0m\n\u001b[1;32m--> 612\u001b[1;33m         \u001b[1;32mraise\u001b[0m \u001b[0mValueError\u001b[0m\u001b[1;33m(\u001b[0m\u001b[1;34m\"Length of values does not match length of index\"\u001b[0m\u001b[1;33m)\u001b[0m\u001b[1;33m\u001b[0m\u001b[1;33m\u001b[0m\u001b[0m\n\u001b[0m\u001b[0;32m    613\u001b[0m \u001b[1;33m\u001b[0m\u001b[0m\n\u001b[0;32m    614\u001b[0m     \u001b[1;32mif\u001b[0m \u001b[0misinstance\u001b[0m\u001b[1;33m(\u001b[0m\u001b[0mdata\u001b[0m\u001b[1;33m,\u001b[0m \u001b[0mABCIndexClass\u001b[0m\u001b[1;33m)\u001b[0m \u001b[1;32mand\u001b[0m \u001b[1;32mnot\u001b[0m \u001b[0mcopy\u001b[0m\u001b[1;33m:\u001b[0m\u001b[1;33m\u001b[0m\u001b[1;33m\u001b[0m\u001b[0m\n",
      "\u001b[1;31mValueError\u001b[0m: Length of values does not match length of index"
     ]
    }
   ],
   "source": [
    "df['label'] = labels"
   ]
  },
  {
   "cell_type": "code",
   "execution_count": 164,
   "metadata": {},
   "outputs": [],
   "source": [
    "def most_common_items(cluster1, k):\n",
    "    cluster1.sort(key = lambda labels: labels[0], reverse=True)\n",
    "    return [customer_label[1] for customer_label in labels[:k]]  \n",
    "\n",
    "def customers_by_label(a_label):\n",
    "    return [(cluster1, label) for (cluster1, label) in customer_labels if label == a_label]"
   ]
  },
  {
   "cell_type": "code",
   "execution_count": 165,
   "metadata": {},
   "outputs": [
    {
     "data": {
      "image/png": "[encoded data removed]",
      "text/plain": [
       "<Figure size 432x288 with 1 Axes>"
      ]
     },
     "metadata": {
      "needs_background": "light"
     },
     "output_type": "display_data"
    }
   ],
   "source": [
    "label_counts = [(label,len(decks_by_label(label))) for label in range(3)]\n",
    "counts = [count for _, count in label_counts]\n",
    "points = {\n",
    "    'cluster':[label for label, _ in label_counts],\n",
    "    'count':[count for _, count in label_counts],\n",
    "}\n",
    "\n",
    "sns.barplot(x=\"cluster\", y=\"count\", data=points).set_title(\"Customers by Cluster\")\n",
    "plt.savefig('figure 1')"
   ]
  },
  {
   "cell_type": "code",
   "execution_count": 146,
   "metadata": {},
   "outputs": [
    {
     "data": {
      "text/plain": [
       "Text(0, 0.5, 'SSE')"
      ]
     },
     "execution_count": 146,
     "metadata": {},
     "output_type": "execute_result"
    },
    {
     "data": {
      "image/png": "[encoded data removed]",
      "text/plain": [
       "<Figure size 432x288 with 1 Axes>"
      ]
     },
     "metadata": {
      "needs_background": "light"
     },
     "output_type": "display_data"
    }
   ],
   "source": [
    "# data-structure to store Sum-Of-Square-Errors\n",
    "sse = {}\n",
    "# Looping over multiple values of k from 1 to 30\n",
    "for k in range(1, 40):\n",
    "    kmeans = KMeans(n_clusters=k, init='k-means++', max_iter=100).fit(cluster1)\n",
    "    sse[k] = kmeans.inertia_\n",
    "# Plotting the curve with 'k'-value vs SSE\n",
    "plt.plot(list(sse.keys()), list(sse.values()))\n",
    "plt.xlabel(\"Number of cluster\")\n",
    "plt.ylabel(\"SSE\")"
   ]
  },
  {
   "cell_type": "code",
   "execution_count": 111,
   "metadata": {},
   "outputs": [
    {
     "data": {
      "text/html": [
       "<div>\n",
       "<style scoped>\n",
       "    .dataframe tbody tr th:only-of-type {\n",
       "        vertical-align: middle;\n",
       "    }\n",
       "\n",
       "    .dataframe tbody tr th {\n",
       "        vertical-align: top;\n",
       "    }\n",
       "\n",
       "    .dataframe thead th {\n",
       "        text-align: right;\n",
       "    }\n",
       "</style>\n",
       "<table border=\"1\" class=\"dataframe\">\n",
       "  <thead>\n",
       "    <tr style=\"text-align: right;\">\n",
       "      <th></th>\n",
       "      <th>InvoiceNo</th>\n",
       "      <th>Description</th>\n",
       "      <th>Quantity</th>\n",
       "      <th>UnitPrice</th>\n",
       "      <th>CustomerID</th>\n",
       "      <th>Country</th>\n",
       "    </tr>\n",
       "    <tr>\n",
       "      <th>StockCode</th>\n",
       "      <th></th>\n",
       "      <th></th>\n",
       "      <th></th>\n",
       "      <th></th>\n",
       "      <th></th>\n",
       "      <th></th>\n",
       "    </tr>\n",
       "  </thead>\n",
       "  <tbody>\n",
       "    <tr>\n",
       "      <td>85099</td>\n",
       "      <td>2941</td>\n",
       "      <td>2941</td>\n",
       "      <td>2941</td>\n",
       "      <td>2941</td>\n",
       "      <td>2941</td>\n",
       "      <td>2941</td>\n",
       "    </tr>\n",
       "    <tr>\n",
       "      <td>85123</td>\n",
       "      <td>2035</td>\n",
       "      <td>2035</td>\n",
       "      <td>2035</td>\n",
       "      <td>2035</td>\n",
       "      <td>2035</td>\n",
       "      <td>2035</td>\n",
       "    </tr>\n",
       "    <tr>\n",
       "      <td>22423</td>\n",
       "      <td>1723</td>\n",
       "      <td>1723</td>\n",
       "      <td>1723</td>\n",
       "      <td>1723</td>\n",
       "      <td>1723</td>\n",
       "      <td>1723</td>\n",
       "    </tr>\n",
       "    <tr>\n",
       "      <td>47566</td>\n",
       "      <td>1713</td>\n",
       "      <td>1713</td>\n",
       "      <td>1713</td>\n",
       "      <td>1713</td>\n",
       "      <td>1713</td>\n",
       "      <td>1713</td>\n",
       "    </tr>\n",
       "    <tr>\n",
       "      <td>84879</td>\n",
       "      <td>1408</td>\n",
       "      <td>1408</td>\n",
       "      <td>1408</td>\n",
       "      <td>1408</td>\n",
       "      <td>1408</td>\n",
       "      <td>1408</td>\n",
       "    </tr>\n",
       "    <tr>\n",
       "      <td>...</td>\n",
       "      <td>...</td>\n",
       "      <td>...</td>\n",
       "      <td>...</td>\n",
       "      <td>...</td>\n",
       "      <td>...</td>\n",
       "      <td>...</td>\n",
       "    </tr>\n",
       "    <tr>\n",
       "      <td>84743</td>\n",
       "      <td>1</td>\n",
       "      <td>1</td>\n",
       "      <td>1</td>\n",
       "      <td>1</td>\n",
       "      <td>1</td>\n",
       "      <td>1</td>\n",
       "    </tr>\n",
       "    <tr>\n",
       "      <td>84746</td>\n",
       "      <td>1</td>\n",
       "      <td>1</td>\n",
       "      <td>1</td>\n",
       "      <td>1</td>\n",
       "      <td>1</td>\n",
       "      <td>1</td>\n",
       "    </tr>\n",
       "    <tr>\n",
       "      <td>90118</td>\n",
       "      <td>1</td>\n",
       "      <td>1</td>\n",
       "      <td>1</td>\n",
       "      <td>1</td>\n",
       "      <td>1</td>\n",
       "      <td>1</td>\n",
       "    </tr>\n",
       "    <tr>\n",
       "      <td>77079</td>\n",
       "      <td>1</td>\n",
       "      <td>1</td>\n",
       "      <td>1</td>\n",
       "      <td>1</td>\n",
       "      <td>1</td>\n",
       "      <td>1</td>\n",
       "    </tr>\n",
       "    <tr>\n",
       "      <td>23449</td>\n",
       "      <td>1</td>\n",
       "      <td>1</td>\n",
       "      <td>1</td>\n",
       "      <td>1</td>\n",
       "      <td>1</td>\n",
       "      <td>1</td>\n",
       "    </tr>\n",
       "  </tbody>\n",
       "</table>\n",
       "<p>3194 rows × 6 columns</p>\n",
       "</div>"
      ],
      "text/plain": [
       "           InvoiceNo  Description  Quantity  UnitPrice  CustomerID  Country\n",
       "StockCode                                                                  \n",
       "85099           2941         2941      2941       2941        2941     2941\n",
       "85123           2035         2035      2035       2035        2035     2035\n",
       "22423           1723         1723      1723       1723        1723     1723\n",
       "47566           1713         1713      1713       1713        1713     1713\n",
       "84879           1408         1408      1408       1408        1408     1408\n",
       "...              ...          ...       ...        ...         ...      ...\n",
       "84743              1            1         1          1           1        1\n",
       "84746              1            1         1          1           1        1\n",
       "90118              1            1         1          1           1        1\n",
       "77079              1            1         1          1           1        1\n",
       "23449              1            1         1          1           1        1\n",
       "\n",
       "[3194 rows x 6 columns]"
      ]
     },
     "execution_count": 111,
     "metadata": {},
     "output_type": "execute_result"
    }
   ],
   "source": [
    "rec1 = pd.DataFrame(df.groupby('StockCode').count().sort_values(by='CustomerID',ascending=False))\n",
    "rec1"
   ]
  },
  {
   "cell_type": "code",
   "execution_count": null,
   "metadata": {},
   "outputs": [],
   "source": [
    "rec1 = rec1.sample(frac = 1) \n",
    "df_train = rec1.head().reset_index().sort_values('InvoiceNo',ascending=False)\n",
    "df_test = rec1.tail().reset_index().sort_values('InvoiceNo', ascending = False)\n",
    "print(df_train[df_train['StockCode'].isin(['85123','22423','20725'])])\n",
    "print(df_test)"
   ]
  },
  {
   "cell_type": "code",
   "execution_count": 147,
   "metadata": {
    "scrolled": true
   },
   "outputs": [
    {
     "name": "stdout",
     "output_type": "stream",
     "text": [
      "[0 0 0 ... 0 0 0]\n",
      "0    0.001579\n",
      "dtype: float64\n",
      "      CustomerID  Unnamed 0\n",
      "0          12347          0\n",
      "1          12349          0\n",
      "2          12352          0\n",
      "3          12354          0\n",
      "4          12356          0\n",
      "...          ...        ...\n",
      "1895       18260          0\n",
      "1896       18263          0\n",
      "1897       18272          0\n",
      "1898       18283          0\n",
      "1899       18287          0\n",
      "\n",
      "[1900 rows x 2 columns]\n"
     ]
    }
   ],
   "source": [
    "kmeans = KMeans(n_clusters=3)\n",
    "kmeans.fit(cluster2)\n",
    "labels = kmeans.predict(cluster2) ## this is the cluster number rows==(custid,clusternum)\n",
    "print(labels)\n",
    "print(pd.DataFrame(labels).mean())\n",
    "df = np.transpose(pd.DataFrame([cluster2.reset_index().CustomerID,labels]))\n",
    "### df_clean=CustomerID.loc[lambda CustomerID: CustomerID['InvoiceNo'] > 50]\n",
    "print(df)"
   ]
  },
  {
   "cell_type": "markdown",
   "metadata": {},
   "source": [
    "## 2.1 Recommendation (Clustering)"
   ]
  },
  {
   "cell_type": "markdown",
   "metadata": {},
   "source": [
    "Figured out the *optimal* **k** (number of clusters) for the DataFrame using the **Elbow Method** by obtaining initializing a range of values for **k**. We then plot this data to observe the plot for the **Elbow Point** which gives the optimal **k**. "
   ]
  },
  {
   "cell_type": "code",
   "execution_count": 26,
   "metadata": {},
   "outputs": [
    {
     "name": "stdout",
     "output_type": "stream",
     "text": [
      "[19.654386301617127, 7.131771146602875, 3.601365940706632, 2.018368630758498, 1.4705880136312974, 0.9243842097817921, 0.6198965865318321, 0.43918344982138025, 0.3509018905147269, 0.26335424994525675, 0.21273157531590006, 0.16876252899170543, 0.14396930396677463, 0.12151889410851055, 0.10509450199767957, 0.09167058060621663, 0.07828692037933291, 0.0645875945628146, 0.0545357065452494]\n"
     ]
    }
   ],
   "source": [
    "# Gave a range for K to obtain the set of K values\n",
    "Sum_of_squared2 = []\n",
    "K = range(1,20)\n",
    "for k in K:\n",
    "    km = KMeans(n_clusters=k)\n",
    "    km = km.fit(cluster2_minmax)\n",
    "    Sum_of_squared2.append(km.inertia_)\n",
    "print(Sum_of_squared2)"
   ]
  },
  {
   "cell_type": "code",
   "execution_count": 27,
   "metadata": {},
   "outputs": [
    {
     "data": {
      "image/png": "[encoded data removed]",
      "text/plain": [
       "<Figure size 432x288 with 1 Axes>"
      ]
     },
     "metadata": {
      "needs_background": "light"
     },
     "output_type": "display_data"
    }
   ],
   "source": [
    "# Create the plot that will produce the elbow plot to give optimal value of k.\n",
    "plt.plot(K, Sum_of_squared2, 'bx-')\n",
    "plt.xlabel('k')\n",
    "plt.ylabel('Sum_of_squares')\n",
    "plt.title('Elbow Method For Optimal k')\n",
    "plt.show()"
   ]
  },
  {
   "cell_type": "markdown",
   "metadata": {},
   "source": [
    "From observations above, it seems the the optimal K=10. We now can use this to give the number of recommended products of most purchased. "
   ]
  },
  {
   "cell_type": "code",
   "execution_count": 28,
   "metadata": {},
   "outputs": [
    {
     "data": {
      "text/plain": [
       "Series([], dtype: float64)"
      ]
     },
     "execution_count": 28,
     "metadata": {},
     "output_type": "execute_result"
    }
   ],
   "source": [
    "similar_to_contact = cluster2.corrwith(cluster1).dropna()\n",
    "similar_to_contact"
   ]
  },
  {
   "cell_type": "code",
   "execution_count": null,
   "metadata": {},
   "outputs": [],
   "source": []
  },
  {
   "cell_type": "markdown",
   "metadata": {},
   "source": [
    "## 2.2 Recommendation (Most Purchased item)"
   ]
  },
  {
   "cell_type": "markdown",
   "metadata": {},
   "source": [
    "We want to figure out how many of each product was purchased. Therefore, we need to group our original data by the **StockCode** to see how many customers purchased the item. This will allow us to see which item was purchased the most of all items. Once we have this data, we now recommend this item to all customers. "
   ]
  },
  {
   "cell_type": "code",
   "execution_count": 29,
   "metadata": {},
   "outputs": [
    {
     "name": "stdout",
     "output_type": "stream",
     "text": [
      "StockCode\n",
      "85123A    2035\n",
      "22423     1723\n",
      "85099B    1618\n",
      "84879     1408\n",
      "47566     1396\n",
      "Name: CustomerID, dtype: int64\n"
     ]
    }
   ],
   "source": [
    "rec1 = pd.DataFrame(df_pos_price.groupby('StockCode').count().sort_values(by='CustomerID',ascending=False))\n",
    "most_purchased = rec1['CustomerID'].head()\n",
    "print(most_purchased)"
   ]
  },
  {
   "cell_type": "markdown",
   "metadata": {},
   "source": [
    "## 2.3 Recommendation (New Items purchased)"
   ]
  },
  {
   "cell_type": "markdown",
   "metadata": {},
   "source": [
    "Extract the products that only **one** customer purchased. These products that are considered **new** since it has no purchase history. Recommend this product to all customers."
   ]
  },
  {
   "cell_type": "code",
   "execution_count": 30,
   "metadata": {},
   "outputs": [
    {
     "name": "stdout",
     "output_type": "stream",
     "text": [
      "StockCode\n",
      "90201B    10\n",
      "22871     10\n",
      "84796A    10\n",
      "85055     10\n",
      "23024     10\n",
      "84925D    10\n",
      "84466     10\n",
      "22486     10\n",
      "85045     10\n",
      "17090A    10\n",
      "90199C    10\n",
      "85095     10\n",
      "90082A    10\n",
      "90162B    10\n",
      "84816     10\n",
      "47591B    10\n",
      "21761     10\n",
      "81950B    10\n",
      "84800S    10\n",
      "20696     10\n",
      "82011A    10\n",
      "90198A    10\n",
      "79337     10\n",
      "23478     10\n",
      "84247K    10\n",
      "84631     10\n",
      "21413     10\n",
      "85130A    10\n",
      "23442     10\n",
      "85019C    10\n",
      "          ..\n",
      "21120      0\n",
      "51014c     0\n",
      "20960      0\n",
      "20954      0\n",
      "84923      0\n",
      "84993a     0\n",
      "18098c     0\n",
      "90126A     0\n",
      "21082      0\n",
      "21144      0\n",
      "37474      0\n",
      "85040a     0\n",
      "37491A     0\n",
      "85039a     0\n",
      "85036b     0\n",
      "84997c     0\n",
      "85036a     0\n",
      "85035c     0\n",
      "85035b     0\n",
      "85035a     0\n",
      "85034b     0\n",
      "85034a     0\n",
      "46776a     0\n",
      "46776b     0\n",
      "46776e     0\n",
      "46776f     0\n",
      "85014b     0\n",
      "85014a     0\n",
      "84997d     0\n",
      "m          0\n",
      "Name: CustomerID, Length: 1091, dtype: int64\n"
     ]
    }
   ],
   "source": [
    "new_prod = rec1.loc[lambda rec1: rec1['CustomerID'] <= 10].sort_values(by = 'CustomerID', ascending = False)\n",
    "new_product = new_prod['CustomerID']\n",
    "print(new_product)"
   ]
  },
  {
   "cell_type": "code",
   "execution_count": 31,
   "metadata": {},
   "outputs": [
    {
     "name": "stdout",
     "output_type": "stream",
     "text": [
      "     StockCode  InvoiceNo  Description  Quantity  UnitPrice  CustomerID  \\\n",
      "2702     22423       2017         2017      2017       2017        1723   \n",
      "\n",
      "      Country  \n",
      "2702     2017  \n",
      "    StockCode  InvoiceNo  Description  Quantity  UnitPrice  CustomerID  \\\n",
      "267     84879       1489         1489      1489       1489        1408   \n",
      "27      22720       1399         1399      1399       1399        1159   \n",
      "116     20727       1328         1328      1328       1328        1105   \n",
      "106     22666       1126         1126      1126       1126         843   \n",
      "200     22993       1102         1102      1102       1102         893   \n",
      "228     22178       1047         1047      1047       1047         825   \n",
      "140     20724       1047         1047      1047       1047         751   \n",
      "4       22077        980          980       980        980         751   \n",
      "84      23301        926          926       926        926         768   \n",
      "290     22090        804          804       804        804         573   \n",
      "149     84378        696          696       696        696         532   \n",
      "70      79321        670          670       670        670         524   \n",
      "177     22557        585          585       585        585         498   \n",
      "186     21174        547          547       547        547         380   \n",
      "96      22173        500          500       500        500         342   \n",
      "132     22620        495          495       495        495         376   \n",
      "159     22352        489          489       489        489         331   \n",
      "189     22595        476          476       476        476         370   \n",
      "83      21908        475          475       475        475         381   \n",
      "244     22617        467          467       467        467         427   \n",
      "136     21169        464          464       464        464         356   \n",
      "74     84970L        459          459       459        459         338   \n",
      "214     21210        457          457       457        457         368   \n",
      "125     22424        456          456       456        456         328   \n",
      "150     22619        450          450       450        450         346   \n",
      "97     84029E        443          443       443        443         328   \n",
      "45      82582        441          441       441        441         378   \n",
      "158     21216        439          439       439        439         250   \n",
      "127     23173        425          425       425        425         361   \n",
      "64      20717        418          418       418        418         236   \n",
      "..        ...        ...          ...       ...        ...         ...   \n",
      "279    90039A          3            3         3          3           1   \n",
      "275    90176E          3            3         3          3           2   \n",
      "278    90141E          2            2         2          2           1   \n",
      "291     84016          2            2         2          2           1   \n",
      "184     84731          2            2         2          2           2   \n",
      "273    85184c          2            2         2          2           0   \n",
      "100    37491D          2            2         2          2           1   \n",
      "191    84856L          2            2         2          2           0   \n",
      "145     37509          2            2         2          2           2   \n",
      "221     90140          2            2         2          2           0   \n",
      "119     90052          2            2         2          2           0   \n",
      "231    90065B          2            2         2          2           1   \n",
      "232     20954          2            2         2          2           0   \n",
      "103    90141D          2            2         2          2           1   \n",
      "260    72802a          2            2         2          2           0   \n",
      "58      35647          2            2         2          2           2   \n",
      "152    79161A          2            2         2          2           2   \n",
      "22      90100          1            1         1          1           1   \n",
      "91     47591b          1            1         1          1           0   \n",
      "80      21160          1            1         1          1           0   \n",
      "37   DCGS0004          1            1         1          1           0   \n",
      "29     90142A          1            1         1          1           0   \n",
      "285    90026A          1            1         1          1           1   \n",
      "75     84206B          1            1         1          1           1   \n",
      "59     90035C          1            1         1          1           1   \n",
      "157    90126C          1            1         1          1           0   \n",
      "12     35833G          1            1         1          1           0   \n",
      "11     85034b          1            1         1          1           0   \n",
      "204    46776e          1            1         1          1           0   \n",
      "168     37330          1            1         1          1           1   \n",
      "\n",
      "     Country  \n",
      "267     1489  \n",
      "27      1399  \n",
      "116     1328  \n",
      "106     1126  \n",
      "200     1102  \n",
      "228     1047  \n",
      "140     1047  \n",
      "4        980  \n",
      "84       926  \n",
      "290      804  \n",
      "149      696  \n",
      "70       670  \n",
      "177      585  \n",
      "186      547  \n",
      "96       500  \n",
      "132      495  \n",
      "159      489  \n",
      "189      476  \n",
      "83       475  \n",
      "244      467  \n",
      "136      464  \n",
      "74       459  \n",
      "214      457  \n",
      "125      456  \n",
      "150      450  \n",
      "97       443  \n",
      "45       441  \n",
      "158      439  \n",
      "127      425  \n",
      "64       418  \n",
      "..       ...  \n",
      "279        3  \n",
      "275        3  \n",
      "278        2  \n",
      "291        2  \n",
      "184        2  \n",
      "273        2  \n",
      "100        2  \n",
      "191        2  \n",
      "145        2  \n",
      "221        2  \n",
      "119        2  \n",
      "231        2  \n",
      "232        2  \n",
      "103        2  \n",
      "260        2  \n",
      "58         2  \n",
      "152        2  \n",
      "22         1  \n",
      "91         1  \n",
      "80         1  \n",
      "37         1  \n",
      "29         1  \n",
      "285        1  \n",
      "75         1  \n",
      "59         1  \n",
      "157        1  \n",
      "12         1  \n",
      "11         1  \n",
      "204        1  \n",
      "168        1  \n",
      "\n",
      "[304 rows x 7 columns]\n"
     ]
    }
   ],
   "source": [
    "rec1 = rec1.sample(frac = 1) \n",
    "df_train = rec1.head(2734).reset_index().sort_values('InvoiceNo',ascending=False)\n",
    "df_test = rec1.tail(304).reset_index().sort_values('InvoiceNo', ascending = False)\n",
    "print(df_train[df_train['StockCode'].isin(['85123','22423','20725'])])\n",
    "print(df_test)"
   ]
  },
  {
   "cell_type": "code",
   "execution_count": null,
   "metadata": {},
   "outputs": [],
   "source": []
  },
  {
   "cell_type": "code",
   "execution_count": null,
   "metadata": {},
   "outputs": [],
   "source": []
  },
  {
   "cell_type": "code",
   "execution_count": null,
   "metadata": {},
   "outputs": [],
   "source": []
  },
  {
   "cell_type": "code",
   "execution_count": null,
   "metadata": {},
   "outputs": [],
   "source": []
  },
  {
   "cell_type": "code",
   "execution_count": null,
   "metadata": {},
   "outputs": [],
   "source": []
  },
  {
   "cell_type": "code",
   "execution_count": null,
   "metadata": {},
   "outputs": [],
   "source": []
  },
  {
   "cell_type": "code",
   "execution_count": null,
   "metadata": {},
   "outputs": [],
   "source": []
  },
  {
   "cell_type": "code",
   "execution_count": null,
   "metadata": {},
   "outputs": [],
   "source": []
  },
  {
   "cell_type": "code",
   "execution_count": null,
   "metadata": {},
   "outputs": [],
   "source": []
  },
  {
   "cell_type": "code",
   "execution_count": null,
   "metadata": {},
   "outputs": [],
   "source": []
  },
  {
   "cell_type": "code",
   "execution_count": null,
   "metadata": {},
   "outputs": [],
   "source": []
  },
  {
   "cell_type": "code",
   "execution_count": null,
   "metadata": {},
   "outputs": [],
   "source": []
  },
  {
   "cell_type": "code",
   "execution_count": null,
   "metadata": {},
   "outputs": [],
   "source": []
  },
  {
   "cell_type": "code",
   "execution_count": null,
   "metadata": {},
   "outputs": [],
   "source": []
  },
  {
   "cell_type": "code",
   "execution_count": null,
   "metadata": {},
   "outputs": [],
   "source": []
  },
  {
   "cell_type": "code",
   "execution_count": null,
   "metadata": {},
   "outputs": [],
   "source": []
  },
  {
   "cell_type": "code",
   "execution_count": null,
   "metadata": {},
   "outputs": [],
   "source": []
  },
  {
   "cell_type": "code",
   "execution_count": null,
   "metadata": {},
   "outputs": [],
   "source": []
  },
  {
   "cell_type": "code",
   "execution_count": null,
   "metadata": {},
   "outputs": [],
   "source": []
  },
  {
   "cell_type": "code",
   "execution_count": null,
   "metadata": {},
   "outputs": [],
   "source": [
    "print(df_test.sum())"
   ]
  },
  {
   "cell_type": "code",
   "execution_count": null,
   "metadata": {},
   "outputs": [],
   "source": [
    "P = df_train.loc[lambda df_train: df_train['CustomerID'] >= 750]\n",
    "most_purchased = pd.DataFrame(P, columns = ['CustomerID'])\n",
    "print(most_purchased)"
   ]
  },
  {
   "cell_type": "code",
   "execution_count": null,
   "metadata": {},
   "outputs": [],
   "source": []
  }
 ],
 "metadata": {
  "kernelspec": {
   "display_name": "Python 3",
   "language": "python",
   "name": "python3"
  },
  "language_info": {
   "codemirror_mode": {
    "name": "ipython",
    "version": 3
   },
   "file_extension": ".py",
   "mimetype": "text/x-python",
   "name": "python",
   "nbconvert_exporter": "python",
   "pygments_lexer": "ipython3",
   "version": "3.7.4"
  }
 },
 "nbformat": 4,
 "nbformat_minor": 2
}
