{
 "cells": [
  {
   "cell_type": "markdown",
   "metadata": {},
   "source": [
    "## 0. Import and Read Data (CURRENTLY WORKING)"
   ]
  },
  {
   "cell_type": "markdown",
   "metadata": {},
   "source": [
    "**IMPORTANT**: This code is written with Python 3 and appropiate installation is required.  "
   ]
  },
  {
   "cell_type": "code",
   "execution_count": 3,
   "metadata": {},
   "outputs": [],
   "source": [
    "import os\n",
    "import pandas as pd\n",
    "import numpy as np\n",
    "from sklearn.preprocessing import MinMaxScaler\n",
    "from sklearn.cluster import KMeans\n",
    "from matplotlib import pyplot as plt"
   ]
  },
  {
   "cell_type": "markdown",
   "metadata": {},
   "source": [
    "We first need to read the data to solve the **recommendation** problem."
   ]
  },
  {
   "cell_type": "code",
   "execution_count": 5,
   "metadata": {},
   "outputs": [],
   "source": [
    "#Importing data and setting the index to datetime\n",
    "df=pd.read_csv('Online Retail.csv', parse_dates=True, index_col=\"InvoiceDate\")"
   ]
  },
  {
   "cell_type": "markdown",
   "metadata": {},
   "source": [
    "Checked the data to see if there were any missing values and to obtain the types of data. "
   ]
  },
  {
   "cell_type": "code",
   "execution_count": 6,
   "metadata": {},
   "outputs": [
    {
     "name": "stdout",
     "output_type": "stream",
     "text": [
      "<class 'pandas.core.frame.DataFrame'>\n",
      "DatetimeIndex: 541909 entries, 2010-12-01 08:26:00 to 2011-12-09 12:50:00\n",
      "Data columns (total 7 columns):\n",
      "InvoiceNo      541909 non-null object\n",
      "StockCode      541909 non-null object\n",
      "Description    540455 non-null object\n",
      "Quantity       541909 non-null int64\n",
      "UnitPrice      541909 non-null float64\n",
      "CustomerID     406829 non-null float64\n",
      "Country        541909 non-null object\n",
      "dtypes: float64(2), int64(1), object(4)\n",
      "memory usage: 33.1+ MB\n"
     ]
    }
   ],
   "source": [
    "#Checking for missing values\n",
    "df.info()"
   ]
  },
  {
   "cell_type": "markdown",
   "metadata": {},
   "source": [
    "# 00. Data Cleaning"
   ]
  },
  {
   "cell_type": "markdown",
   "metadata": {},
   "source": [
    "We first want to observe the raw data to see if there are things that stick out, also looking for patterns. "
   ]
  },
  {
   "cell_type": "code",
   "execution_count": 7,
   "metadata": {},
   "outputs": [
    {
     "name": "stdout",
     "output_type": "stream",
     "text": [
      "                    InvoiceNo StockCode                          Description  \\\n",
      "InvoiceDate                                                                    \n",
      "2010-12-01 08:26:00    536365    85123A   WHITE HANGING HEART T-LIGHT HOLDER   \n",
      "2010-12-01 08:26:00    536365     71053                  WHITE METAL LANTERN   \n",
      "2010-12-01 08:26:00    536365    84406B       CREAM CUPID HEARTS COAT HANGER   \n",
      "2010-12-01 08:26:00    536365    84029G  KNITTED UNION FLAG HOT WATER BOTTLE   \n",
      "2010-12-01 08:26:00    536365    84029E       RED WOOLLY HOTTIE WHITE HEART.   \n",
      "2010-12-01 08:26:00    536365     22752         SET 7 BABUSHKA NESTING BOXES   \n",
      "2010-12-01 08:26:00    536365     21730    GLASS STAR FROSTED T-LIGHT HOLDER   \n",
      "2010-12-01 08:28:00    536366     22633               HAND WARMER UNION JACK   \n",
      "2010-12-01 08:28:00    536366     22632            HAND WARMER RED POLKA DOT   \n",
      "2010-12-01 08:34:00    536367     84879        ASSORTED COLOUR BIRD ORNAMENT   \n",
      "2010-12-01 08:34:00    536367     22745           POPPY'S PLAYHOUSE BEDROOM    \n",
      "2010-12-01 08:34:00    536367     22748            POPPY'S PLAYHOUSE KITCHEN   \n",
      "2010-12-01 08:34:00    536367     22749    FELTCRAFT PRINCESS CHARLOTTE DOLL   \n",
      "2010-12-01 08:34:00    536367     22310              IVORY KNITTED MUG COSY    \n",
      "2010-12-01 08:34:00    536367     84969   BOX OF 6 ASSORTED COLOUR TEASPOONS   \n",
      "2010-12-01 08:34:00    536367     22623        BOX OF VINTAGE JIGSAW BLOCKS    \n",
      "2010-12-01 08:34:00    536367     22622       BOX OF VINTAGE ALPHABET BLOCKS   \n",
      "2010-12-01 08:34:00    536367     21754             HOME BUILDING BLOCK WORD   \n",
      "2010-12-01 08:34:00    536367     21755             LOVE BUILDING BLOCK WORD   \n",
      "2010-12-01 08:34:00    536367     21777          RECIPE BOX WITH METAL HEART   \n",
      "2010-12-01 08:34:00    536367     48187                  DOORMAT NEW ENGLAND   \n",
      "2010-12-01 08:34:00    536368     22960             JAM MAKING SET WITH JARS   \n",
      "2010-12-01 08:34:00    536368     22913          RED COAT RACK PARIS FASHION   \n",
      "2010-12-01 08:34:00    536368     22912       YELLOW COAT RACK PARIS FASHION   \n",
      "2010-12-01 08:34:00    536368     22914         BLUE COAT RACK PARIS FASHION   \n",
      "2010-12-01 08:35:00    536369     21756             BATH BUILDING BLOCK WORD   \n",
      "2010-12-01 08:45:00    536370     22728            ALARM CLOCK BAKELIKE PINK   \n",
      "2010-12-01 08:45:00    536370     22727            ALARM CLOCK BAKELIKE RED    \n",
      "2010-12-01 08:45:00    536370     22726           ALARM CLOCK BAKELIKE GREEN   \n",
      "2010-12-01 08:45:00    536370     21724      PANDA AND BUNNIES STICKER SHEET   \n",
      "...                       ...       ...                                  ...   \n",
      "2011-12-09 12:31:00    581585     22726           ALARM CLOCK BAKELIKE GREEN   \n",
      "2011-12-09 12:31:00    581585     22727            ALARM CLOCK BAKELIKE RED    \n",
      "2011-12-09 12:31:00    581585     16016          LARGE CHINESE STYLE SCISSOR   \n",
      "2011-12-09 12:31:00    581585     21916      SET 12 RETRO WHITE CHALK STICKS   \n",
      "2011-12-09 12:31:00    581585     84692          BOX OF 24 COCKTAIL PARASOLS   \n",
      "2011-12-09 12:31:00    581585     84946         ANTIQUE SILVER T-LIGHT GLASS   \n",
      "2011-12-09 12:31:00    581585     21684     SMALL MEDINA STAMPED METAL BOWL    \n",
      "2011-12-09 12:31:00    581585     22398           MAGNETS PACK OF 4 SWALLOWS   \n",
      "2011-12-09 12:31:00    581585     23328   SET 6 SCHOOL MILK BOTTLES IN CRATE   \n",
      "2011-12-09 12:31:00    581585     23145       ZINC T-LIGHT HOLDER STAR LARGE   \n",
      "2011-12-09 12:31:00    581585     22466       FAIRY TALE COTTAGE NIGHT LIGHT   \n",
      "2011-12-09 12:49:00    581586     22061  LARGE CAKE STAND  HANGING STRAWBERY   \n",
      "2011-12-09 12:49:00    581586     23275     SET OF 3 HANGING OWLS OLLIE BEAK   \n",
      "2011-12-09 12:49:00    581586     21217        RED RETROSPOT ROUND CAKE TINS   \n",
      "2011-12-09 12:49:00    581586     20685                DOORMAT RED RETROSPOT   \n",
      "2011-12-09 12:50:00    581587     22631             CIRCUS PARADE LUNCH BOX    \n",
      "2011-12-09 12:50:00    581587     22556       PLASTERS IN TIN CIRCUS PARADE    \n",
      "2011-12-09 12:50:00    581587     22555            PLASTERS IN TIN STRONGMAN   \n",
      "2011-12-09 12:50:00    581587     22728            ALARM CLOCK BAKELIKE PINK   \n",
      "2011-12-09 12:50:00    581587     22727            ALARM CLOCK BAKELIKE RED    \n",
      "2011-12-09 12:50:00    581587     22726           ALARM CLOCK BAKELIKE GREEN   \n",
      "2011-12-09 12:50:00    581587     22730           ALARM CLOCK BAKELIKE IVORY   \n",
      "2011-12-09 12:50:00    581587     22367      CHILDRENS APRON SPACEBOY DESIGN   \n",
      "2011-12-09 12:50:00    581587     22629                  SPACEBOY LUNCH BOX    \n",
      "2011-12-09 12:50:00    581587     23256          CHILDRENS CUTLERY SPACEBOY    \n",
      "2011-12-09 12:50:00    581587     22613          PACK OF 20 SPACEBOY NAPKINS   \n",
      "2011-12-09 12:50:00    581587     22899         CHILDREN'S APRON DOLLY GIRL    \n",
      "2011-12-09 12:50:00    581587     23254        CHILDRENS CUTLERY DOLLY GIRL    \n",
      "2011-12-09 12:50:00    581587     23255      CHILDRENS CUTLERY CIRCUS PARADE   \n",
      "2011-12-09 12:50:00    581587     22138        BAKING SET 9 PIECE RETROSPOT    \n",
      "\n",
      "                     Quantity  UnitPrice  CustomerID         Country  \n",
      "InvoiceDate                                                           \n",
      "2010-12-01 08:26:00         6       2.55     17850.0  United Kingdom  \n",
      "2010-12-01 08:26:00         6       3.39     17850.0  United Kingdom  \n",
      "2010-12-01 08:26:00         8       2.75     17850.0  United Kingdom  \n",
      "2010-12-01 08:26:00         6       3.39     17850.0  United Kingdom  \n",
      "2010-12-01 08:26:00         6       3.39     17850.0  United Kingdom  \n",
      "2010-12-01 08:26:00         2       7.65     17850.0  United Kingdom  \n",
      "2010-12-01 08:26:00         6       4.25     17850.0  United Kingdom  \n",
      "2010-12-01 08:28:00         6       1.85     17850.0  United Kingdom  \n",
      "2010-12-01 08:28:00         6       1.85     17850.0  United Kingdom  \n",
      "2010-12-01 08:34:00        32       1.69     13047.0  United Kingdom  \n",
      "2010-12-01 08:34:00         6       2.10     13047.0  United Kingdom  \n",
      "2010-12-01 08:34:00         6       2.10     13047.0  United Kingdom  \n",
      "2010-12-01 08:34:00         8       3.75     13047.0  United Kingdom  \n",
      "2010-12-01 08:34:00         6       1.65     13047.0  United Kingdom  \n",
      "2010-12-01 08:34:00         6       4.25     13047.0  United Kingdom  \n",
      "2010-12-01 08:34:00         3       4.95     13047.0  United Kingdom  \n",
      "2010-12-01 08:34:00         2       9.95     13047.0  United Kingdom  \n",
      "2010-12-01 08:34:00         3       5.95     13047.0  United Kingdom  \n",
      "2010-12-01 08:34:00         3       5.95     13047.0  United Kingdom  \n",
      "2010-12-01 08:34:00         4       7.95     13047.0  United Kingdom  \n",
      "2010-12-01 08:34:00         4       7.95     13047.0  United Kingdom  \n",
      "2010-12-01 08:34:00         6       4.25     13047.0  United Kingdom  \n",
      "2010-12-01 08:34:00         3       4.95     13047.0  United Kingdom  \n",
      "2010-12-01 08:34:00         3       4.95     13047.0  United Kingdom  \n",
      "2010-12-01 08:34:00         3       4.95     13047.0  United Kingdom  \n",
      "2010-12-01 08:35:00         3       5.95     13047.0  United Kingdom  \n",
      "2010-12-01 08:45:00        24       3.75     12583.0          France  \n",
      "2010-12-01 08:45:00        24       3.75     12583.0          France  \n",
      "2010-12-01 08:45:00        12       3.75     12583.0          France  \n",
      "2010-12-01 08:45:00        12       0.85     12583.0          France  \n",
      "...                       ...        ...         ...             ...  \n",
      "2011-12-09 12:31:00         8       3.75     15804.0  United Kingdom  \n",
      "2011-12-09 12:31:00         4       3.75     15804.0  United Kingdom  \n",
      "2011-12-09 12:31:00        10       0.85     15804.0  United Kingdom  \n",
      "2011-12-09 12:31:00        24       0.42     15804.0  United Kingdom  \n",
      "2011-12-09 12:31:00        25       0.42     15804.0  United Kingdom  \n",
      "2011-12-09 12:31:00        12       1.25     15804.0  United Kingdom  \n",
      "2011-12-09 12:31:00        12       0.85     15804.0  United Kingdom  \n",
      "2011-12-09 12:31:00        12       0.39     15804.0  United Kingdom  \n",
      "2011-12-09 12:31:00         4       3.75     15804.0  United Kingdom  \n",
      "2011-12-09 12:31:00        12       0.95     15804.0  United Kingdom  \n",
      "2011-12-09 12:31:00        12       1.95     15804.0  United Kingdom  \n",
      "2011-12-09 12:49:00         8       2.95     13113.0  United Kingdom  \n",
      "2011-12-09 12:49:00        24       1.25     13113.0  United Kingdom  \n",
      "2011-12-09 12:49:00        24       8.95     13113.0  United Kingdom  \n",
      "2011-12-09 12:49:00        10       7.08     13113.0  United Kingdom  \n",
      "2011-12-09 12:50:00        12       1.95     12680.0          France  \n",
      "2011-12-09 12:50:00        12       1.65     12680.0          France  \n",
      "2011-12-09 12:50:00        12       1.65     12680.0          France  \n",
      "2011-12-09 12:50:00         4       3.75     12680.0          France  \n",
      "2011-12-09 12:50:00         4       3.75     12680.0          France  \n",
      "2011-12-09 12:50:00         4       3.75     12680.0          France  \n",
      "2011-12-09 12:50:00         4       3.75     12680.0          France  \n",
      "2011-12-09 12:50:00         8       1.95     12680.0          France  \n",
      "2011-12-09 12:50:00        12       1.95     12680.0          France  \n",
      "2011-12-09 12:50:00         4       4.15     12680.0          France  \n",
      "2011-12-09 12:50:00        12       0.85     12680.0          France  \n",
      "2011-12-09 12:50:00         6       2.10     12680.0          France  \n",
      "2011-12-09 12:50:00         4       4.15     12680.0          France  \n",
      "2011-12-09 12:50:00         4       4.15     12680.0          France  \n",
      "2011-12-09 12:50:00         3       4.95     12680.0          France  \n",
      "\n",
      "[541909 rows x 7 columns]\n"
     ]
    }
   ],
   "source": [
    "#Looking at the data set to observe visual trends\n",
    "print(df)"
   ]
  },
  {
   "cell_type": "markdown",
   "metadata": {},
   "source": [
    "Upon observation, we know the company is completly online, remove the **Country** column. Strip the letters from the **StockCode** column to make an integer and drop the **promotional items** because they were given (Items that were free, or **UnitPrice = 0**. We only care about items customers wanted to buy."
   ]
  },
  {
   "cell_type": "code",
   "execution_count": 8,
   "metadata": {},
   "outputs": [
    {
     "name": "stderr",
     "output_type": "stream",
     "text": [
      "C:\\Users\\dixon\\Anaconda3\\lib\\site-packages\\ipykernel_launcher.py:4: SettingWithCopyWarning: \n",
      "A value is trying to be set on a copy of a slice from a DataFrame.\n",
      "Try using .loc[row_indexer,col_indexer] = value instead\n",
      "\n",
      "See the caveats in the documentation: http://pandas.pydata.org/pandas-docs/stable/indexing.html#indexing-view-versus-copy\n",
      "  after removing the cwd from sys.path.\n"
     ]
    },
    {
     "name": "stdout",
     "output_type": "stream",
     "text": [
      "                    InvoiceNo StockCode                          Description  \\\n",
      "InvoiceDate                                                                    \n",
      "2010-12-01 08:26:00    536365     85123   WHITE HANGING HEART T-LIGHT HOLDER   \n",
      "2010-12-01 08:26:00    536365     71053                  WHITE METAL LANTERN   \n",
      "2010-12-01 08:26:00    536365     84406       CREAM CUPID HEARTS COAT HANGER   \n",
      "2010-12-01 08:26:00    536365     84029  KNITTED UNION FLAG HOT WATER BOTTLE   \n",
      "2010-12-01 08:26:00    536365     84029       RED WOOLLY HOTTIE WHITE HEART.   \n",
      "2010-12-01 08:26:00    536365     22752         SET 7 BABUSHKA NESTING BOXES   \n",
      "2010-12-01 08:26:00    536365     21730    GLASS STAR FROSTED T-LIGHT HOLDER   \n",
      "2010-12-01 08:28:00    536366     22633               HAND WARMER UNION JACK   \n",
      "2010-12-01 08:28:00    536366     22632            HAND WARMER RED POLKA DOT   \n",
      "2010-12-01 08:34:00    536367     84879        ASSORTED COLOUR BIRD ORNAMENT   \n",
      "2010-12-01 08:34:00    536367     22745           POPPY'S PLAYHOUSE BEDROOM    \n",
      "2010-12-01 08:34:00    536367     22748            POPPY'S PLAYHOUSE KITCHEN   \n",
      "2010-12-01 08:34:00    536367     22749    FELTCRAFT PRINCESS CHARLOTTE DOLL   \n",
      "2010-12-01 08:34:00    536367     22310              IVORY KNITTED MUG COSY    \n",
      "2010-12-01 08:34:00    536367     84969   BOX OF 6 ASSORTED COLOUR TEASPOONS   \n",
      "2010-12-01 08:34:00    536367     22623        BOX OF VINTAGE JIGSAW BLOCKS    \n",
      "2010-12-01 08:34:00    536367     22622       BOX OF VINTAGE ALPHABET BLOCKS   \n",
      "2010-12-01 08:34:00    536367     21754             HOME BUILDING BLOCK WORD   \n",
      "2010-12-01 08:34:00    536367     21755             LOVE BUILDING BLOCK WORD   \n",
      "2010-12-01 08:34:00    536367     21777          RECIPE BOX WITH METAL HEART   \n",
      "2010-12-01 08:34:00    536367     48187                  DOORMAT NEW ENGLAND   \n",
      "2010-12-01 08:34:00    536368     22960             JAM MAKING SET WITH JARS   \n",
      "2010-12-01 08:34:00    536368     22913          RED COAT RACK PARIS FASHION   \n",
      "2010-12-01 08:34:00    536368     22912       YELLOW COAT RACK PARIS FASHION   \n",
      "2010-12-01 08:34:00    536368     22914         BLUE COAT RACK PARIS FASHION   \n",
      "2010-12-01 08:35:00    536369     21756             BATH BUILDING BLOCK WORD   \n",
      "2010-12-01 08:45:00    536370     22728            ALARM CLOCK BAKELIKE PINK   \n",
      "2010-12-01 08:45:00    536370     22727            ALARM CLOCK BAKELIKE RED    \n",
      "2010-12-01 08:45:00    536370     22726           ALARM CLOCK BAKELIKE GREEN   \n",
      "2010-12-01 08:45:00    536370     21724      PANDA AND BUNNIES STICKER SHEET   \n",
      "...                       ...       ...                                  ...   \n",
      "2011-12-09 12:31:00    581585     22726           ALARM CLOCK BAKELIKE GREEN   \n",
      "2011-12-09 12:31:00    581585     22727            ALARM CLOCK BAKELIKE RED    \n",
      "2011-12-09 12:31:00    581585     16016          LARGE CHINESE STYLE SCISSOR   \n",
      "2011-12-09 12:31:00    581585     21916      SET 12 RETRO WHITE CHALK STICKS   \n",
      "2011-12-09 12:31:00    581585     84692          BOX OF 24 COCKTAIL PARASOLS   \n",
      "2011-12-09 12:31:00    581585     84946         ANTIQUE SILVER T-LIGHT GLASS   \n",
      "2011-12-09 12:31:00    581585     21684     SMALL MEDINA STAMPED METAL BOWL    \n",
      "2011-12-09 12:31:00    581585     22398           MAGNETS PACK OF 4 SWALLOWS   \n",
      "2011-12-09 12:31:00    581585     23328   SET 6 SCHOOL MILK BOTTLES IN CRATE   \n",
      "2011-12-09 12:31:00    581585     23145       ZINC T-LIGHT HOLDER STAR LARGE   \n",
      "2011-12-09 12:31:00    581585     22466       FAIRY TALE COTTAGE NIGHT LIGHT   \n",
      "2011-12-09 12:49:00    581586     22061  LARGE CAKE STAND  HANGING STRAWBERY   \n",
      "2011-12-09 12:49:00    581586     23275     SET OF 3 HANGING OWLS OLLIE BEAK   \n",
      "2011-12-09 12:49:00    581586     21217        RED RETROSPOT ROUND CAKE TINS   \n",
      "2011-12-09 12:49:00    581586     20685                DOORMAT RED RETROSPOT   \n",
      "2011-12-09 12:50:00    581587     22631             CIRCUS PARADE LUNCH BOX    \n",
      "2011-12-09 12:50:00    581587     22556       PLASTERS IN TIN CIRCUS PARADE    \n",
      "2011-12-09 12:50:00    581587     22555            PLASTERS IN TIN STRONGMAN   \n",
      "2011-12-09 12:50:00    581587     22728            ALARM CLOCK BAKELIKE PINK   \n",
      "2011-12-09 12:50:00    581587     22727            ALARM CLOCK BAKELIKE RED    \n",
      "2011-12-09 12:50:00    581587     22726           ALARM CLOCK BAKELIKE GREEN   \n",
      "2011-12-09 12:50:00    581587     22730           ALARM CLOCK BAKELIKE IVORY   \n",
      "2011-12-09 12:50:00    581587     22367      CHILDRENS APRON SPACEBOY DESIGN   \n",
      "2011-12-09 12:50:00    581587     22629                  SPACEBOY LUNCH BOX    \n",
      "2011-12-09 12:50:00    581587     23256          CHILDRENS CUTLERY SPACEBOY    \n",
      "2011-12-09 12:50:00    581587     22613          PACK OF 20 SPACEBOY NAPKINS   \n",
      "2011-12-09 12:50:00    581587     22899         CHILDREN'S APRON DOLLY GIRL    \n",
      "2011-12-09 12:50:00    581587     23254        CHILDRENS CUTLERY DOLLY GIRL    \n",
      "2011-12-09 12:50:00    581587     23255      CHILDRENS CUTLERY CIRCUS PARADE   \n",
      "2011-12-09 12:50:00    581587     22138        BAKING SET 9 PIECE RETROSPOT    \n",
      "\n",
      "                     Quantity  UnitPrice  CustomerID  \n",
      "InvoiceDate                                           \n",
      "2010-12-01 08:26:00         6       2.55     17850.0  \n",
      "2010-12-01 08:26:00         6       3.39     17850.0  \n",
      "2010-12-01 08:26:00         8       2.75     17850.0  \n",
      "2010-12-01 08:26:00         6       3.39     17850.0  \n",
      "2010-12-01 08:26:00         6       3.39     17850.0  \n",
      "2010-12-01 08:26:00         2       7.65     17850.0  \n",
      "2010-12-01 08:26:00         6       4.25     17850.0  \n",
      "2010-12-01 08:28:00         6       1.85     17850.0  \n",
      "2010-12-01 08:28:00         6       1.85     17850.0  \n",
      "2010-12-01 08:34:00        32       1.69     13047.0  \n",
      "2010-12-01 08:34:00         6       2.10     13047.0  \n",
      "2010-12-01 08:34:00         6       2.10     13047.0  \n",
      "2010-12-01 08:34:00         8       3.75     13047.0  \n",
      "2010-12-01 08:34:00         6       1.65     13047.0  \n",
      "2010-12-01 08:34:00         6       4.25     13047.0  \n",
      "2010-12-01 08:34:00         3       4.95     13047.0  \n",
      "2010-12-01 08:34:00         2       9.95     13047.0  \n",
      "2010-12-01 08:34:00         3       5.95     13047.0  \n",
      "2010-12-01 08:34:00         3       5.95     13047.0  \n",
      "2010-12-01 08:34:00         4       7.95     13047.0  \n",
      "2010-12-01 08:34:00         4       7.95     13047.0  \n",
      "2010-12-01 08:34:00         6       4.25     13047.0  \n",
      "2010-12-01 08:34:00         3       4.95     13047.0  \n",
      "2010-12-01 08:34:00         3       4.95     13047.0  \n",
      "2010-12-01 08:34:00         3       4.95     13047.0  \n",
      "2010-12-01 08:35:00         3       5.95     13047.0  \n",
      "2010-12-01 08:45:00        24       3.75     12583.0  \n",
      "2010-12-01 08:45:00        24       3.75     12583.0  \n",
      "2010-12-01 08:45:00        12       3.75     12583.0  \n",
      "2010-12-01 08:45:00        12       0.85     12583.0  \n",
      "...                       ...        ...         ...  \n",
      "2011-12-09 12:31:00         8       3.75     15804.0  \n",
      "2011-12-09 12:31:00         4       3.75     15804.0  \n",
      "2011-12-09 12:31:00        10       0.85     15804.0  \n",
      "2011-12-09 12:31:00        24       0.42     15804.0  \n",
      "2011-12-09 12:31:00        25       0.42     15804.0  \n",
      "2011-12-09 12:31:00        12       1.25     15804.0  \n",
      "2011-12-09 12:31:00        12       0.85     15804.0  \n",
      "2011-12-09 12:31:00        12       0.39     15804.0  \n",
      "2011-12-09 12:31:00         4       3.75     15804.0  \n",
      "2011-12-09 12:31:00        12       0.95     15804.0  \n",
      "2011-12-09 12:31:00        12       1.95     15804.0  \n",
      "2011-12-09 12:49:00         8       2.95     13113.0  \n",
      "2011-12-09 12:49:00        24       1.25     13113.0  \n",
      "2011-12-09 12:49:00        24       8.95     13113.0  \n",
      "2011-12-09 12:49:00        10       7.08     13113.0  \n",
      "2011-12-09 12:50:00        12       1.95     12680.0  \n",
      "2011-12-09 12:50:00        12       1.65     12680.0  \n",
      "2011-12-09 12:50:00        12       1.65     12680.0  \n",
      "2011-12-09 12:50:00         4       3.75     12680.0  \n",
      "2011-12-09 12:50:00         4       3.75     12680.0  \n",
      "2011-12-09 12:50:00         4       3.75     12680.0  \n",
      "2011-12-09 12:50:00         4       3.75     12680.0  \n",
      "2011-12-09 12:50:00         8       1.95     12680.0  \n",
      "2011-12-09 12:50:00        12       1.95     12680.0  \n",
      "2011-12-09 12:50:00         4       4.15     12680.0  \n",
      "2011-12-09 12:50:00        12       0.85     12680.0  \n",
      "2011-12-09 12:50:00         6       2.10     12680.0  \n",
      "2011-12-09 12:50:00         4       4.15     12680.0  \n",
      "2011-12-09 12:50:00         4       4.15     12680.0  \n",
      "2011-12-09 12:50:00         3       4.95     12680.0  \n",
      "\n",
      "[530104 rows x 6 columns]\n"
     ]
    },
    {
     "name": "stderr",
     "output_type": "stream",
     "text": [
      "C:\\Users\\dixon\\Anaconda3\\lib\\site-packages\\pandas\\core\\frame.py:4042: SettingWithCopyWarning: \n",
      "A value is trying to be set on a copy of a slice from a DataFrame\n",
      "\n",
      "See the caveats in the documentation: http://pandas.pydata.org/pandas-docs/stable/indexing.html#indexing-view-versus-copy\n",
      "  method=method)\n"
     ]
    }
   ],
   "source": [
    "# Drop the Country column because it is not needed.\n",
    "df_dropped=df.drop(['Country'],axis=1)\n",
    "# Remove data where unit price and quantity is positive. \n",
    "df_pos_price = df_dropped.loc[lambda df_dropped: (df_dropped['UnitPrice'] > 0) & (df_dropped['Quantity'] > 0)]\n",
    "# Stip the letters from the StockCode.\n",
    "df_pos_price['StockCode'] = df_pos_price['StockCode'].str.strip('ABCDEFGHIJKLMNOPQRSTUVWXYZabcdefghijklmnopqrstuvwxyz')\n",
    "# Replace missing values with NaN.\n",
    "df_pos_price.replace('', np.nan, inplace = True)\n",
    "print(df_pos_price)"
   ]
  },
  {
   "cell_type": "code",
   "execution_count": 48,
   "metadata": {},
   "outputs": [
    {
     "data": {
      "text/html": [
       "<div>\n",
       "<style scoped>\n",
       "    .dataframe tbody tr th:only-of-type {\n",
       "        vertical-align: middle;\n",
       "    }\n",
       "\n",
       "    .dataframe tbody tr th {\n",
       "        vertical-align: top;\n",
       "    }\n",
       "\n",
       "    .dataframe thead th {\n",
       "        text-align: right;\n",
       "    }\n",
       "</style>\n",
       "<table border=\"1\" class=\"dataframe\">\n",
       "  <thead>\n",
       "    <tr style=\"text-align: right;\">\n",
       "      <th></th>\n",
       "      <th>Quantity</th>\n",
       "      <th>UnitPrice</th>\n",
       "      <th>CustomerID</th>\n",
       "    </tr>\n",
       "  </thead>\n",
       "  <tbody>\n",
       "    <tr>\n",
       "      <th>count</th>\n",
       "      <td>530104.000000</td>\n",
       "      <td>530104.000000</td>\n",
       "      <td>397884.000000</td>\n",
       "    </tr>\n",
       "    <tr>\n",
       "      <th>mean</th>\n",
       "      <td>10.542037</td>\n",
       "      <td>3.907625</td>\n",
       "      <td>15294.423453</td>\n",
       "    </tr>\n",
       "    <tr>\n",
       "      <th>std</th>\n",
       "      <td>155.524124</td>\n",
       "      <td>35.915681</td>\n",
       "      <td>1713.141560</td>\n",
       "    </tr>\n",
       "    <tr>\n",
       "      <th>min</th>\n",
       "      <td>1.000000</td>\n",
       "      <td>0.001000</td>\n",
       "      <td>12346.000000</td>\n",
       "    </tr>\n",
       "    <tr>\n",
       "      <th>25%</th>\n",
       "      <td>1.000000</td>\n",
       "      <td>1.250000</td>\n",
       "      <td>13969.000000</td>\n",
       "    </tr>\n",
       "    <tr>\n",
       "      <th>50%</th>\n",
       "      <td>3.000000</td>\n",
       "      <td>2.080000</td>\n",
       "      <td>15159.000000</td>\n",
       "    </tr>\n",
       "    <tr>\n",
       "      <th>75%</th>\n",
       "      <td>10.000000</td>\n",
       "      <td>4.130000</td>\n",
       "      <td>16795.000000</td>\n",
       "    </tr>\n",
       "    <tr>\n",
       "      <th>max</th>\n",
       "      <td>80995.000000</td>\n",
       "      <td>13541.330000</td>\n",
       "      <td>18287.000000</td>\n",
       "    </tr>\n",
       "  </tbody>\n",
       "</table>\n",
       "</div>"
      ],
      "text/plain": [
       "            Quantity      UnitPrice     CustomerID\n",
       "count  530104.000000  530104.000000  397884.000000\n",
       "mean       10.542037       3.907625   15294.423453\n",
       "std       155.524124      35.915681    1713.141560\n",
       "min         1.000000       0.001000   12346.000000\n",
       "25%         1.000000       1.250000   13969.000000\n",
       "50%         3.000000       2.080000   15159.000000\n",
       "75%        10.000000       4.130000   16795.000000\n",
       "max     80995.000000   13541.330000   18287.000000"
      ]
     },
     "execution_count": 48,
     "metadata": {},
     "output_type": "execute_result"
    }
   ],
   "source": [
    "df_pos_price.describe()"
   ]
  },
  {
   "cell_type": "markdown",
   "metadata": {},
   "source": [
    "# 1. Data Manipulation"
   ]
  },
  {
   "cell_type": "markdown",
   "metadata": {},
   "source": [
    "We first need to see how many customers bought items. To give an accurate recommendation, we want to make sure the data we are observing is based on frequent shoppers, and not periodic or one-time shoppers. To do so, we need to first observe the data by the actual **CustomerID** where we then want to see how many items each customer purchased."
   ]
  },
  {
   "cell_type": "code",
   "execution_count": 9,
   "metadata": {
    "scrolled": true
   },
   "outputs": [
    {
     "name": "stdout",
     "output_type": "stream",
     "text": [
      "            InvoiceNo  StockCode  Description  Quantity  UnitPrice\n",
      "CustomerID                                                        \n",
      "12346.0             1          1            1         1          1\n",
      "12347.0           182        182          182       182        182\n",
      "12348.0            31         27           31        31         31\n",
      "12349.0            73         72           73        73         73\n",
      "12350.0            17         16           17        17         17\n",
      "12352.0            85         77           85        85         85\n",
      "12353.0             4          4            4         4          4\n",
      "12354.0            58         58           58        58         58\n",
      "12355.0            13         13           13        13         13\n",
      "12356.0            59         58           59        59         59\n",
      "12357.0           131        131          131       131        131\n",
      "12358.0            19         17           19        19         19\n",
      "12359.0           248        248          248       248        248\n",
      "12360.0           129        126          129       129        129\n",
      "12361.0            10          9           10        10         10\n",
      "12362.0           266        256          266       266        266\n",
      "12363.0            23         23           23        23         23\n",
      "12364.0            85         81           85        85         85\n",
      "12365.0            22         21           22        22         22\n",
      "12367.0            11         10           11        11         11\n",
      "12370.0           167        166          167       167        167\n",
      "12371.0            63         62           63        63         63\n",
      "12372.0            52         49           52        52         52\n",
      "12373.0            14         13           14        14         14\n",
      "12374.0            33         32           33        33         33\n",
      "12375.0            17         15           17        17         17\n",
      "12377.0            77         76           77        77         77\n",
      "12378.0           219        219          219       219        219\n",
      "12379.0            40         38           40        40         40\n",
      "12380.0           104        100          104       104        104\n",
      "...               ...        ...          ...       ...        ...\n",
      "18242.0            78         78           78        78         78\n",
      "18245.0           175        175          175       175        175\n",
      "18246.0             4          4            4         4          4\n",
      "18248.0            47         47           47        47         47\n",
      "18249.0             8          8            8         8          8\n",
      "18250.0            21         21           21        21         21\n",
      "18251.0            16         16           16        16         16\n",
      "18252.0            98         98           98        98         98\n",
      "18255.0             6          6            6         6          6\n",
      "18257.0           118        118          118       118        118\n",
      "18259.0            42         42           42        42         42\n",
      "18260.0           134        134          134       134        134\n",
      "18261.0            21         21           21        21         21\n",
      "18262.0            13         13           13        13         13\n",
      "18263.0            61         61           61        61         61\n",
      "18265.0            46         46           46        46         46\n",
      "18268.0             1          1            1         1          1\n",
      "18269.0             7          7            7         7          7\n",
      "18270.0            11         11           11        11         11\n",
      "18272.0           166        166          166       166        166\n",
      "18273.0             3          3            3         3          3\n",
      "18274.0            11         11           11        11         11\n",
      "18276.0            14         14           14        14         14\n",
      "18277.0             8          8            8         8          8\n",
      "18278.0             9          9            9         9          9\n",
      "18280.0            10         10           10        10         10\n",
      "18281.0             7          7            7         7          7\n",
      "18282.0            12         12           12        12         12\n",
      "18283.0           756        754          756       756        756\n",
      "18287.0            70         70           70        70         70\n",
      "\n",
      "[4338 rows x 5 columns]\n"
     ]
    }
   ],
   "source": [
    "#observe the data where we have all column data \n",
    "CustomerID = df_pos_price.groupby('CustomerID').count()\n",
    "print(CustomerID)"
   ]
  },
  {
   "cell_type": "markdown",
   "metadata": {},
   "source": [
    "We now want to remove the customers that did not purchase more than 50 times at the store. We only want customers who have purchased at least 50 times, therefore, we look at the **InvoiceNo** column and manipulate, accordingly. "
   ]
  },
  {
   "cell_type": "code",
   "execution_count": 10,
   "metadata": {},
   "outputs": [
    {
     "name": "stdout",
     "output_type": "stream",
     "text": [
      "            InvoiceNo  StockCode  Description  Quantity  UnitPrice\n",
      "CustomerID                                                        \n",
      "12347.0           182        182          182       182        182\n",
      "12349.0            73         72           73        73         73\n",
      "12352.0            85         77           85        85         85\n",
      "12354.0            58         58           58        58         58\n",
      "12356.0            59         58           59        59         59\n",
      "12357.0           131        131          131       131        131\n",
      "12359.0           248        248          248       248        248\n",
      "12360.0           129        126          129       129        129\n",
      "12362.0           266        256          266       266        266\n",
      "12364.0            85         81           85        85         85\n",
      "12370.0           167        166          167       167        167\n",
      "12371.0            63         62           63        63         63\n",
      "12372.0            52         49           52        52         52\n",
      "12377.0            77         76           77        77         77\n",
      "12378.0           219        219          219       219        219\n",
      "12380.0           104        100          104       104        104\n",
      "12381.0            87         82           87        87         87\n",
      "12383.0            99         94           99        99         99\n",
      "12388.0           100        100          100       100        100\n",
      "12391.0           100        100          100       100        100\n",
      "12393.0            64         64           64        64         64\n",
      "12395.0           156        144          156       156        156\n",
      "12397.0           126        124          126       126        126\n",
      "12398.0            85         84           85        85         85\n",
      "12399.0            59         55           59        59         59\n",
      "12405.0            54         53           54        54         54\n",
      "12406.0           105        105          105       105        105\n",
      "12407.0            77         72           77        77         77\n",
      "12408.0           105        101          105       105        105\n",
      "12409.0           109        109          109       109        109\n",
      "...               ...        ...          ...       ...        ...\n",
      "18179.0            90         90           90        90         90\n",
      "18180.0           119        119          119       119        119\n",
      "18188.0            71         71           71        71         71\n",
      "18189.0            68         68           68        68         68\n",
      "18196.0           141        141          141       141        141\n",
      "18198.0           159        159          159       159        159\n",
      "18202.0            68         68           68        68         68\n",
      "18204.0           200        200          200       200        200\n",
      "18210.0           134        134          134       134        134\n",
      "18219.0           114        114          114       114        114\n",
      "18221.0            64         64           64        64         64\n",
      "18223.0           272        272          272       272        272\n",
      "18225.0           271        271          271       271        271\n",
      "18226.0           242        242          242       242        242\n",
      "18229.0           164        164          164       164        164\n",
      "18230.0            86         86           86        86         86\n",
      "18231.0           124        124          124       124        124\n",
      "18235.0           104        104          104       104        104\n",
      "18237.0            61         61           61        61         61\n",
      "18239.0            88         88           88        88         88\n",
      "18241.0           104        104          104       104        104\n",
      "18242.0            78         78           78        78         78\n",
      "18245.0           175        175          175       175        175\n",
      "18252.0            98         98           98        98         98\n",
      "18257.0           118        118          118       118        118\n",
      "18260.0           134        134          134       134        134\n",
      "18263.0            61         61           61        61         61\n",
      "18272.0           166        166          166       166        166\n",
      "18283.0           756        754          756       756        756\n",
      "18287.0            70         70           70        70         70\n",
      "\n",
      "[1908 rows x 5 columns]\n"
     ]
    }
   ],
   "source": [
    "# Customers less than 50 orders\n",
    "df_clean=CustomerID.loc[lambda CustomerID: CustomerID['InvoiceNo'] > 50]\n",
    "print(df_clean)"
   ]
  },
  {
   "cell_type": "markdown",
   "metadata": {},
   "source": [
    "Create a DataFrame that indexed by the **StockCode** and use the **CustomerID** as the columns where we figured the values to be the **Quantity** shared between them. Normalize the data."
   ]
  },
  {
   "cell_type": "code",
   "execution_count": 51,
   "metadata": {
    "scrolled": true
   },
   "outputs": [
    {
     "name": "stderr",
     "output_type": "stream",
     "text": [
      "C:\\Users\\dixon\\Anaconda3\\lib\\site-packages\\sklearn\\preprocessing\\data.py:334: DataConversionWarning: Data with input dtype int64 were all converted to float64 by MinMaxScaler.\n",
      "  return self.partial_fit(X, y)\n"
     ]
    },
    {
     "name": "stdout",
     "output_type": "stream",
     "text": [
      "[[0.01680349 0.01720154 0.01680349 0.01680349 0.01680349]\n",
      " [0.00282196 0.00308087 0.00282196 0.00282196 0.00282196]\n",
      " [0.00436121 0.00372272 0.00436121 0.00436121 0.00436121]\n",
      " ...\n",
      " [0.01475115 0.01514763 0.01475115 0.01475115 0.01475115]\n",
      " [0.09043099 0.09062901 0.09043099 0.09043099 0.09043099]\n",
      " [0.00243715 0.00282413 0.00243715 0.00243715 0.00243715]]\n"
     ]
    }
   ],
   "source": [
    "# New DataFrame created to view the relationship between the custumer and the items purchased filling NaN with 0.\n",
    "cluster1 = df_clean.pivot_table(index='StockCode', columns='CustomerID', values='Quantity', aggfunc = np.sum).fillna(value=0)\n",
    "# Normalizing the data.\n",
    "cluster1_minmax = MinMaxScaler().fit_transform(df_clean)\n",
    "print(cluster1_minmax)"
   ]
  },
  {
   "cell_type": "markdown",
   "metadata": {},
   "source": [
    "Figured out the *optimal* **k** (number of clusters) for the DataFrame using the **Elbow Method** by obtaining initializing a range of values for **k**. We then plot this data to observe the plot for the **Elbow Point** which gives the optimal **k**. "
   ]
  },
  {
   "cell_type": "code",
   "execution_count": 12,
   "metadata": {},
   "outputs": [],
   "source": [
    "# Gave a range for K to obtain the list of K values\n",
    "Sum_of_squared = []\n",
    "K = range(1,20)\n",
    "for k in K:\n",
    "    km = KMeans(n_clusters=k)\n",
    "    km = km.fit(cluster1_minmax)\n",
    "    Sum_of_squared.append(km.inertia_)"
   ]
  },
  {
   "cell_type": "code",
   "execution_count": 52,
   "metadata": {},
   "outputs": [
    {
     "data": {
      "image/png": "[encoded data removed]",
      "text/plain": [
       "<Figure size 432x288 with 1 Axes>"
      ]
     },
     "metadata": {
      "needs_background": "light"
     },
     "output_type": "display_data"
    }
   ],
   "source": [
    "# Create the plot that will produce the elbow plot to give optimal value of k.\n",
    "plt.plot(K, Sum_of_squared, 'bx-')\n",
    "plt.xlabel('k')\n",
    "plt.ylabel('Sum_of_squares')\n",
    "plt.title('Elbow Method For Optimal k')\n",
    "plt.show()"
   ]
  },
  {
   "cell_type": "markdown",
   "metadata": {},
   "source": [
    "Create a DataFrame that indexed by the **CustomerID** and use the **StockCode** as the columns where we figured the values to be the **Quantity** shared between them. Normalize the data."
   ]
  },
  {
   "cell_type": "code",
   "execution_count": 14,
   "metadata": {},
   "outputs": [
    {
     "name": "stdout",
     "output_type": "stream",
     "text": [
      "[[0.01680349 0.01720154 0.01680349 0.01680349 0.01680349]\n",
      " [0.00282196 0.00308087 0.00282196 0.00282196 0.00282196]\n",
      " [0.00436121 0.00372272 0.00436121 0.00436121 0.00436121]\n",
      " ...\n",
      " [0.01475115 0.01514763 0.01475115 0.01475115 0.01475115]\n",
      " [0.09043099 0.09062901 0.09043099 0.09043099 0.09043099]\n",
      " [0.00243715 0.00282413 0.00243715 0.00243715 0.00243715]]\n"
     ]
    },
    {
     "name": "stderr",
     "output_type": "stream",
     "text": [
      "C:\\Users\\dixon\\Anaconda3\\lib\\site-packages\\sklearn\\preprocessing\\data.py:334: DataConversionWarning: Data with input dtype int64 were all converted to float64 by MinMaxScaler.\n",
      "  return self.partial_fit(X, y)\n"
     ]
    }
   ],
   "source": [
    "# New DataFrame created to view the relationship between the custumer and the items purchased filling NaN with 0.\n",
    "cluster2 = df_clean.pivot_table(index='CustomerID', columns='StockCode', values='Quantity', aggfunc = np.sum).fillna(value=0)\n",
    "# Normalized the data.\n",
    "cluster2_minmax = MinMaxScaler().fit_transform(df_clean)\n",
    "print(cluster1_minmax)"
   ]
  },
  {
   "cell_type": "markdown",
   "metadata": {},
   "source": [
    "# 2.0 Recommedation"
   ]
  },
  {
   "cell_type": "markdown",
   "metadata": {},
   "source": [
    "## 2.1 Recommendation (Clustering)"
   ]
  },
  {
   "cell_type": "markdown",
   "metadata": {},
   "source": [
    "Figured out the *optimal* **k** (number of clusters) for the DataFrame using the **Elbow Method** by obtaining initializing a range of values for **k**. We then plot this data to observe the plot for the **Elbow Point** which gives the optimal **k**. "
   ]
  },
  {
   "cell_type": "code",
   "execution_count": 58,
   "metadata": {},
   "outputs": [],
   "source": [
    "# Gave a range for K to obtain the set of K values\n",
    "Sum_of_squared2 = []\n",
    "K = range(1,20)\n",
    "for k in K:\n",
    "    km = KMeans(n_clusters=k)\n",
    "    km = km.fit(cluster2_minmax)\n",
    "    Sum_of_squared2.append(km.inertia_)"
   ]
  },
  {
   "cell_type": "code",
   "execution_count": 59,
   "metadata": {},
   "outputs": [
    {
     "data": {
      "image/png": "[encoded data removed]",
      "text/plain": [
       "<Figure size 432x288 with 1 Axes>"
      ]
     },
     "metadata": {
      "needs_background": "light"
     },
     "output_type": "display_data"
    }
   ],
   "source": [
    "# Create the plot that will produce the elbow plot to give optimal value of k.\n",
    "plt.plot(K, Sum_of_squared2, 'bx-')\n",
    "plt.xlabel('k')\n",
    "plt.ylabel('Sum_of_squares')\n",
    "plt.title('Elbow Method For Optimal k')\n",
    "plt.show()"
   ]
  },
  {
   "cell_type": "markdown",
   "metadata": {},
   "source": [
    "From observations above, it seems the the optimal K=3. We now can use this to give the number of recommended products of most purchased. "
   ]
  },
  {
   "cell_type": "markdown",
   "metadata": {},
   "source": [
    "## 2.2 Recommendation (Most Purchased item)"
   ]
  },
  {
   "cell_type": "markdown",
   "metadata": {},
   "source": [
    "We want to figure out how many of each product was purchased. Therefore, we need to group our original data by the **StockCode** to see how many customers purchased the item. This will allow us to see which item was purchased the most of all items. Once we have this data, we now recommend this item to all customers. "
   ]
  },
  {
   "cell_type": "code",
   "execution_count": 66,
   "metadata": {},
   "outputs": [
    {
     "name": "stdout",
     "output_type": "stream",
     "text": [
      "StockCode\n",
      "85099    2941\n",
      "85123    2035\n",
      "22423    1723\n",
      "Name: CustomerID, dtype: int64\n"
     ]
    }
   ],
   "source": [
    "rec1 = pd.DataFrame(df_pos_price.groupby('StockCode').count().sort_values(by='CustomerID',ascending=False))\n",
    "most_purchased = rec1['CustomerID'].head(3)\n",
    "print(most_purchased)"
   ]
  },
  {
   "cell_type": "markdown",
   "metadata": {},
   "source": [
    "## 2.3 Recommendation (New Items purchased)"
   ]
  },
  {
   "cell_type": "markdown",
   "metadata": {},
   "source": [
    "Extract the products that only **one** customer purchased. These products that are considered **new** since it has no purchase history. Recommend this product to all customers."
   ]
  },
  {
   "cell_type": "code",
   "execution_count": 61,
   "metadata": {},
   "outputs": [
    {
     "name": "stdout",
     "output_type": "stream",
     "text": [
      "StockCode\n",
      "22034    1\n",
      "84620    1\n",
      "84746    1\n",
      "20964    1\n",
      "23664    1\n",
      "84705    1\n",
      "84016    1\n",
      "85224    1\n",
      "71143    1\n",
      "20678    1\n",
      "35650    1\n",
      "90167    1\n",
      "20667    1\n",
      "84773    1\n",
      "90135    1\n",
      "90197    1\n",
      "20892    1\n",
      "23843    1\n",
      "84227    1\n",
      "22351    1\n",
      "20703    1\n",
      "47579    1\n",
      "82615    1\n",
      "22146    1\n",
      "22275    1\n",
      "90187    1\n",
      "22218    1\n",
      "90028    1\n",
      "47016    1\n",
      "90182    1\n",
      "        ..\n",
      "90055    1\n",
      "44265    1\n",
      "90165    1\n",
      "90054    1\n",
      "90069    1\n",
      "84854    1\n",
      "84387    1\n",
      "90071    1\n",
      "90128    1\n",
      "21414    1\n",
      "77079    1\n",
      "90102    1\n",
      "23449    1\n",
      "90078    1\n",
      "90104    1\n",
      "37461    1\n",
      "21667    1\n",
      "90084    1\n",
      "21895    1\n",
      "21839    1\n",
      "22125    1\n",
      "90076    1\n",
      "84551    1\n",
      "37471    1\n",
      "84550    1\n",
      "17001    1\n",
      "90118    1\n",
      "84539    1\n",
      "90100    1\n",
      "22323    1\n",
      "Name: CustomerID, Length: 84, dtype: int64\n"
     ]
    }
   ],
   "source": [
    "new_prod = rec1.loc[lambda rec1: rec1['CustomerID'] == 1].sort_values(by = 'CustomerID', ascending = False)\n",
    "new_product = new_prod['CustomerID']\n",
    "print(new_product)"
   ]
  },
  {
   "cell_type": "code",
   "execution_count": 47,
   "metadata": {},
   "outputs": [
    {
     "name": "stdout",
     "output_type": "stream",
     "text": [
      "           InvoiceNo  Description  Quantity  UnitPrice  CustomerID\n",
      "StockCode                                                         \n",
      "85099           3892         3892      3892       3892        2941\n",
      "85123           2332         2332      2332       2332        2035\n",
      "22423           2017         2017      2017       2017        1723\n",
      "47566           2177         2177      2177       2177        1713\n",
      "84879           1489         1489      1489       1489        1408\n",
      "85049           1795         1795      1795       1795        1361\n",
      "20725           1595         1595      1595       1595        1317\n",
      "84997           1724         1724      1724       1724        1302\n",
      "22720           1399         1399      1399       1399        1159\n",
      "20727           1328         1328      1328       1328        1105\n",
      "23203           1249         1249      1249       1249        1098\n",
      "22383           1326         1326      1326       1326        1083\n",
      "21212           1370         1370      1370       1370        1068\n",
      "22197           1426         1426      1426       1426        1068\n",
      "23209           1123         1123      1123       1123        1029\n",
      "23298           1165         1165      1165       1165        1024\n",
      "22086           1200         1200      1200       1200        1019\n",
      "22382           1179         1179      1179       1179        1008\n",
      "20728           1174         1174      1174       1174         989\n",
      "84596           1586         1586      1586       1586         988\n",
      "22469           1226         1226      1226       1226         985\n",
      "22457           1263         1263      1263       1263         980\n",
      "22384           1117         1117      1117       1117         957\n",
      "21034            964          964       964        964         952\n",
      "22727           1074         1074      1074       1074         899\n",
      "23206           1071         1071      1071       1071         895\n",
      "22993           1102         1102      1102       1102         893\n",
      "22386           1238         1238      1238       1238         890\n",
      "82482           1111         1111      1111       1111         887\n",
      "22960           1141         1141      1141       1141         887\n",
      "...              ...          ...       ...        ...         ...\n",
      "21196             14           14        14         14          10\n",
      "84466             10           10        10         10          10\n",
      "90176             14           14        14         14           9\n",
      "35916             81           81        81         81           9\n",
      "84857             11           11        11         11           9\n",
      "37476             27           27        27         27           9\n",
      "90196             10           10        10         10           9\n",
      "84919             29           29        29         29           9\n",
      "90205             31           31        31         31           9\n",
      "35638             10           10        10         10           9\n",
      "20894             15           15        15         15           9\n",
      "16254             17           17        17         17           9\n",
      "21275             12           12        12         12           9\n",
      "22889             35           35        35         35           9\n",
      "21460             11           11        11         11           9\n",
      "10124              9            9         9          9           9\n",
      "85161             21           21        21         21           9\n",
      "21690              9            9         9          9           9\n",
      "21278              9            9         9          9           9\n",
      "85146             10           10        10         10           9\n",
      "90064             13           13        13         13           9\n",
      "21095             14           14        14         14           9\n",
      "85006              9            9         9          9           9\n",
      "23304              9            9         9          9           9\n",
      "23305              9            9         9          9           9\n",
      "90098             10           10        10         10           9\n",
      "20933              9            9         9          9           9\n",
      "90122             32           32        32         32           9\n",
      "85031              9            9         9          9           9\n",
      "85026             11           11        11         11           9\n",
      "\n",
      "[2734 rows x 5 columns]\n"
     ]
    }
   ],
   "source": [
    "df_train = df_clean2.head(2734)\n",
    "df_test = df_clean2.tail(304)\n",
    "print(df_train)"
   ]
  },
  {
   "cell_type": "code",
   "execution_count": 24,
   "metadata": {},
   "outputs": [
    {
     "name": "stdout",
     "output_type": "stream",
     "text": [
      "           CustomerID\n",
      "StockCode            \n",
      "85099            2941\n",
      "85123            2035\n",
      "22423            1723\n",
      "47566            1713\n",
      "84879            1408\n",
      "85049            1361\n",
      "20725            1317\n",
      "84997            1302\n",
      "22720            1159\n",
      "20727            1105\n",
      "23203            1098\n",
      "22383            1083\n",
      "21212            1068\n",
      "22197            1068\n",
      "23209            1029\n",
      "23298            1024\n",
      "22086            1019\n",
      "22382            1008\n",
      "20728             989\n",
      "84596             988\n",
      "22469             985\n",
      "22457             980\n",
      "22384             957\n",
      "21034             952\n",
      "22727             899\n",
      "23206             895\n",
      "22993             893\n",
      "22386             890\n",
      "82482             887\n",
      "22960             887\n",
      "22961             875\n",
      "22138             867\n",
      "22666             843\n",
      "20726             842\n",
      "23084             842\n",
      "22139             833\n",
      "22178             825\n",
      "82494             820\n",
      "22470             819\n",
      "15056             810\n",
      "22726             808\n",
      "22411             803\n",
      "22699             801\n",
      "20914             784\n",
      "21931             783\n",
      "23202             782\n",
      "23301             768\n",
      "23201             761\n",
      "84970             753\n",
      "21080             753\n",
      "20724             751\n",
      "22077             751\n"
     ]
    }
   ],
   "source": [
    "P = df_train.loc[lambda df_train: df_train['CustomerID'] >= 750]\n",
    "most_purchased = pd.DataFrame(P, columns = ['CustomerID'])\n",
    "print(most_purchased)"
   ]
  },
  {
   "cell_type": "code",
   "execution_count": null,
   "metadata": {},
   "outputs": [],
   "source": []
  }
 ],
 "metadata": {
  "kernelspec": {
   "display_name": "Python 3",
   "language": "python",
   "name": "python3"
  },
  "language_info": {
   "codemirror_mode": {
    "name": "ipython",
    "version": 3
   },
   "file_extension": ".py",
   "mimetype": "text/x-python",
   "name": "python",
   "nbconvert_exporter": "python",
   "pygments_lexer": "ipython3",
   "version": "3.7.3"
  }
 },
 "nbformat": 4,
 "nbformat_minor": 2
}
