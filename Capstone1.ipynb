{
 "cells": [
  {
   "cell_type": "markdown",
   "metadata": {},
   "source": [
    "# Online Recommendation System Project"
   ]
  },
  {
   "cell_type": "markdown",
   "metadata": {},
   "source": [
    "#### I utilized data from the UCI Machine Learning Repository of an Online Retail Store. The data observed contains 541909 rows and 7 columns, InvoiceNo, StockCode, Description, Quantity, UnitPrice, CustomerID, and Country."
   ]
  },
  {
   "cell_type": "markdown",
   "metadata": {},
   "source": [
    "## Imported the needed packages"
   ]
  },
  {
   "cell_type": "code",
   "execution_count": 229,
   "metadata": {},
   "outputs": [],
   "source": [
    "import os\n",
    "import pandas as pd\n",
    "import numpy as np\n",
    "from sklearn.preprocessing import MinMaxScaler\n",
    "from sklearn.cluster import KMeans\n",
    "from matplotlib import pyplot as plt"
   ]
  },
  {
   "cell_type": "markdown",
   "metadata": {},
   "source": [
    "## Went to the directory where I want to work"
   ]
  },
  {
   "cell_type": "code",
   "execution_count": 2,
   "metadata": {},
   "outputs": [
    {
     "data": {
      "text/plain": [
       "'C:\\\\Users\\\\dixon\\\\Desktop\\\\Data Science'"
      ]
     },
     "execution_count": 2,
     "metadata": {},
     "output_type": "execute_result"
    }
   ],
   "source": [
    "#Changing working directory\n",
    "os.chdir(r\"C:\\Users\\dixon\\Desktop\\Data Science\")\n",
    "os.getcwd()"
   ]
  },
  {
   "cell_type": "markdown",
   "metadata": {},
   "source": [
    "## Import data and set the index to datetime. Check to see if there are any missing values and what are the columns name."
   ]
  },
  {
   "cell_type": "code",
   "execution_count": 3,
   "metadata": {},
   "outputs": [],
   "source": [
    "#Importing data and setting the index to datetime\n",
    "df=pd.read_csv('Online Retail.csv', parse_dates=True, index_col=\"InvoiceDate\")"
   ]
  },
  {
   "cell_type": "markdown",
   "metadata": {},
   "source": [
    "## Checked the data to see if there were any missing calues and to obtain the types of data. "
   ]
  },
  {
   "cell_type": "code",
   "execution_count": 4,
   "metadata": {},
   "outputs": [
    {
     "name": "stdout",
     "output_type": "stream",
     "text": [
      "<class 'pandas.core.frame.DataFrame'>\n",
      "DatetimeIndex: 541909 entries, 2010-12-01 08:26:00 to 2011-12-09 12:50:00\n",
      "Data columns (total 7 columns):\n",
      "InvoiceNo      541909 non-null object\n",
      "StockCode      541909 non-null object\n",
      "Description    540455 non-null object\n",
      "Quantity       541909 non-null int64\n",
      "UnitPrice      541909 non-null float64\n",
      "CustomerID     406829 non-null float64\n",
      "Country        541909 non-null object\n",
      "dtypes: float64(2), int64(1), object(4)\n",
      "memory usage: 33.1+ MB\n"
     ]
    }
   ],
   "source": [
    "#Checking for missing values\n",
    "df.info()"
   ]
  },
  {
   "cell_type": "markdown",
   "metadata": {},
   "source": [
    "## Observed how the data looked to see if there are any patterns."
   ]
  },
  {
   "cell_type": "code",
   "execution_count": 5,
   "metadata": {},
   "outputs": [
    {
     "name": "stdout",
     "output_type": "stream",
     "text": [
      "                    InvoiceNo StockCode                          Description  \\\n",
      "InvoiceDate                                                                    \n",
      "2010-12-01 08:26:00    536365    85123A   WHITE HANGING HEART T-LIGHT HOLDER   \n",
      "2010-12-01 08:26:00    536365     71053                  WHITE METAL LANTERN   \n",
      "2010-12-01 08:26:00    536365    84406B       CREAM CUPID HEARTS COAT HANGER   \n",
      "2010-12-01 08:26:00    536365    84029G  KNITTED UNION FLAG HOT WATER BOTTLE   \n",
      "2010-12-01 08:26:00    536365    84029E       RED WOOLLY HOTTIE WHITE HEART.   \n",
      "2010-12-01 08:26:00    536365     22752         SET 7 BABUSHKA NESTING BOXES   \n",
      "2010-12-01 08:26:00    536365     21730    GLASS STAR FROSTED T-LIGHT HOLDER   \n",
      "2010-12-01 08:28:00    536366     22633               HAND WARMER UNION JACK   \n",
      "2010-12-01 08:28:00    536366     22632            HAND WARMER RED POLKA DOT   \n",
      "2010-12-01 08:34:00    536367     84879        ASSORTED COLOUR BIRD ORNAMENT   \n",
      "2010-12-01 08:34:00    536367     22745           POPPY'S PLAYHOUSE BEDROOM    \n",
      "2010-12-01 08:34:00    536367     22748            POPPY'S PLAYHOUSE KITCHEN   \n",
      "2010-12-01 08:34:00    536367     22749    FELTCRAFT PRINCESS CHARLOTTE DOLL   \n",
      "2010-12-01 08:34:00    536367     22310              IVORY KNITTED MUG COSY    \n",
      "2010-12-01 08:34:00    536367     84969   BOX OF 6 ASSORTED COLOUR TEASPOONS   \n",
      "2010-12-01 08:34:00    536367     22623        BOX OF VINTAGE JIGSAW BLOCKS    \n",
      "2010-12-01 08:34:00    536367     22622       BOX OF VINTAGE ALPHABET BLOCKS   \n",
      "2010-12-01 08:34:00    536367     21754             HOME BUILDING BLOCK WORD   \n",
      "2010-12-01 08:34:00    536367     21755             LOVE BUILDING BLOCK WORD   \n",
      "2010-12-01 08:34:00    536367     21777          RECIPE BOX WITH METAL HEART   \n",
      "2010-12-01 08:34:00    536367     48187                  DOORMAT NEW ENGLAND   \n",
      "2010-12-01 08:34:00    536368     22960             JAM MAKING SET WITH JARS   \n",
      "2010-12-01 08:34:00    536368     22913          RED COAT RACK PARIS FASHION   \n",
      "2010-12-01 08:34:00    536368     22912       YELLOW COAT RACK PARIS FASHION   \n",
      "2010-12-01 08:34:00    536368     22914         BLUE COAT RACK PARIS FASHION   \n",
      "2010-12-01 08:35:00    536369     21756             BATH BUILDING BLOCK WORD   \n",
      "2010-12-01 08:45:00    536370     22728            ALARM CLOCK BAKELIKE PINK   \n",
      "2010-12-01 08:45:00    536370     22727            ALARM CLOCK BAKELIKE RED    \n",
      "2010-12-01 08:45:00    536370     22726           ALARM CLOCK BAKELIKE GREEN   \n",
      "2010-12-01 08:45:00    536370     21724      PANDA AND BUNNIES STICKER SHEET   \n",
      "...                       ...       ...                                  ...   \n",
      "2011-12-09 12:31:00    581585     22726           ALARM CLOCK BAKELIKE GREEN   \n",
      "2011-12-09 12:31:00    581585     22727            ALARM CLOCK BAKELIKE RED    \n",
      "2011-12-09 12:31:00    581585     16016          LARGE CHINESE STYLE SCISSOR   \n",
      "2011-12-09 12:31:00    581585     21916      SET 12 RETRO WHITE CHALK STICKS   \n",
      "2011-12-09 12:31:00    581585     84692          BOX OF 24 COCKTAIL PARASOLS   \n",
      "2011-12-09 12:31:00    581585     84946         ANTIQUE SILVER T-LIGHT GLASS   \n",
      "2011-12-09 12:31:00    581585     21684     SMALL MEDINA STAMPED METAL BOWL    \n",
      "2011-12-09 12:31:00    581585     22398           MAGNETS PACK OF 4 SWALLOWS   \n",
      "2011-12-09 12:31:00    581585     23328   SET 6 SCHOOL MILK BOTTLES IN CRATE   \n",
      "2011-12-09 12:31:00    581585     23145       ZINC T-LIGHT HOLDER STAR LARGE   \n",
      "2011-12-09 12:31:00    581585     22466       FAIRY TALE COTTAGE NIGHT LIGHT   \n",
      "2011-12-09 12:49:00    581586     22061  LARGE CAKE STAND  HANGING STRAWBERY   \n",
      "2011-12-09 12:49:00    581586     23275     SET OF 3 HANGING OWLS OLLIE BEAK   \n",
      "2011-12-09 12:49:00    581586     21217        RED RETROSPOT ROUND CAKE TINS   \n",
      "2011-12-09 12:49:00    581586     20685                DOORMAT RED RETROSPOT   \n",
      "2011-12-09 12:50:00    581587     22631             CIRCUS PARADE LUNCH BOX    \n",
      "2011-12-09 12:50:00    581587     22556       PLASTERS IN TIN CIRCUS PARADE    \n",
      "2011-12-09 12:50:00    581587     22555            PLASTERS IN TIN STRONGMAN   \n",
      "2011-12-09 12:50:00    581587     22728            ALARM CLOCK BAKELIKE PINK   \n",
      "2011-12-09 12:50:00    581587     22727            ALARM CLOCK BAKELIKE RED    \n",
      "2011-12-09 12:50:00    581587     22726           ALARM CLOCK BAKELIKE GREEN   \n",
      "2011-12-09 12:50:00    581587     22730           ALARM CLOCK BAKELIKE IVORY   \n",
      "2011-12-09 12:50:00    581587     22367      CHILDRENS APRON SPACEBOY DESIGN   \n",
      "2011-12-09 12:50:00    581587     22629                  SPACEBOY LUNCH BOX    \n",
      "2011-12-09 12:50:00    581587     23256          CHILDRENS CUTLERY SPACEBOY    \n",
      "2011-12-09 12:50:00    581587     22613          PACK OF 20 SPACEBOY NAPKINS   \n",
      "2011-12-09 12:50:00    581587     22899         CHILDREN'S APRON DOLLY GIRL    \n",
      "2011-12-09 12:50:00    581587     23254        CHILDRENS CUTLERY DOLLY GIRL    \n",
      "2011-12-09 12:50:00    581587     23255      CHILDRENS CUTLERY CIRCUS PARADE   \n",
      "2011-12-09 12:50:00    581587     22138        BAKING SET 9 PIECE RETROSPOT    \n",
      "\n",
      "                     Quantity  UnitPrice  CustomerID         Country  \n",
      "InvoiceDate                                                           \n",
      "2010-12-01 08:26:00         6       2.55     17850.0  United Kingdom  \n",
      "2010-12-01 08:26:00         6       3.39     17850.0  United Kingdom  \n",
      "2010-12-01 08:26:00         8       2.75     17850.0  United Kingdom  \n",
      "2010-12-01 08:26:00         6       3.39     17850.0  United Kingdom  \n",
      "2010-12-01 08:26:00         6       3.39     17850.0  United Kingdom  \n",
      "2010-12-01 08:26:00         2       7.65     17850.0  United Kingdom  \n",
      "2010-12-01 08:26:00         6       4.25     17850.0  United Kingdom  \n",
      "2010-12-01 08:28:00         6       1.85     17850.0  United Kingdom  \n",
      "2010-12-01 08:28:00         6       1.85     17850.0  United Kingdom  \n",
      "2010-12-01 08:34:00        32       1.69     13047.0  United Kingdom  \n",
      "2010-12-01 08:34:00         6       2.10     13047.0  United Kingdom  \n",
      "2010-12-01 08:34:00         6       2.10     13047.0  United Kingdom  \n",
      "2010-12-01 08:34:00         8       3.75     13047.0  United Kingdom  \n",
      "2010-12-01 08:34:00         6       1.65     13047.0  United Kingdom  \n",
      "2010-12-01 08:34:00         6       4.25     13047.0  United Kingdom  \n",
      "2010-12-01 08:34:00         3       4.95     13047.0  United Kingdom  \n",
      "2010-12-01 08:34:00         2       9.95     13047.0  United Kingdom  \n",
      "2010-12-01 08:34:00         3       5.95     13047.0  United Kingdom  \n",
      "2010-12-01 08:34:00         3       5.95     13047.0  United Kingdom  \n",
      "2010-12-01 08:34:00         4       7.95     13047.0  United Kingdom  \n",
      "2010-12-01 08:34:00         4       7.95     13047.0  United Kingdom  \n",
      "2010-12-01 08:34:00         6       4.25     13047.0  United Kingdom  \n",
      "2010-12-01 08:34:00         3       4.95     13047.0  United Kingdom  \n",
      "2010-12-01 08:34:00         3       4.95     13047.0  United Kingdom  \n",
      "2010-12-01 08:34:00         3       4.95     13047.0  United Kingdom  \n",
      "2010-12-01 08:35:00         3       5.95     13047.0  United Kingdom  \n",
      "2010-12-01 08:45:00        24       3.75     12583.0          France  \n",
      "2010-12-01 08:45:00        24       3.75     12583.0          France  \n",
      "2010-12-01 08:45:00        12       3.75     12583.0          France  \n",
      "2010-12-01 08:45:00        12       0.85     12583.0          France  \n",
      "...                       ...        ...         ...             ...  \n",
      "2011-12-09 12:31:00         8       3.75     15804.0  United Kingdom  \n",
      "2011-12-09 12:31:00         4       3.75     15804.0  United Kingdom  \n",
      "2011-12-09 12:31:00        10       0.85     15804.0  United Kingdom  \n",
      "2011-12-09 12:31:00        24       0.42     15804.0  United Kingdom  \n",
      "2011-12-09 12:31:00        25       0.42     15804.0  United Kingdom  \n",
      "2011-12-09 12:31:00        12       1.25     15804.0  United Kingdom  \n",
      "2011-12-09 12:31:00        12       0.85     15804.0  United Kingdom  \n",
      "2011-12-09 12:31:00        12       0.39     15804.0  United Kingdom  \n",
      "2011-12-09 12:31:00         4       3.75     15804.0  United Kingdom  \n",
      "2011-12-09 12:31:00        12       0.95     15804.0  United Kingdom  \n",
      "2011-12-09 12:31:00        12       1.95     15804.0  United Kingdom  \n",
      "2011-12-09 12:49:00         8       2.95     13113.0  United Kingdom  \n",
      "2011-12-09 12:49:00        24       1.25     13113.0  United Kingdom  \n",
      "2011-12-09 12:49:00        24       8.95     13113.0  United Kingdom  \n",
      "2011-12-09 12:49:00        10       7.08     13113.0  United Kingdom  \n",
      "2011-12-09 12:50:00        12       1.95     12680.0          France  \n",
      "2011-12-09 12:50:00        12       1.65     12680.0          France  \n",
      "2011-12-09 12:50:00        12       1.65     12680.0          France  \n",
      "2011-12-09 12:50:00         4       3.75     12680.0          France  \n",
      "2011-12-09 12:50:00         4       3.75     12680.0          France  \n",
      "2011-12-09 12:50:00         4       3.75     12680.0          France  \n",
      "2011-12-09 12:50:00         4       3.75     12680.0          France  \n",
      "2011-12-09 12:50:00         8       1.95     12680.0          France  \n",
      "2011-12-09 12:50:00        12       1.95     12680.0          France  \n",
      "2011-12-09 12:50:00         4       4.15     12680.0          France  \n",
      "2011-12-09 12:50:00        12       0.85     12680.0          France  \n",
      "2011-12-09 12:50:00         6       2.10     12680.0          France  \n",
      "2011-12-09 12:50:00         4       4.15     12680.0          France  \n",
      "2011-12-09 12:50:00         4       4.15     12680.0          France  \n",
      "2011-12-09 12:50:00         3       4.95     12680.0          France  \n",
      "\n",
      "[541909 rows x 7 columns]\n"
     ]
    }
   ],
   "source": [
    "#Looking at the data set to observe visual trends\n",
    "print(df)"
   ]
  },
  {
   "cell_type": "markdown",
   "metadata": {},
   "source": [
    "## Removed the Country column, this is not needed information. Stripped the letters from the StockCode column to make an integer Dropped the promotional items because they were given. We only care about items customers wanted to buy."
   ]
  },
  {
   "cell_type": "code",
   "execution_count": 247,
   "metadata": {},
   "outputs": [
    {
     "name": "stdout",
     "output_type": "stream",
     "text": [
      "                    InvoiceNo StockCode                          Description  \\\n",
      "InvoiceDate                                                                    \n",
      "2010-12-01 08:26:00    536365    85123A   WHITE HANGING HEART T-LIGHT HOLDER   \n",
      "2010-12-01 08:26:00    536365     71053                  WHITE METAL LANTERN   \n",
      "2010-12-01 08:26:00    536365    84406B       CREAM CUPID HEARTS COAT HANGER   \n",
      "2010-12-01 08:26:00    536365    84029G  KNITTED UNION FLAG HOT WATER BOTTLE   \n",
      "2010-12-01 08:26:00    536365    84029E       RED WOOLLY HOTTIE WHITE HEART.   \n",
      "2010-12-01 08:26:00    536365     22752         SET 7 BABUSHKA NESTING BOXES   \n",
      "2010-12-01 08:26:00    536365     21730    GLASS STAR FROSTED T-LIGHT HOLDER   \n",
      "2010-12-01 08:28:00    536366     22633               HAND WARMER UNION JACK   \n",
      "2010-12-01 08:28:00    536366     22632            HAND WARMER RED POLKA DOT   \n",
      "2010-12-01 08:34:00    536367     84879        ASSORTED COLOUR BIRD ORNAMENT   \n",
      "2010-12-01 08:34:00    536367     22745           POPPY'S PLAYHOUSE BEDROOM    \n",
      "2010-12-01 08:34:00    536367     22748            POPPY'S PLAYHOUSE KITCHEN   \n",
      "2010-12-01 08:34:00    536367     22749    FELTCRAFT PRINCESS CHARLOTTE DOLL   \n",
      "2010-12-01 08:34:00    536367     22310              IVORY KNITTED MUG COSY    \n",
      "2010-12-01 08:34:00    536367     84969   BOX OF 6 ASSORTED COLOUR TEASPOONS   \n",
      "2010-12-01 08:34:00    536367     22623        BOX OF VINTAGE JIGSAW BLOCKS    \n",
      "2010-12-01 08:34:00    536367     22622       BOX OF VINTAGE ALPHABET BLOCKS   \n",
      "2010-12-01 08:34:00    536367     21754             HOME BUILDING BLOCK WORD   \n",
      "2010-12-01 08:34:00    536367     21755             LOVE BUILDING BLOCK WORD   \n",
      "2010-12-01 08:34:00    536367     21777          RECIPE BOX WITH METAL HEART   \n",
      "2010-12-01 08:34:00    536367     48187                  DOORMAT NEW ENGLAND   \n",
      "2010-12-01 08:34:00    536368     22960             JAM MAKING SET WITH JARS   \n",
      "2010-12-01 08:34:00    536368     22913          RED COAT RACK PARIS FASHION   \n",
      "2010-12-01 08:34:00    536368     22912       YELLOW COAT RACK PARIS FASHION   \n",
      "2010-12-01 08:34:00    536368     22914         BLUE COAT RACK PARIS FASHION   \n",
      "2010-12-01 08:35:00    536369     21756             BATH BUILDING BLOCK WORD   \n",
      "2010-12-01 08:45:00    536370     22728            ALARM CLOCK BAKELIKE PINK   \n",
      "2010-12-01 08:45:00    536370     22727            ALARM CLOCK BAKELIKE RED    \n",
      "2010-12-01 08:45:00    536370     22726           ALARM CLOCK BAKELIKE GREEN   \n",
      "2010-12-01 08:45:00    536370     21724      PANDA AND BUNNIES STICKER SHEET   \n",
      "...                       ...       ...                                  ...   \n",
      "2011-12-09 12:31:00    581585     22726           ALARM CLOCK BAKELIKE GREEN   \n",
      "2011-12-09 12:31:00    581585     22727            ALARM CLOCK BAKELIKE RED    \n",
      "2011-12-09 12:31:00    581585     16016          LARGE CHINESE STYLE SCISSOR   \n",
      "2011-12-09 12:31:00    581585     21916      SET 12 RETRO WHITE CHALK STICKS   \n",
      "2011-12-09 12:31:00    581585     84692          BOX OF 24 COCKTAIL PARASOLS   \n",
      "2011-12-09 12:31:00    581585     84946         ANTIQUE SILVER T-LIGHT GLASS   \n",
      "2011-12-09 12:31:00    581585     21684     SMALL MEDINA STAMPED METAL BOWL    \n",
      "2011-12-09 12:31:00    581585     22398           MAGNETS PACK OF 4 SWALLOWS   \n",
      "2011-12-09 12:31:00    581585     23328   SET 6 SCHOOL MILK BOTTLES IN CRATE   \n",
      "2011-12-09 12:31:00    581585     23145       ZINC T-LIGHT HOLDER STAR LARGE   \n",
      "2011-12-09 12:31:00    581585     22466       FAIRY TALE COTTAGE NIGHT LIGHT   \n",
      "2011-12-09 12:49:00    581586     22061  LARGE CAKE STAND  HANGING STRAWBERY   \n",
      "2011-12-09 12:49:00    581586     23275     SET OF 3 HANGING OWLS OLLIE BEAK   \n",
      "2011-12-09 12:49:00    581586     21217        RED RETROSPOT ROUND CAKE TINS   \n",
      "2011-12-09 12:49:00    581586     20685                DOORMAT RED RETROSPOT   \n",
      "2011-12-09 12:50:00    581587     22631             CIRCUS PARADE LUNCH BOX    \n",
      "2011-12-09 12:50:00    581587     22556       PLASTERS IN TIN CIRCUS PARADE    \n",
      "2011-12-09 12:50:00    581587     22555            PLASTERS IN TIN STRONGMAN   \n",
      "2011-12-09 12:50:00    581587     22728            ALARM CLOCK BAKELIKE PINK   \n",
      "2011-12-09 12:50:00    581587     22727            ALARM CLOCK BAKELIKE RED    \n",
      "2011-12-09 12:50:00    581587     22726           ALARM CLOCK BAKELIKE GREEN   \n",
      "2011-12-09 12:50:00    581587     22730           ALARM CLOCK BAKELIKE IVORY   \n",
      "2011-12-09 12:50:00    581587     22367      CHILDRENS APRON SPACEBOY DESIGN   \n",
      "2011-12-09 12:50:00    581587     22629                  SPACEBOY LUNCH BOX    \n",
      "2011-12-09 12:50:00    581587     23256          CHILDRENS CUTLERY SPACEBOY    \n",
      "2011-12-09 12:50:00    581587     22613          PACK OF 20 SPACEBOY NAPKINS   \n",
      "2011-12-09 12:50:00    581587     22899         CHILDREN'S APRON DOLLY GIRL    \n",
      "2011-12-09 12:50:00    581587     23254        CHILDRENS CUTLERY DOLLY GIRL    \n",
      "2011-12-09 12:50:00    581587     23255      CHILDRENS CUTLERY CIRCUS PARADE   \n",
      "2011-12-09 12:50:00    581587     22138        BAKING SET 9 PIECE RETROSPOT    \n",
      "\n",
      "                     Quantity  UnitPrice  CustomerID  \n",
      "InvoiceDate                                           \n",
      "2010-12-01 08:26:00         6       2.55     17850.0  \n",
      "2010-12-01 08:26:00         6       3.39     17850.0  \n",
      "2010-12-01 08:26:00         8       2.75     17850.0  \n",
      "2010-12-01 08:26:00         6       3.39     17850.0  \n",
      "2010-12-01 08:26:00         6       3.39     17850.0  \n",
      "2010-12-01 08:26:00         2       7.65     17850.0  \n",
      "2010-12-01 08:26:00         6       4.25     17850.0  \n",
      "2010-12-01 08:28:00         6       1.85     17850.0  \n",
      "2010-12-01 08:28:00         6       1.85     17850.0  \n",
      "2010-12-01 08:34:00        32       1.69     13047.0  \n",
      "2010-12-01 08:34:00         6       2.10     13047.0  \n",
      "2010-12-01 08:34:00         6       2.10     13047.0  \n",
      "2010-12-01 08:34:00         8       3.75     13047.0  \n",
      "2010-12-01 08:34:00         6       1.65     13047.0  \n",
      "2010-12-01 08:34:00         6       4.25     13047.0  \n",
      "2010-12-01 08:34:00         3       4.95     13047.0  \n",
      "2010-12-01 08:34:00         2       9.95     13047.0  \n",
      "2010-12-01 08:34:00         3       5.95     13047.0  \n",
      "2010-12-01 08:34:00         3       5.95     13047.0  \n",
      "2010-12-01 08:34:00         4       7.95     13047.0  \n",
      "2010-12-01 08:34:00         4       7.95     13047.0  \n",
      "2010-12-01 08:34:00         6       4.25     13047.0  \n",
      "2010-12-01 08:34:00         3       4.95     13047.0  \n",
      "2010-12-01 08:34:00         3       4.95     13047.0  \n",
      "2010-12-01 08:34:00         3       4.95     13047.0  \n",
      "2010-12-01 08:35:00         3       5.95     13047.0  \n",
      "2010-12-01 08:45:00        24       3.75     12583.0  \n",
      "2010-12-01 08:45:00        24       3.75     12583.0  \n",
      "2010-12-01 08:45:00        12       3.75     12583.0  \n",
      "2010-12-01 08:45:00        12       0.85     12583.0  \n",
      "...                       ...        ...         ...  \n",
      "2011-12-09 12:31:00         8       3.75     15804.0  \n",
      "2011-12-09 12:31:00         4       3.75     15804.0  \n",
      "2011-12-09 12:31:00        10       0.85     15804.0  \n",
      "2011-12-09 12:31:00        24       0.42     15804.0  \n",
      "2011-12-09 12:31:00        25       0.42     15804.0  \n",
      "2011-12-09 12:31:00        12       1.25     15804.0  \n",
      "2011-12-09 12:31:00        12       0.85     15804.0  \n",
      "2011-12-09 12:31:00        12       0.39     15804.0  \n",
      "2011-12-09 12:31:00         4       3.75     15804.0  \n",
      "2011-12-09 12:31:00        12       0.95     15804.0  \n",
      "2011-12-09 12:31:00        12       1.95     15804.0  \n",
      "2011-12-09 12:49:00         8       2.95     13113.0  \n",
      "2011-12-09 12:49:00        24       1.25     13113.0  \n",
      "2011-12-09 12:49:00        24       8.95     13113.0  \n",
      "2011-12-09 12:49:00        10       7.08     13113.0  \n",
      "2011-12-09 12:50:00        12       1.95     12680.0  \n",
      "2011-12-09 12:50:00        12       1.65     12680.0  \n",
      "2011-12-09 12:50:00        12       1.65     12680.0  \n",
      "2011-12-09 12:50:00         4       3.75     12680.0  \n",
      "2011-12-09 12:50:00         4       3.75     12680.0  \n",
      "2011-12-09 12:50:00         4       3.75     12680.0  \n",
      "2011-12-09 12:50:00         4       3.75     12680.0  \n",
      "2011-12-09 12:50:00         8       1.95     12680.0  \n",
      "2011-12-09 12:50:00        12       1.95     12680.0  \n",
      "2011-12-09 12:50:00         4       4.15     12680.0  \n",
      "2011-12-09 12:50:00        12       0.85     12680.0  \n",
      "2011-12-09 12:50:00         6       2.10     12680.0  \n",
      "2011-12-09 12:50:00         4       4.15     12680.0  \n",
      "2011-12-09 12:50:00         4       4.15     12680.0  \n",
      "2011-12-09 12:50:00         3       4.95     12680.0  \n",
      "\n",
      "[530104 rows x 6 columns]\n"
     ]
    }
   ],
   "source": [
    "#dropping the Country column because it is not needed\n",
    "df_dropped=df.drop(['Country'],axis=1)\n",
    "df_pos_price = df_dropped.loc[lambda df_dropped: (df_dropped['UnitPrice'] > 0) & (df_dropped['Quantity'] > 0)]\n",
    "df_pos_price.StockCode.apply(lambda x:  x.rstrip('ABCDEFGHIJKLMNOPQRSTUVWXyZ'))\n",
    "print(df_pos_price)"
   ]
  },
  {
   "cell_type": "markdown",
   "metadata": {},
   "source": [
    "## Looking to see how many products were purchased by each customer."
   ]
  },
  {
   "cell_type": "code",
   "execution_count": 217,
   "metadata": {
    "scrolled": true
   },
   "outputs": [
    {
     "name": "stdout",
     "output_type": "stream",
     "text": [
      "            InvoiceNo  StockCode  Description  Quantity  UnitPrice\n",
      "CustomerID                                                        \n",
      "12346.0             1          1            1         1          1\n",
      "12347.0           182        182          182       182        182\n",
      "12348.0            31         31           31        31         31\n",
      "12349.0            73         73           73        73         73\n",
      "12350.0            17         17           17        17         17\n",
      "12352.0            85         85           85        85         85\n",
      "12353.0             4          4            4         4          4\n",
      "12354.0            58         58           58        58         58\n",
      "12355.0            13         13           13        13         13\n",
      "12356.0            59         59           59        59         59\n",
      "12357.0           131        131          131       131        131\n",
      "12358.0            19         19           19        19         19\n",
      "12359.0           248        248          248       248        248\n",
      "12360.0           129        129          129       129        129\n",
      "12361.0            10         10           10        10         10\n",
      "12362.0           266        266          266       266        266\n",
      "12363.0            23         23           23        23         23\n",
      "12364.0            85         85           85        85         85\n",
      "12365.0            22         22           22        22         22\n",
      "12367.0            11         11           11        11         11\n",
      "12370.0           167        167          167       167        167\n",
      "12371.0            63         63           63        63         63\n",
      "12372.0            52         52           52        52         52\n",
      "12373.0            14         14           14        14         14\n",
      "12374.0            33         33           33        33         33\n",
      "12375.0            17         17           17        17         17\n",
      "12377.0            77         77           77        77         77\n",
      "12378.0           219        219          219       219        219\n",
      "12379.0            40         40           40        40         40\n",
      "12380.0           104        104          104       104        104\n",
      "...               ...        ...          ...       ...        ...\n",
      "18242.0            78         78           78        78         78\n",
      "18245.0           175        175          175       175        175\n",
      "18246.0             4          4            4         4          4\n",
      "18248.0            47         47           47        47         47\n",
      "18249.0             8          8            8         8          8\n",
      "18250.0            21         21           21        21         21\n",
      "18251.0            16         16           16        16         16\n",
      "18252.0            98         98           98        98         98\n",
      "18255.0             6          6            6         6          6\n",
      "18257.0           118        118          118       118        118\n",
      "18259.0            42         42           42        42         42\n",
      "18260.0           134        134          134       134        134\n",
      "18261.0            21         21           21        21         21\n",
      "18262.0            13         13           13        13         13\n",
      "18263.0            61         61           61        61         61\n",
      "18265.0            46         46           46        46         46\n",
      "18268.0             1          1            1         1          1\n",
      "18269.0             7          7            7         7          7\n",
      "18270.0            11         11           11        11         11\n",
      "18272.0           166        166          166       166        166\n",
      "18273.0             3          3            3         3          3\n",
      "18274.0            11         11           11        11         11\n",
      "18276.0            14         14           14        14         14\n",
      "18277.0             8          8            8         8          8\n",
      "18278.0             9          9            9         9          9\n",
      "18280.0            10         10           10        10         10\n",
      "18281.0             7          7            7         7          7\n",
      "18282.0            12         12           12        12         12\n",
      "18283.0           756        756          756       756        756\n",
      "18287.0            70         70           70        70         70\n",
      "\n",
      "[4338 rows x 5 columns]\n"
     ]
    }
   ],
   "source": [
    "#observe the data where we have all column data \n",
    "CustomerID = df_pos_price.groupby('CustomerID').count()\n",
    "print(CustomerID)"
   ]
  },
  {
   "cell_type": "markdown",
   "metadata": {},
   "source": [
    "## We want to make sure the customers purchase frequently to get an accurate recommendation. If a customer was a single shopper, there could skew the results."
   ]
  },
  {
   "cell_type": "code",
   "execution_count": 218,
   "metadata": {},
   "outputs": [
    {
     "name": "stdout",
     "output_type": "stream",
     "text": [
      "            InvoiceNo  StockCode  Description  Quantity  UnitPrice\n",
      "CustomerID                                                        \n",
      "12347.0           182        182          182       182        182\n",
      "12349.0            73         73           73        73         73\n",
      "12352.0            85         85           85        85         85\n",
      "12354.0            58         58           58        58         58\n",
      "12356.0            59         59           59        59         59\n",
      "12357.0           131        131          131       131        131\n",
      "12359.0           248        248          248       248        248\n",
      "12360.0           129        129          129       129        129\n",
      "12362.0           266        266          266       266        266\n",
      "12364.0            85         85           85        85         85\n",
      "12370.0           167        167          167       167        167\n",
      "12371.0            63         63           63        63         63\n",
      "12372.0            52         52           52        52         52\n",
      "12377.0            77         77           77        77         77\n",
      "12378.0           219        219          219       219        219\n",
      "12380.0           104        104          104       104        104\n",
      "12381.0            87         87           87        87         87\n",
      "12383.0            99         99           99        99         99\n",
      "12388.0           100        100          100       100        100\n",
      "12391.0           100        100          100       100        100\n",
      "12393.0            64         64           64        64         64\n",
      "12395.0           156        156          156       156        156\n",
      "12397.0           126        126          126       126        126\n",
      "12398.0            85         85           85        85         85\n",
      "12399.0            59         59           59        59         59\n",
      "12405.0            54         54           54        54         54\n",
      "12406.0           105        105          105       105        105\n",
      "12407.0            77         77           77        77         77\n",
      "12408.0           105        105          105       105        105\n",
      "12409.0           109        109          109       109        109\n",
      "...               ...        ...          ...       ...        ...\n",
      "18179.0            90         90           90        90         90\n",
      "18180.0           119        119          119       119        119\n",
      "18188.0            71         71           71        71         71\n",
      "18189.0            68         68           68        68         68\n",
      "18196.0           141        141          141       141        141\n",
      "18198.0           159        159          159       159        159\n",
      "18202.0            68         68           68        68         68\n",
      "18204.0           200        200          200       200        200\n",
      "18210.0           134        134          134       134        134\n",
      "18219.0           114        114          114       114        114\n",
      "18221.0            64         64           64        64         64\n",
      "18223.0           272        272          272       272        272\n",
      "18225.0           271        271          271       271        271\n",
      "18226.0           242        242          242       242        242\n",
      "18229.0           164        164          164       164        164\n",
      "18230.0            86         86           86        86         86\n",
      "18231.0           124        124          124       124        124\n",
      "18235.0           104        104          104       104        104\n",
      "18237.0            61         61           61        61         61\n",
      "18239.0            88         88           88        88         88\n",
      "18241.0           104        104          104       104        104\n",
      "18242.0            78         78           78        78         78\n",
      "18245.0           175        175          175       175        175\n",
      "18252.0            98         98           98        98         98\n",
      "18257.0           118        118          118       118        118\n",
      "18260.0           134        134          134       134        134\n",
      "18263.0            61         61           61        61         61\n",
      "18272.0           166        166          166       166        166\n",
      "18283.0           756        756          756       756        756\n",
      "18287.0            70         70           70        70         70\n",
      "\n",
      "[1908 rows x 5 columns]\n"
     ]
    }
   ],
   "source": [
    "#customers less than 50 orders\n",
    "df_clean=CustomerID.loc[lambda CustomerID: CustomerID['InvoiceNo'] > 50]\n",
    "print(df_clean)"
   ]
  },
  {
   "cell_type": "markdown",
   "metadata": {},
   "source": [
    "## Created a DataFrame that indexed the StockCode and used CustomerID the Columns where we figured the values to be the Quantity shared between them. After, we normalized the data."
   ]
  },
  {
   "cell_type": "code",
   "execution_count": 254,
   "metadata": {
    "scrolled": true
   },
   "outputs": [
    {
     "name": "stdout",
     "output_type": "stream",
     "text": [
      "CustomerID  12347.0  12349.0  12352.0  12354.0  12356.0  12357.0  12359.0  \\\n",
      "StockCode                                                                   \n",
      "51              0.0      0.0      0.0      0.0      0.0      0.0      0.0   \n",
      "52              0.0      0.0      0.0      0.0      0.0      0.0      0.0   \n",
      "53              0.0      0.0      0.0      0.0      0.0      0.0      0.0   \n",
      "54              0.0      0.0      0.0      0.0      0.0      0.0      0.0   \n",
      "55              0.0      0.0      0.0      0.0      0.0      0.0      0.0   \n",
      "56              0.0      0.0      0.0      0.0      0.0      0.0      0.0   \n",
      "57              0.0      0.0      0.0      0.0      0.0      0.0      0.0   \n",
      "58              0.0      0.0      0.0     58.0      0.0      0.0      0.0   \n",
      "59              0.0      0.0      0.0      0.0     59.0      0.0      0.0   \n",
      "60              0.0      0.0      0.0      0.0      0.0      0.0      0.0   \n",
      "61              0.0      0.0      0.0      0.0      0.0      0.0      0.0   \n",
      "62              0.0      0.0      0.0      0.0      0.0      0.0      0.0   \n",
      "63              0.0      0.0      0.0      0.0      0.0      0.0      0.0   \n",
      "64              0.0      0.0      0.0      0.0      0.0      0.0      0.0   \n",
      "65              0.0      0.0      0.0      0.0      0.0      0.0      0.0   \n",
      "66              0.0      0.0      0.0      0.0      0.0      0.0      0.0   \n",
      "67              0.0      0.0      0.0      0.0      0.0      0.0      0.0   \n",
      "68              0.0      0.0      0.0      0.0      0.0      0.0      0.0   \n",
      "69              0.0      0.0      0.0      0.0      0.0      0.0      0.0   \n",
      "70              0.0      0.0      0.0      0.0      0.0      0.0      0.0   \n",
      "71              0.0      0.0      0.0      0.0      0.0      0.0      0.0   \n",
      "72              0.0      0.0      0.0      0.0      0.0      0.0      0.0   \n",
      "73              0.0     73.0      0.0      0.0      0.0      0.0      0.0   \n",
      "74              0.0      0.0      0.0      0.0      0.0      0.0      0.0   \n",
      "75              0.0      0.0      0.0      0.0      0.0      0.0      0.0   \n",
      "76              0.0      0.0      0.0      0.0      0.0      0.0      0.0   \n",
      "77              0.0      0.0      0.0      0.0      0.0      0.0      0.0   \n",
      "78              0.0      0.0      0.0      0.0      0.0      0.0      0.0   \n",
      "79              0.0      0.0      0.0      0.0      0.0      0.0      0.0   \n",
      "80              0.0      0.0      0.0      0.0      0.0      0.0      0.0   \n",
      "...             ...      ...      ...      ...      ...      ...      ...   \n",
      "756             0.0      0.0      0.0      0.0      0.0      0.0      0.0   \n",
      "799             0.0      0.0      0.0      0.0      0.0      0.0      0.0   \n",
      "851             0.0      0.0      0.0      0.0      0.0      0.0      0.0   \n",
      "898             0.0      0.0      0.0      0.0      0.0      0.0      0.0   \n",
      "899             0.0      0.0      0.0      0.0      0.0      0.0      0.0   \n",
      "937             0.0      0.0      0.0      0.0      0.0      0.0      0.0   \n",
      "963             0.0      0.0      0.0      0.0      0.0      0.0      0.0   \n",
      "970             0.0      0.0      0.0      0.0      0.0      0.0      0.0   \n",
      "972             0.0      0.0      0.0      0.0      0.0      0.0      0.0   \n",
      "981             0.0      0.0      0.0      0.0      0.0      0.0      0.0   \n",
      "1024            0.0      0.0      0.0      0.0      0.0      0.0      0.0   \n",
      "1090            0.0      0.0      0.0      0.0      0.0      0.0      0.0   \n",
      "1106            0.0      0.0      0.0      0.0      0.0      0.0      0.0   \n",
      "1119            0.0      0.0      0.0      0.0      0.0      0.0      0.0   \n",
      "1137            0.0      0.0      0.0      0.0      0.0      0.0      0.0   \n",
      "1141            0.0      0.0      0.0      0.0      0.0      0.0      0.0   \n",
      "1204            0.0      0.0      0.0      0.0      0.0      0.0      0.0   \n",
      "1279            0.0      0.0      0.0      0.0      0.0      0.0      0.0   \n",
      "1400            0.0      0.0      0.0      0.0      0.0      0.0      0.0   \n",
      "1502            0.0      0.0      0.0      0.0      0.0      0.0      0.0   \n",
      "1637            0.0      0.0      0.0      0.0      0.0      0.0      0.0   \n",
      "1677            0.0      0.0      0.0      0.0      0.0      0.0      0.0   \n",
      "1818            0.0      0.0      0.0      0.0      0.0      0.0      0.0   \n",
      "2076            0.0      0.0      0.0      0.0      0.0      0.0      0.0   \n",
      "2379            0.0      0.0      0.0      0.0      0.0      0.0      0.0   \n",
      "2700            0.0      0.0      0.0      0.0      0.0      0.0      0.0   \n",
      "4595            0.0      0.0      0.0      0.0      0.0      0.0      0.0   \n",
      "5111            0.0      0.0      0.0      0.0      0.0      0.0      0.0   \n",
      "5675            0.0      0.0      0.0      0.0      0.0      0.0      0.0   \n",
      "7847            0.0      0.0      0.0      0.0      0.0      0.0      0.0   \n",
      "\n",
      "CustomerID  12360.0  12362.0  12364.0  ...  18241.0  18242.0  18245.0  \\\n",
      "StockCode                              ...                              \n",
      "51              0.0      0.0      0.0  ...      0.0      0.0      0.0   \n",
      "52              0.0      0.0      0.0  ...      0.0      0.0      0.0   \n",
      "53              0.0      0.0      0.0  ...      0.0      0.0      0.0   \n",
      "54              0.0      0.0      0.0  ...      0.0      0.0      0.0   \n",
      "55              0.0      0.0      0.0  ...      0.0      0.0      0.0   \n",
      "56              0.0      0.0      0.0  ...      0.0      0.0      0.0   \n",
      "57              0.0      0.0      0.0  ...      0.0      0.0      0.0   \n",
      "58              0.0      0.0      0.0  ...      0.0      0.0      0.0   \n",
      "59              0.0      0.0      0.0  ...      0.0      0.0      0.0   \n",
      "60              0.0      0.0      0.0  ...      0.0      0.0      0.0   \n",
      "61              0.0      0.0      0.0  ...      0.0      0.0      0.0   \n",
      "62              0.0      0.0      0.0  ...      0.0      0.0      0.0   \n",
      "63              0.0      0.0      0.0  ...      0.0      0.0      0.0   \n",
      "64              0.0      0.0      0.0  ...      0.0      0.0      0.0   \n",
      "65              0.0      0.0      0.0  ...      0.0      0.0      0.0   \n",
      "66              0.0      0.0      0.0  ...      0.0      0.0      0.0   \n",
      "67              0.0      0.0      0.0  ...      0.0      0.0      0.0   \n",
      "68              0.0      0.0      0.0  ...      0.0      0.0      0.0   \n",
      "69              0.0      0.0      0.0  ...      0.0      0.0      0.0   \n",
      "70              0.0      0.0      0.0  ...      0.0      0.0      0.0   \n",
      "71              0.0      0.0      0.0  ...      0.0      0.0      0.0   \n",
      "72              0.0      0.0      0.0  ...      0.0      0.0      0.0   \n",
      "73              0.0      0.0      0.0  ...      0.0      0.0      0.0   \n",
      "74              0.0      0.0      0.0  ...      0.0      0.0      0.0   \n",
      "75              0.0      0.0      0.0  ...      0.0      0.0      0.0   \n",
      "76              0.0      0.0      0.0  ...      0.0      0.0      0.0   \n",
      "77              0.0      0.0      0.0  ...      0.0      0.0      0.0   \n",
      "78              0.0      0.0      0.0  ...      0.0     78.0      0.0   \n",
      "79              0.0      0.0      0.0  ...      0.0      0.0      0.0   \n",
      "80              0.0      0.0      0.0  ...      0.0      0.0      0.0   \n",
      "...             ...      ...      ...  ...      ...      ...      ...   \n",
      "756             0.0      0.0      0.0  ...      0.0      0.0      0.0   \n",
      "799             0.0      0.0      0.0  ...      0.0      0.0      0.0   \n",
      "851             0.0      0.0      0.0  ...      0.0      0.0      0.0   \n",
      "898             0.0      0.0      0.0  ...      0.0      0.0      0.0   \n",
      "899             0.0      0.0      0.0  ...      0.0      0.0      0.0   \n",
      "937             0.0      0.0      0.0  ...      0.0      0.0      0.0   \n",
      "963             0.0      0.0      0.0  ...      0.0      0.0      0.0   \n",
      "970             0.0      0.0      0.0  ...      0.0      0.0      0.0   \n",
      "972             0.0      0.0      0.0  ...      0.0      0.0      0.0   \n",
      "981             0.0      0.0      0.0  ...      0.0      0.0      0.0   \n",
      "1024            0.0      0.0      0.0  ...      0.0      0.0      0.0   \n",
      "1090            0.0      0.0      0.0  ...      0.0      0.0      0.0   \n",
      "1106            0.0      0.0      0.0  ...      0.0      0.0      0.0   \n",
      "1119            0.0      0.0      0.0  ...      0.0      0.0      0.0   \n",
      "1137            0.0      0.0      0.0  ...      0.0      0.0      0.0   \n",
      "1141            0.0      0.0      0.0  ...      0.0      0.0      0.0   \n",
      "1204            0.0      0.0      0.0  ...      0.0      0.0      0.0   \n",
      "1279            0.0      0.0      0.0  ...      0.0      0.0      0.0   \n",
      "1400            0.0      0.0      0.0  ...      0.0      0.0      0.0   \n",
      "1502            0.0      0.0      0.0  ...      0.0      0.0      0.0   \n",
      "1637            0.0      0.0      0.0  ...      0.0      0.0      0.0   \n",
      "1677            0.0      0.0      0.0  ...      0.0      0.0      0.0   \n",
      "1818            0.0      0.0      0.0  ...      0.0      0.0      0.0   \n",
      "2076            0.0      0.0      0.0  ...      0.0      0.0      0.0   \n",
      "2379            0.0      0.0      0.0  ...      0.0      0.0      0.0   \n",
      "2700            0.0      0.0      0.0  ...      0.0      0.0      0.0   \n",
      "4595            0.0      0.0      0.0  ...      0.0      0.0      0.0   \n",
      "5111            0.0      0.0      0.0  ...      0.0      0.0      0.0   \n",
      "5675            0.0      0.0      0.0  ...      0.0      0.0      0.0   \n",
      "7847            0.0      0.0      0.0  ...      0.0      0.0      0.0   \n",
      "\n",
      "CustomerID  18252.0  18257.0  18260.0  18263.0  18272.0  18283.0  18287.0  \n",
      "StockCode                                                                  \n",
      "51              0.0      0.0      0.0      0.0      0.0      0.0      0.0  \n",
      "52              0.0      0.0      0.0      0.0      0.0      0.0      0.0  \n",
      "53              0.0      0.0      0.0      0.0      0.0      0.0      0.0  \n",
      "54              0.0      0.0      0.0      0.0      0.0      0.0      0.0  \n",
      "55              0.0      0.0      0.0      0.0      0.0      0.0      0.0  \n",
      "56              0.0      0.0      0.0      0.0      0.0      0.0      0.0  \n",
      "57              0.0      0.0      0.0      0.0      0.0      0.0      0.0  \n",
      "58              0.0      0.0      0.0      0.0      0.0      0.0      0.0  \n",
      "59              0.0      0.0      0.0      0.0      0.0      0.0      0.0  \n",
      "60              0.0      0.0      0.0      0.0      0.0      0.0      0.0  \n",
      "61              0.0      0.0      0.0     61.0      0.0      0.0      0.0  \n",
      "62              0.0      0.0      0.0      0.0      0.0      0.0      0.0  \n",
      "63              0.0      0.0      0.0      0.0      0.0      0.0      0.0  \n",
      "64              0.0      0.0      0.0      0.0      0.0      0.0      0.0  \n",
      "65              0.0      0.0      0.0      0.0      0.0      0.0      0.0  \n",
      "66              0.0      0.0      0.0      0.0      0.0      0.0      0.0  \n",
      "67              0.0      0.0      0.0      0.0      0.0      0.0      0.0  \n",
      "68              0.0      0.0      0.0      0.0      0.0      0.0      0.0  \n",
      "69              0.0      0.0      0.0      0.0      0.0      0.0      0.0  \n",
      "70              0.0      0.0      0.0      0.0      0.0      0.0     70.0  \n",
      "71              0.0      0.0      0.0      0.0      0.0      0.0      0.0  \n",
      "72              0.0      0.0      0.0      0.0      0.0      0.0      0.0  \n",
      "73              0.0      0.0      0.0      0.0      0.0      0.0      0.0  \n",
      "74              0.0      0.0      0.0      0.0      0.0      0.0      0.0  \n",
      "75              0.0      0.0      0.0      0.0      0.0      0.0      0.0  \n",
      "76              0.0      0.0      0.0      0.0      0.0      0.0      0.0  \n",
      "77              0.0      0.0      0.0      0.0      0.0      0.0      0.0  \n",
      "78              0.0      0.0      0.0      0.0      0.0      0.0      0.0  \n",
      "79              0.0      0.0      0.0      0.0      0.0      0.0      0.0  \n",
      "80              0.0      0.0      0.0      0.0      0.0      0.0      0.0  \n",
      "...             ...      ...      ...      ...      ...      ...      ...  \n",
      "756             0.0      0.0      0.0      0.0      0.0    756.0      0.0  \n",
      "799             0.0      0.0      0.0      0.0      0.0      0.0      0.0  \n",
      "851             0.0      0.0      0.0      0.0      0.0      0.0      0.0  \n",
      "898             0.0      0.0      0.0      0.0      0.0      0.0      0.0  \n",
      "899             0.0      0.0      0.0      0.0      0.0      0.0      0.0  \n",
      "937             0.0      0.0      0.0      0.0      0.0      0.0      0.0  \n",
      "963             0.0      0.0      0.0      0.0      0.0      0.0      0.0  \n",
      "970             0.0      0.0      0.0      0.0      0.0      0.0      0.0  \n",
      "972             0.0      0.0      0.0      0.0      0.0      0.0      0.0  \n",
      "981             0.0      0.0      0.0      0.0      0.0      0.0      0.0  \n",
      "1024            0.0      0.0      0.0      0.0      0.0      0.0      0.0  \n",
      "1090            0.0      0.0      0.0      0.0      0.0      0.0      0.0  \n",
      "1106            0.0      0.0      0.0      0.0      0.0      0.0      0.0  \n",
      "1119            0.0      0.0      0.0      0.0      0.0      0.0      0.0  \n",
      "1137            0.0      0.0      0.0      0.0      0.0      0.0      0.0  \n",
      "1141            0.0      0.0      0.0      0.0      0.0      0.0      0.0  \n",
      "1204            0.0      0.0      0.0      0.0      0.0      0.0      0.0  \n",
      "1279            0.0      0.0      0.0      0.0      0.0      0.0      0.0  \n",
      "1400            0.0      0.0      0.0      0.0      0.0      0.0      0.0  \n",
      "1502            0.0      0.0      0.0      0.0      0.0      0.0      0.0  \n",
      "1637            0.0      0.0      0.0      0.0      0.0      0.0      0.0  \n",
      "1677            0.0      0.0      0.0      0.0      0.0      0.0      0.0  \n",
      "1818            0.0      0.0      0.0      0.0      0.0      0.0      0.0  \n",
      "2076            0.0      0.0      0.0      0.0      0.0      0.0      0.0  \n",
      "2379            0.0      0.0      0.0      0.0      0.0      0.0      0.0  \n",
      "2700            0.0      0.0      0.0      0.0      0.0      0.0      0.0  \n",
      "4595            0.0      0.0      0.0      0.0      0.0      0.0      0.0  \n",
      "5111            0.0      0.0      0.0      0.0      0.0      0.0      0.0  \n",
      "5675            0.0      0.0      0.0      0.0      0.0      0.0      0.0  \n",
      "7847            0.0      0.0      0.0      0.0      0.0      0.0      0.0  \n",
      "\n",
      "[410 rows x 1908 columns]\n",
      "[[0.01680349 0.01680349 0.01680349 0.01680349 0.01680349]\n",
      " [0.00282196 0.00282196 0.00282196 0.00282196 0.00282196]\n",
      " [0.00436121 0.00436121 0.00436121 0.00436121 0.00436121]\n",
      " ...\n",
      " [0.01475115 0.01475115 0.01475115 0.01475115 0.01475115]\n",
      " [0.09043099 0.09043099 0.09043099 0.09043099 0.09043099]\n",
      " [0.00243715 0.00243715 0.00243715 0.00243715 0.00243715]]\n"
     ]
    },
    {
     "name": "stderr",
     "output_type": "stream",
     "text": [
      "C:\\Users\\dixon\\Anaconda3\\lib\\site-packages\\sklearn\\preprocessing\\data.py:334: DataConversionWarning: Data with input dtype int64 were all converted to float64 by MinMaxScaler.\n",
      "  return self.partial_fit(X, y)\n"
     ]
    }
   ],
   "source": [
    "cluster1 = df_clean.pivot_table(index='StockCode', columns='CustomerID', values='Quantity', aggfunc = np.sum).fillna(value=0)\n",
    "cluster1_minmax = MinMaxScaler().fit_transform(df_clean)\n",
    "print(cluster1)\n",
    "print(cluster1_minmax)"
   ]
  },
  {
   "cell_type": "markdown",
   "metadata": {},
   "source": [
    "## Figured out the optimal k (number of clusters) for the DataFrame. "
   ]
  },
  {
   "cell_type": "code",
   "execution_count": 245,
   "metadata": {},
   "outputs": [],
   "source": [
    "Sum_of_squared = []\n",
    "K = range(1,20)\n",
    "for k in K:\n",
    "    km = KMeans(n_clusters=k)\n",
    "    km = km.fit(cluster1_minmax)\n",
    "    Sum_of_squared.append(km.inertia_)"
   ]
  },
  {
   "cell_type": "code",
   "execution_count": 246,
   "metadata": {},
   "outputs": [
    {
     "data": {
      "image/png": "[encoded data removed]",
      "text/plain": [
       "<Figure size 432x288 with 1 Axes>"
      ]
     },
     "metadata": {
      "needs_background": "light"
     },
     "output_type": "display_data"
    }
   ],
   "source": [
    "plt.plot(K, Sum_of_squared, 'bx-')\n",
    "plt.xlabel('k')\n",
    "plt.ylabel('Sum_of_squares')\n",
    "plt.title('Elbow Method For Optimal k')\n",
    "plt.show()"
   ]
  },
  {
   "cell_type": "markdown",
   "metadata": {},
   "source": [
    "## Created a DataFrame that indexed the CustomerID and used StockCode the Columns where we figured the values to be the Quantity shared between them. After, we normalized the data."
   ]
  },
  {
   "cell_type": "code",
   "execution_count": 249,
   "metadata": {},
   "outputs": [
    {
     "name": "stdout",
     "output_type": "stream",
     "text": [
      "[[0.01680349 0.01680349 0.01680349 0.01680349 0.01680349]\n",
      " [0.00282196 0.00282196 0.00282196 0.00282196 0.00282196]\n",
      " [0.00436121 0.00436121 0.00436121 0.00436121 0.00436121]\n",
      " ...\n",
      " [0.01475115 0.01475115 0.01475115 0.01475115 0.01475115]\n",
      " [0.09043099 0.09043099 0.09043099 0.09043099 0.09043099]\n",
      " [0.00243715 0.00243715 0.00243715 0.00243715 0.00243715]]\n"
     ]
    },
    {
     "name": "stderr",
     "output_type": "stream",
     "text": [
      "C:\\Users\\dixon\\Anaconda3\\lib\\site-packages\\sklearn\\preprocessing\\data.py:334: DataConversionWarning: Data with input dtype int64 were all converted to float64 by MinMaxScaler.\n",
      "  return self.partial_fit(X, y)\n"
     ]
    }
   ],
   "source": [
    "cluster2 = df_clean.pivot_table(index='CustomerID', columns='StockCode', values='Quantity', aggfunc = np.sum).fillna(value=0)\n",
    "cluster2_minmax = MinMaxScaler().fit_transform(df_clean)\n",
    "print(cluster1_minmax)"
   ]
  },
  {
   "cell_type": "markdown",
   "metadata": {},
   "source": [
    "## Figured out the optimal k (number of clusters) for the DataFrame. "
   ]
  },
  {
   "cell_type": "code",
   "execution_count": 252,
   "metadata": {},
   "outputs": [],
   "source": [
    "Sum_of_squared = []\n",
    "K = range(1,20)\n",
    "for k in K:\n",
    "    km = KMeans(n_clusters=k)\n",
    "    km = km.fit(cluster2_minmax)\n",
    "    Sum_of_squared.append(km.inertia_)"
   ]
  },
  {
   "cell_type": "code",
   "execution_count": 253,
   "metadata": {},
   "outputs": [
    {
     "data": {
      "image/png": "[encoded data removed]",
      "text/plain": [
       "<Figure size 432x288 with 1 Axes>"
      ]
     },
     "metadata": {
      "needs_background": "light"
     },
     "output_type": "display_data"
    }
   ],
   "source": [
    "plt.plot(K, Sum_of_squared, 'bx-')\n",
    "plt.xlabel('k')\n",
    "plt.ylabel('Sum_of_squares')\n",
    "plt.title('Elbow Method For Optimal k')\n",
    "plt.show()"
   ]
  },
  {
   "cell_type": "markdown",
   "metadata": {},
   "source": [
    "### From observations above, our optimal k=7. "
   ]
  }
 ],
 "metadata": {
  "kernelspec": {
   "display_name": "Python 3",
   "language": "python",
   "name": "python3"
  }
 },
 "nbformat": 4,
 "nbformat_minor": 2
}
